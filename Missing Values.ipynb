{
 "cells": [
  {
   "cell_type": "code",
   "execution_count": 1,
   "id": "0c950b62",
   "metadata": {},
   "outputs": [
    {
     "name": "stdout",
     "output_type": "stream",
     "text": [
      "Requirement already satisfied: google-api-python-client in c:\\users\\cmigu\\appdata\\roaming\\python\\python39\\site-packages (2.86.0)\n",
      "Requirement already satisfied: google-auth-httplib2>=0.1.0 in c:\\users\\cmigu\\appdata\\roaming\\python\\python39\\site-packages (from google-api-python-client) (0.1.0)\n",
      "Requirement already satisfied: httplib2<1dev,>=0.15.0 in c:\\users\\cmigu\\appdata\\roaming\\python\\python39\\site-packages (from google-api-python-client) (0.22.0)\n",
      "Requirement already satisfied: uritemplate<5,>=3.0.1 in c:\\users\\cmigu\\appdata\\roaming\\python\\python39\\site-packages (from google-api-python-client) (4.1.1)\n",
      "Requirement already satisfied: google-api-core!=2.0.*,!=2.1.*,!=2.2.*,!=2.3.0,<3.0.0dev,>=1.31.5 in c:\\users\\cmigu\\appdata\\roaming\\python\\python39\\site-packages (from google-api-python-client) (2.11.0)\n",
      "Requirement already satisfied: google-auth<3.0.0dev,>=1.19.0 in c:\\users\\cmigu\\appdata\\roaming\\python\\python39\\site-packages (from google-api-python-client) (2.17.3)\n",
      "Requirement already satisfied: requests<3.0.0dev,>=2.18.0 in c:\\users\\cmigu\\anaconda3\\lib\\site-packages (from google-api-core!=2.0.*,!=2.1.*,!=2.2.*,!=2.3.0,<3.0.0dev,>=1.31.5->google-api-python-client) (2.28.1)\n",
      "Requirement already satisfied: googleapis-common-protos<2.0dev,>=1.56.2 in c:\\users\\cmigu\\appdata\\roaming\\python\\python39\\site-packages (from google-api-core!=2.0.*,!=2.1.*,!=2.2.*,!=2.3.0,<3.0.0dev,>=1.31.5->google-api-python-client) (1.59.0)\n",
      "Requirement already satisfied: protobuf!=3.20.0,!=3.20.1,!=4.21.0,!=4.21.1,!=4.21.2,!=4.21.3,!=4.21.4,!=4.21.5,<5.0.0dev,>=3.19.5 in c:\\users\\cmigu\\anaconda3\\lib\\site-packages (from google-api-core!=2.0.*,!=2.1.*,!=2.2.*,!=2.3.0,<3.0.0dev,>=1.31.5->google-api-python-client) (4.21.12)\n",
      "Requirement already satisfied: rsa<5,>=3.1.4 in c:\\users\\cmigu\\appdata\\roaming\\python\\python39\\site-packages (from google-auth<3.0.0dev,>=1.19.0->google-api-python-client) (4.9)\n",
      "Requirement already satisfied: six>=1.9.0 in c:\\users\\cmigu\\anaconda3\\lib\\site-packages (from google-auth<3.0.0dev,>=1.19.0->google-api-python-client) (1.16.0)\n",
      "Requirement already satisfied: cachetools<6.0,>=2.0.0 in c:\\users\\cmigu\\appdata\\roaming\\python\\python39\\site-packages (from google-auth<3.0.0dev,>=1.19.0->google-api-python-client) (5.3.0)\n",
      "Requirement already satisfied: pyasn1-modules>=0.2.1 in c:\\users\\cmigu\\anaconda3\\lib\\site-packages (from google-auth<3.0.0dev,>=1.19.0->google-api-python-client) (0.2.8)\n",
      "Requirement already satisfied: pyparsing!=3.0.0,!=3.0.1,!=3.0.2,!=3.0.3,<4,>=2.4.2 in c:\\users\\cmigu\\anaconda3\\lib\\site-packages (from httplib2<1dev,>=0.15.0->google-api-python-client) (3.0.9)\n",
      "Requirement already satisfied: pyasn1<0.5.0,>=0.4.6 in c:\\users\\cmigu\\anaconda3\\lib\\site-packages (from pyasn1-modules>=0.2.1->google-auth<3.0.0dev,>=1.19.0->google-api-python-client) (0.4.8)\n",
      "Requirement already satisfied: idna<4,>=2.5 in c:\\users\\cmigu\\anaconda3\\lib\\site-packages (from requests<3.0.0dev,>=2.18.0->google-api-core!=2.0.*,!=2.1.*,!=2.2.*,!=2.3.0,<3.0.0dev,>=1.31.5->google-api-python-client) (3.3)\n",
      "Requirement already satisfied: certifi>=2017.4.17 in c:\\users\\cmigu\\anaconda3\\lib\\site-packages (from requests<3.0.0dev,>=2.18.0->google-api-core!=2.0.*,!=2.1.*,!=2.2.*,!=2.3.0,<3.0.0dev,>=1.31.5->google-api-python-client) (2022.9.14)\n",
      "Requirement already satisfied: urllib3<1.27,>=1.21.1 in c:\\users\\cmigu\\anaconda3\\lib\\site-packages (from requests<3.0.0dev,>=2.18.0->google-api-core!=2.0.*,!=2.1.*,!=2.2.*,!=2.3.0,<3.0.0dev,>=1.31.5->google-api-python-client) (1.26.11)\n",
      "Requirement already satisfied: charset-normalizer<3,>=2 in c:\\users\\cmigu\\anaconda3\\lib\\site-packages (from requests<3.0.0dev,>=2.18.0->google-api-core!=2.0.*,!=2.1.*,!=2.2.*,!=2.3.0,<3.0.0dev,>=1.31.5->google-api-python-client) (2.0.4)\n"
     ]
    }
   ],
   "source": [
    "!pip install --user --upgrade google-api-python-client"
   ]
  },
  {
   "cell_type": "code",
   "execution_count": null,
   "id": "6ae5bf62",
   "metadata": {},
   "outputs": [],
   "source": [
    "pip install xgboost"
   ]
  },
  {
   "cell_type": "code",
   "execution_count": 2,
   "id": "902df135",
   "metadata": {},
   "outputs": [],
   "source": [
    "import pandas as pd\n",
    "import seaborn as sns\n",
    "import matplotlib.pyplot as plt\n",
    "import matplotlib.ticker as ticker\n",
    "import missingno as msno \n",
    "import numpy as np\n",
    "#import pandas_gbq\n",
    "from google.cloud import bigquery\n",
    "from functions import *\n",
    "from sklearn.model_selection import train_test_split\n",
    "\n",
    "%reload_ext google.cloud.bigquery\n",
    "# Set your default project here\n",
    "#pandas_gbq.context.project = 'bigquery-public-data'\n",
    "#pandas_gbq.context.dialect = 'standard'\n",
    "# set display options to show all columns\n",
    "pd.set_option('display.max_columns', None)\n",
    "# Set the float format to display numbers without scientific notation\n",
    "pd.options.display.float_format = '{:.2f}'.format\n",
    "# Set the client for future queries to BigQuery\n",
    "client = bigquery.Client(project = \"continente-lced-feup\")"
   ]
  },
  {
   "cell_type": "code",
   "execution_count": 3,
   "id": "69c427f8",
   "metadata": {},
   "outputs": [
    {
     "name": "stderr",
     "output_type": "stream",
     "text": [
      "Your browser has been opened to visit:\n",
      "\n",
      "    https://accounts.google.com/o/oauth2/auth?response_type=code&client_id=764086051850-6qr4p6gpi6hn506pt8ejuq83di341hur.apps.googleusercontent.com&redirect_uri=http%3A%2F%2Flocalhost%3A8085%2F&scope=openid+https%3A%2F%2Fwww.googleapis.com%2Fauth%2Fuserinfo.email+https%3A%2F%2Fwww.googleapis.com%2Fauth%2Fcloud-platform+https%3A%2F%2Fwww.googleapis.com%2Fauth%2Fsqlservice.login+https%3A%2F%2Fwww.googleapis.com%2Fauth%2Faccounts.reauth&state=oj0nBzBVKwwRKktBqXbPXMKb62OBeU&access_type=offline&code_challenge=zPxVcfUcbIjRGACfsqDUcLgaGthTsYCPNHowGGKF3wE&code_challenge_method=S256\n",
      "\n",
      "\n",
      "Credentials saved to file: [C:\\Users\\cmigu\\AppData\\Roaming\\gcloud\\application_default_credentials.json]\n",
      "\n",
      "These credentials will be used by any library that requests Application Default Credentials (ADC).\n",
      "\n",
      "Quota project \"continente-lced-feup\" was added to ADC which can be used by Google client libraries for billing and quota. Note that some services may still bill the project owning the resource.\n"
     ]
    }
   ],
   "source": [
    "!gcloud auth application-default login"
   ]
  },
  {
   "cell_type": "code",
   "execution_count": 4,
   "id": "25f4d0cd",
   "metadata": {},
   "outputs": [
    {
     "data": {
      "text/html": [
       "<div>\n",
       "<style scoped>\n",
       "    .dataframe tbody tr th:only-of-type {\n",
       "        vertical-align: middle;\n",
       "    }\n",
       "\n",
       "    .dataframe tbody tr th {\n",
       "        vertical-align: top;\n",
       "    }\n",
       "\n",
       "    .dataframe thead th {\n",
       "        text-align: right;\n",
       "    }\n",
       "</style>\n",
       "<table border=\"1\" class=\"dataframe\">\n",
       "  <thead>\n",
       "    <tr style=\"text-align: right;\">\n",
       "      <th></th>\n",
       "      <th>SKU</th>\n",
       "      <th>CUSTOMER_ACCOUNT_NR_MASK</th>\n",
       "      <th>GENDER</th>\n",
       "      <th>FAMILY_MEMBERS</th>\n",
       "      <th>CP4</th>\n",
       "      <th>seg_lifestyle_cd</th>\n",
       "      <th>seg_lifestyle_dsc</th>\n",
       "      <th>SEG_AGE</th>\n",
       "      <th>SEG_AGE_DSC</th>\n",
       "      <th>seg_lifestage_cd</th>\n",
       "      <th>seg_lifestage_dsc</th>\n",
       "      <th>TIME_KEY</th>\n",
       "      <th>TRANSACTION_ID_MASK</th>\n",
       "      <th>LOC_BRAND_CD</th>\n",
       "      <th>LOCATION_CD</th>\n",
       "      <th>POS_TP_CD</th>\n",
       "      <th>PRODUCT_KEY</th>\n",
       "      <th>QTY</th>\n",
       "      <th>NET_SLS_AMT</th>\n",
       "      <th>GROSS_SLS_AMT</th>\n",
       "      <th>PROD_DSCNT_ISSUED_AMT</th>\n",
       "      <th>TRANS_DSCNT_RAT_AMT</th>\n",
       "      <th>DIRECT_DSCNT_AMT</th>\n",
       "      <th>PRODUCT_DSC</th>\n",
       "      <th>UNIT_BASE_CD_EXT</th>\n",
       "      <th>UNIT_BASE_DSC_EXT</th>\n",
       "      <th>SUBCAT_CD_EXT</th>\n",
       "      <th>SUBCAT_DSC_EXT</th>\n",
       "      <th>CAT_CD_EXT</th>\n",
       "      <th>CAT_DSC_EXT</th>\n",
       "      <th>BIZ_UNIT_CD_EXT</th>\n",
       "      <th>BIZ_UNIT_DSC_EXT</th>\n",
       "      <th>DEPARTMENT_CD_EXT</th>\n",
       "      <th>DEPARTMENT_DSC_EXT</th>\n",
       "      <th>PRODUCT_SHORT_DSC</th>\n",
       "      <th>BRAND_DSC</th>\n",
       "      <th>BRAND_TYPE_CD</th>\n",
       "      <th>PRICE_RANGE</th>\n",
       "      <th>CONVERSION_FACTOR</th>\n",
       "      <th>CAPACITY_UNIT</th>\n",
       "    </tr>\n",
       "  </thead>\n",
       "  <tbody>\n",
       "    <tr>\n",
       "      <th>0</th>\n",
       "      <td>7306234</td>\n",
       "      <td>133624448</td>\n",
       "      <td>F</td>\n",
       "      <td>&lt;NA&gt;</td>\n",
       "      <td>2655</td>\n",
       "      <td>4</td>\n",
       "      <td>Sem Valor</td>\n",
       "      <td>SA_3</td>\n",
       "      <td>]25;35]</td>\n",
       "      <td>6</td>\n",
       "      <td>No Value</td>\n",
       "      <td>20221230</td>\n",
       "      <td>9137229766514943068</td>\n",
       "      <td>302</td>\n",
       "      <td>4321</td>\n",
       "      <td>P</td>\n",
       "      <td>7306234010001</td>\n",
       "      <td>1.00</td>\n",
       "      <td>2.66</td>\n",
       "      <td>3.27</td>\n",
       "      <td>0.00</td>\n",
       "      <td>0.00</td>\n",
       "      <td>3.27</td>\n",
       "      <td>GEL BANHO NALLY AZEITONA E MEL 500 ML</td>\n",
       "      <td>5030302</td>\n",
       "      <td>05030302 - 300 Ml A 500 Ml</td>\n",
       "      <td>50303</td>\n",
       "      <td>050303 - gel de banho</td>\n",
       "      <td>503</td>\n",
       "      <td>0503 - higiene corporal</td>\n",
       "      <td>5</td>\n",
       "      <td>05 - Higiene</td>\n",
       "      <td>10</td>\n",
       "      <td>10 - ALIMENTAR</td>\n",
       "      <td>GB NALLY AZ&amp;M</td>\n",
       "      <td>NALLY</td>\n",
       "      <td>MF</td>\n",
       "      <td>SECUNDARIA</td>\n",
       "      <td>0.50</td>\n",
       "      <td>LT</td>\n",
       "    </tr>\n",
       "    <tr>\n",
       "      <th>1</th>\n",
       "      <td>6445378</td>\n",
       "      <td>133624448</td>\n",
       "      <td>F</td>\n",
       "      <td>&lt;NA&gt;</td>\n",
       "      <td>2655</td>\n",
       "      <td>4</td>\n",
       "      <td>Sem Valor</td>\n",
       "      <td>SA_3</td>\n",
       "      <td>]25;35]</td>\n",
       "      <td>6</td>\n",
       "      <td>No Value</td>\n",
       "      <td>20221230</td>\n",
       "      <td>9137229766514943068</td>\n",
       "      <td>302</td>\n",
       "      <td>4321</td>\n",
       "      <td>P</td>\n",
       "      <td>6445378010001</td>\n",
       "      <td>1.00</td>\n",
       "      <td>3.24</td>\n",
       "      <td>3.99</td>\n",
       "      <td>0.00</td>\n",
       "      <td>0.00</td>\n",
       "      <td>0.00</td>\n",
       "      <td>PH CONTINENTE 3F DECO 12 ROLOS</td>\n",
       "      <td>6040102</td>\n",
       "      <td>06040102 - Ph Folha Tripla</td>\n",
       "      <td>60401</td>\n",
       "      <td>060401 - papel higiénico</td>\n",
       "      <td>604</td>\n",
       "      <td>0604 - prod papel e consum.</td>\n",
       "      <td>6</td>\n",
       "      <td>06 - Limpeza do Lar</td>\n",
       "      <td>10</td>\n",
       "      <td>10 - ALIMENTAR</td>\n",
       "      <td>PAP HIG CNT 12R</td>\n",
       "      <td>CONTINENTE</td>\n",
       "      <td>MP</td>\n",
       "      <td>PROPRIA</td>\n",
       "      <td>12.00</td>\n",
       "      <td>UN</td>\n",
       "    </tr>\n",
       "    <tr>\n",
       "      <th>2</th>\n",
       "      <td>6457031</td>\n",
       "      <td>133586350</td>\n",
       "      <td>M</td>\n",
       "      <td>&lt;NA&gt;</td>\n",
       "      <td>3800</td>\n",
       "      <td>4</td>\n",
       "      <td>Sem Valor</td>\n",
       "      <td>SA_3</td>\n",
       "      <td>]25;35]</td>\n",
       "      <td>6</td>\n",
       "      <td>No Value</td>\n",
       "      <td>20221208</td>\n",
       "      <td>9080135211944474496</td>\n",
       "      <td>302</td>\n",
       "      <td>3603</td>\n",
       "      <td>P</td>\n",
       "      <td>6457031010001</td>\n",
       "      <td>2.00</td>\n",
       "      <td>4.86</td>\n",
       "      <td>5.98</td>\n",
       "      <td>0.00</td>\n",
       "      <td>0.00</td>\n",
       "      <td>0.00</td>\n",
       "      <td>CERV. C/ALC. TP GUTBIER 6*33CL</td>\n",
       "      <td>3030104</td>\n",
       "      <td>03030104 - Medias  - TP</td>\n",
       "      <td>30301</td>\n",
       "      <td>030301 - cerv.branca nacional</td>\n",
       "      <td>303</td>\n",
       "      <td>0303 - cervejas</td>\n",
       "      <td>3</td>\n",
       "      <td>03 - Soft Drinks</td>\n",
       "      <td>10</td>\n",
       "      <td>10 - ALIMENTAR</td>\n",
       "      <td>CERV GUT 6*33CL</td>\n",
       "      <td>GUTBIER</td>\n",
       "      <td>MP</td>\n",
       "      <td>PROPRIA</td>\n",
       "      <td>1.98</td>\n",
       "      <td>LT</td>\n",
       "    </tr>\n",
       "    <tr>\n",
       "      <th>3</th>\n",
       "      <td>2210961</td>\n",
       "      <td>133586350</td>\n",
       "      <td>M</td>\n",
       "      <td>&lt;NA&gt;</td>\n",
       "      <td>3800</td>\n",
       "      <td>4</td>\n",
       "      <td>Sem Valor</td>\n",
       "      <td>SA_3</td>\n",
       "      <td>]25;35]</td>\n",
       "      <td>6</td>\n",
       "      <td>No Value</td>\n",
       "      <td>20221208</td>\n",
       "      <td>9080135211944474496</td>\n",
       "      <td>302</td>\n",
       "      <td>3603</td>\n",
       "      <td>P</td>\n",
       "      <td>2210961010001</td>\n",
       "      <td>2.00</td>\n",
       "      <td>1.72</td>\n",
       "      <td>1.82</td>\n",
       "      <td>0.00</td>\n",
       "      <td>0.00</td>\n",
       "      <td>0.10</td>\n",
       "      <td>LEITE UHT M/G AGROS 1L</td>\n",
       "      <td>8010301</td>\n",
       "      <td>08010301 - Leite Uht MG trad</td>\n",
       "      <td>80103</td>\n",
       "      <td>080103 - leite uht m/g</td>\n",
       "      <td>801</td>\n",
       "      <td>0801 - leites e natas</td>\n",
       "      <td>8</td>\n",
       "      <td>08 - Laticínios/Beb. Veg.</td>\n",
       "      <td>10</td>\n",
       "      <td>10 - ALIMENTAR</td>\n",
       "      <td>L UHT MG AGR 1</td>\n",
       "      <td>AGROS</td>\n",
       "      <td>MF</td>\n",
       "      <td>SECUNDARIA</td>\n",
       "      <td>1.00</td>\n",
       "      <td>LT</td>\n",
       "    </tr>\n",
       "    <tr>\n",
       "      <th>4</th>\n",
       "      <td>2859762</td>\n",
       "      <td>133586350</td>\n",
       "      <td>M</td>\n",
       "      <td>&lt;NA&gt;</td>\n",
       "      <td>3800</td>\n",
       "      <td>4</td>\n",
       "      <td>Sem Valor</td>\n",
       "      <td>SA_3</td>\n",
       "      <td>]25;35]</td>\n",
       "      <td>6</td>\n",
       "      <td>No Value</td>\n",
       "      <td>20221208</td>\n",
       "      <td>9080135211944474496</td>\n",
       "      <td>302</td>\n",
       "      <td>3603</td>\n",
       "      <td>P</td>\n",
       "      <td>2859762010001</td>\n",
       "      <td>1.00</td>\n",
       "      <td>0.80</td>\n",
       "      <td>0.99</td>\n",
       "      <td>0.00</td>\n",
       "      <td>0.00</td>\n",
       "      <td>0.00</td>\n",
       "      <td>FEIJAO PRETO CONTINENTE 520GR</td>\n",
       "      <td>1030302</td>\n",
       "      <td>01030302 - Feijão</td>\n",
       "      <td>10303</td>\n",
       "      <td>010303 - vegetais em conserva</td>\n",
       "      <td>103</td>\n",
       "      <td>0103 - conservas</td>\n",
       "      <td>1</td>\n",
       "      <td>01 - Mercearia Salgada</td>\n",
       "      <td>10</td>\n",
       "      <td>10 - ALIMENTAR</td>\n",
       "      <td>FEIJ PRETO 520</td>\n",
       "      <td>CONTINENTE</td>\n",
       "      <td>MP</td>\n",
       "      <td>?</td>\n",
       "      <td>0.52</td>\n",
       "      <td>KG</td>\n",
       "    </tr>\n",
       "    <tr>\n",
       "      <th>...</th>\n",
       "      <td>...</td>\n",
       "      <td>...</td>\n",
       "      <td>...</td>\n",
       "      <td>...</td>\n",
       "      <td>...</td>\n",
       "      <td>...</td>\n",
       "      <td>...</td>\n",
       "      <td>...</td>\n",
       "      <td>...</td>\n",
       "      <td>...</td>\n",
       "      <td>...</td>\n",
       "      <td>...</td>\n",
       "      <td>...</td>\n",
       "      <td>...</td>\n",
       "      <td>...</td>\n",
       "      <td>...</td>\n",
       "      <td>...</td>\n",
       "      <td>...</td>\n",
       "      <td>...</td>\n",
       "      <td>...</td>\n",
       "      <td>...</td>\n",
       "      <td>...</td>\n",
       "      <td>...</td>\n",
       "      <td>...</td>\n",
       "      <td>...</td>\n",
       "      <td>...</td>\n",
       "      <td>...</td>\n",
       "      <td>...</td>\n",
       "      <td>...</td>\n",
       "      <td>...</td>\n",
       "      <td>...</td>\n",
       "      <td>...</td>\n",
       "      <td>...</td>\n",
       "      <td>...</td>\n",
       "      <td>...</td>\n",
       "      <td>...</td>\n",
       "      <td>...</td>\n",
       "      <td>...</td>\n",
       "      <td>...</td>\n",
       "      <td>...</td>\n",
       "    </tr>\n",
       "    <tr>\n",
       "      <th>4066242</th>\n",
       "      <td>3872611</td>\n",
       "      <td>9450</td>\n",
       "      <td>F</td>\n",
       "      <td>3</td>\n",
       "      <td>3105</td>\n",
       "      <td>2</td>\n",
       "      <td>Família</td>\n",
       "      <td>SA_3</td>\n",
       "      <td>]25;35]</td>\n",
       "      <td>5</td>\n",
       "      <td>Active Adults</td>\n",
       "      <td>20221223</td>\n",
       "      <td>9094127151958532767</td>\n",
       "      <td>303</td>\n",
       "      <td>3886</td>\n",
       "      <td>P</td>\n",
       "      <td>3872611010001</td>\n",
       "      <td>1.00</td>\n",
       "      <td>0.89</td>\n",
       "      <td>1.09</td>\n",
       "      <td>0.00</td>\n",
       "      <td>0.00</td>\n",
       "      <td>0.00</td>\n",
       "      <td>BOL.C/PEPITAS CHOCOLATE CONTINENTE 150G</td>\n",
       "      <td>2030205</td>\n",
       "      <td>02030205 - Cookies</td>\n",
       "      <td>20302</td>\n",
       "      <td>020302 - bolachas indulgentes</td>\n",
       "      <td>203</td>\n",
       "      <td>0203 - bolachas</td>\n",
       "      <td>2</td>\n",
       "      <td>02 - Mercearia Doce</td>\n",
       "      <td>10</td>\n",
       "      <td>10 - ALIMENTAR</td>\n",
       "      <td>COOKIES</td>\n",
       "      <td>CONTINENTE</td>\n",
       "      <td>MP</td>\n",
       "      <td>PROPRIA</td>\n",
       "      <td>0.15</td>\n",
       "      <td>KG</td>\n",
       "    </tr>\n",
       "    <tr>\n",
       "      <th>4066243</th>\n",
       "      <td>5113361</td>\n",
       "      <td>9450</td>\n",
       "      <td>F</td>\n",
       "      <td>3</td>\n",
       "      <td>3105</td>\n",
       "      <td>2</td>\n",
       "      <td>Família</td>\n",
       "      <td>SA_3</td>\n",
       "      <td>]25;35]</td>\n",
       "      <td>5</td>\n",
       "      <td>Active Adults</td>\n",
       "      <td>20221223</td>\n",
       "      <td>9094127151958532767</td>\n",
       "      <td>303</td>\n",
       "      <td>3886</td>\n",
       "      <td>P</td>\n",
       "      <td>5113361010001</td>\n",
       "      <td>1.00</td>\n",
       "      <td>0.80</td>\n",
       "      <td>0.99</td>\n",
       "      <td>0.00</td>\n",
       "      <td>0.00</td>\n",
       "      <td>0.00</td>\n",
       "      <td>ICED TEA LIMÃO CONTINENTE 2LT</td>\n",
       "      <td>3020201</td>\n",
       "      <td>03020201 - Ice Teas Regular</td>\n",
       "      <td>30202</td>\n",
       "      <td>030202 - ice tea</td>\n",
       "      <td>302</td>\n",
       "      <td>0302 - refrigerantes</td>\n",
       "      <td>3</td>\n",
       "      <td>03 - Soft Drinks</td>\n",
       "      <td>10</td>\n",
       "      <td>10 - ALIMENTAR</td>\n",
       "      <td>ICEDTEA LIMAO</td>\n",
       "      <td>CONTINENTE</td>\n",
       "      <td>MP</td>\n",
       "      <td>SECUNDARIA</td>\n",
       "      <td>2.00</td>\n",
       "      <td>LT</td>\n",
       "    </tr>\n",
       "    <tr>\n",
       "      <th>4066244</th>\n",
       "      <td>7234296</td>\n",
       "      <td>9450</td>\n",
       "      <td>F</td>\n",
       "      <td>3</td>\n",
       "      <td>3105</td>\n",
       "      <td>2</td>\n",
       "      <td>Família</td>\n",
       "      <td>SA_3</td>\n",
       "      <td>]25;35]</td>\n",
       "      <td>5</td>\n",
       "      <td>Active Adults</td>\n",
       "      <td>20221223</td>\n",
       "      <td>9094127151958532767</td>\n",
       "      <td>303</td>\n",
       "      <td>3886</td>\n",
       "      <td>P</td>\n",
       "      <td>7234296010001</td>\n",
       "      <td>1.00</td>\n",
       "      <td>0.90</td>\n",
       "      <td>0.95</td>\n",
       "      <td>0.00</td>\n",
       "      <td>0.00</td>\n",
       "      <td>0.00</td>\n",
       "      <td>NATA CULINÁRIA CONTINENTE S/LACT 200ML</td>\n",
       "      <td>8011052</td>\n",
       "      <td>08011052 - nata/chan s/lact</td>\n",
       "      <td>80110</td>\n",
       "      <td>080110 - natas/chantilly</td>\n",
       "      <td>801</td>\n",
       "      <td>0801 - leites e natas</td>\n",
       "      <td>8</td>\n",
       "      <td>08 - Laticínios/Beb. Veg.</td>\n",
       "      <td>10</td>\n",
       "      <td>10 - ALIMENTAR</td>\n",
       "      <td>NATA CUL 200ML</td>\n",
       "      <td>CONT.S/LACTOSE</td>\n",
       "      <td>MP</td>\n",
       "      <td>SECUNDARIA</td>\n",
       "      <td>0.20</td>\n",
       "      <td>LT</td>\n",
       "    </tr>\n",
       "    <tr>\n",
       "      <th>4066245</th>\n",
       "      <td>6597485</td>\n",
       "      <td>9450</td>\n",
       "      <td>F</td>\n",
       "      <td>3</td>\n",
       "      <td>3105</td>\n",
       "      <td>2</td>\n",
       "      <td>Família</td>\n",
       "      <td>SA_3</td>\n",
       "      <td>]25;35]</td>\n",
       "      <td>5</td>\n",
       "      <td>Active Adults</td>\n",
       "      <td>20221223</td>\n",
       "      <td>9094127151958532767</td>\n",
       "      <td>303</td>\n",
       "      <td>3886</td>\n",
       "      <td>P</td>\n",
       "      <td>6597485010002</td>\n",
       "      <td>1.00</td>\n",
       "      <td>1.88</td>\n",
       "      <td>1.99</td>\n",
       "      <td>0.00</td>\n",
       "      <td>0.00</td>\n",
       "      <td>0.00</td>\n",
       "      <td>PENSO HIG EVAX F&amp;S MAXI SEM ALAS 13UN</td>\n",
       "      <td>5020202</td>\n",
       "      <td>05020202 - Pens Menst Supe/Ultr</td>\n",
       "      <td>50202</td>\n",
       "      <td>050202 - prod. hig. feminina</td>\n",
       "      <td>502</td>\n",
       "      <td>0502 - higiene íntima</td>\n",
       "      <td>5</td>\n",
       "      <td>05 - Higiene</td>\n",
       "      <td>10</td>\n",
       "      <td>10 - ALIMENTAR</td>\n",
       "      <td>PENSO HIGI 13UN</td>\n",
       "      <td>EVAX</td>\n",
       "      <td>MF</td>\n",
       "      <td>SECUNDARIA</td>\n",
       "      <td>13.00</td>\n",
       "      <td>UN</td>\n",
       "    </tr>\n",
       "    <tr>\n",
       "      <th>4066246</th>\n",
       "      <td>2104391</td>\n",
       "      <td>9450</td>\n",
       "      <td>F</td>\n",
       "      <td>3</td>\n",
       "      <td>3105</td>\n",
       "      <td>2</td>\n",
       "      <td>Família</td>\n",
       "      <td>SA_3</td>\n",
       "      <td>]25;35]</td>\n",
       "      <td>5</td>\n",
       "      <td>Active Adults</td>\n",
       "      <td>20221223</td>\n",
       "      <td>9094127151958532767</td>\n",
       "      <td>303</td>\n",
       "      <td>3886</td>\n",
       "      <td>P</td>\n",
       "      <td>2104391010001</td>\n",
       "      <td>1.00</td>\n",
       "      <td>2.84</td>\n",
       "      <td>3.49</td>\n",
       "      <td>0.00</td>\n",
       "      <td>0.00</td>\n",
       "      <td>4.00</td>\n",
       "      <td>BOMBONS NESTLÉ CAJA ROJA 200G</td>\n",
       "      <td>2020105</td>\n",
       "      <td>02020105 - Bombons</td>\n",
       "      <td>20201</td>\n",
       "      <td>020201 - chocolates</td>\n",
       "      <td>202</td>\n",
       "      <td>0202 - doçaria</td>\n",
       "      <td>2</td>\n",
       "      <td>02 - Mercearia Doce</td>\n",
       "      <td>10</td>\n",
       "      <td>10 - ALIMENTAR</td>\n",
       "      <td>BOMB NESTLÉ</td>\n",
       "      <td>NESTLE</td>\n",
       "      <td>MF</td>\n",
       "      <td>?</td>\n",
       "      <td>0.20</td>\n",
       "      <td>KG</td>\n",
       "    </tr>\n",
       "  </tbody>\n",
       "</table>\n",
       "<p>4066247 rows × 40 columns</p>\n",
       "</div>"
      ],
      "text/plain": [
       "             SKU  CUSTOMER_ACCOUNT_NR_MASK GENDER  FAMILY_MEMBERS   CP4  \\\n",
       "0        7306234                 133624448      F            <NA>  2655   \n",
       "1        6445378                 133624448      F            <NA>  2655   \n",
       "2        6457031                 133586350      M            <NA>  3800   \n",
       "3        2210961                 133586350      M            <NA>  3800   \n",
       "4        2859762                 133586350      M            <NA>  3800   \n",
       "...          ...                       ...    ...             ...   ...   \n",
       "4066242  3872611                      9450      F               3  3105   \n",
       "4066243  5113361                      9450      F               3  3105   \n",
       "4066244  7234296                      9450      F               3  3105   \n",
       "4066245  6597485                      9450      F               3  3105   \n",
       "4066246  2104391                      9450      F               3  3105   \n",
       "\n",
       "         seg_lifestyle_cd seg_lifestyle_dsc SEG_AGE SEG_AGE_DSC  \\\n",
       "0                       4         Sem Valor    SA_3     ]25;35]   \n",
       "1                       4         Sem Valor    SA_3     ]25;35]   \n",
       "2                       4         Sem Valor    SA_3     ]25;35]   \n",
       "3                       4         Sem Valor    SA_3     ]25;35]   \n",
       "4                       4         Sem Valor    SA_3     ]25;35]   \n",
       "...                   ...               ...     ...         ...   \n",
       "4066242                 2           Família    SA_3     ]25;35]   \n",
       "4066243                 2           Família    SA_3     ]25;35]   \n",
       "4066244                 2           Família    SA_3     ]25;35]   \n",
       "4066245                 2           Família    SA_3     ]25;35]   \n",
       "4066246                 2           Família    SA_3     ]25;35]   \n",
       "\n",
       "         seg_lifestage_cd seg_lifestage_dsc  TIME_KEY  TRANSACTION_ID_MASK  \\\n",
       "0                       6          No Value  20221230  9137229766514943068   \n",
       "1                       6          No Value  20221230  9137229766514943068   \n",
       "2                       6          No Value  20221208  9080135211944474496   \n",
       "3                       6          No Value  20221208  9080135211944474496   \n",
       "4                       6          No Value  20221208  9080135211944474496   \n",
       "...                   ...               ...       ...                  ...   \n",
       "4066242                 5     Active Adults  20221223  9094127151958532767   \n",
       "4066243                 5     Active Adults  20221223  9094127151958532767   \n",
       "4066244                 5     Active Adults  20221223  9094127151958532767   \n",
       "4066245                 5     Active Adults  20221223  9094127151958532767   \n",
       "4066246                 5     Active Adults  20221223  9094127151958532767   \n",
       "\n",
       "         LOC_BRAND_CD  LOCATION_CD POS_TP_CD    PRODUCT_KEY  QTY  NET_SLS_AMT  \\\n",
       "0                 302         4321         P  7306234010001 1.00         2.66   \n",
       "1                 302         4321         P  6445378010001 1.00         3.24   \n",
       "2                 302         3603         P  6457031010001 2.00         4.86   \n",
       "3                 302         3603         P  2210961010001 2.00         1.72   \n",
       "4                 302         3603         P  2859762010001 1.00         0.80   \n",
       "...               ...          ...       ...            ...  ...          ...   \n",
       "4066242           303         3886         P  3872611010001 1.00         0.89   \n",
       "4066243           303         3886         P  5113361010001 1.00         0.80   \n",
       "4066244           303         3886         P  7234296010001 1.00         0.90   \n",
       "4066245           303         3886         P  6597485010002 1.00         1.88   \n",
       "4066246           303         3886         P  2104391010001 1.00         2.84   \n",
       "\n",
       "         GROSS_SLS_AMT  PROD_DSCNT_ISSUED_AMT  TRANS_DSCNT_RAT_AMT  \\\n",
       "0                 3.27                   0.00                 0.00   \n",
       "1                 3.99                   0.00                 0.00   \n",
       "2                 5.98                   0.00                 0.00   \n",
       "3                 1.82                   0.00                 0.00   \n",
       "4                 0.99                   0.00                 0.00   \n",
       "...                ...                    ...                  ...   \n",
       "4066242           1.09                   0.00                 0.00   \n",
       "4066243           0.99                   0.00                 0.00   \n",
       "4066244           0.95                   0.00                 0.00   \n",
       "4066245           1.99                   0.00                 0.00   \n",
       "4066246           3.49                   0.00                 0.00   \n",
       "\n",
       "         DIRECT_DSCNT_AMT                              PRODUCT_DSC  \\\n",
       "0                    3.27    GEL BANHO NALLY AZEITONA E MEL 500 ML   \n",
       "1                    0.00           PH CONTINENTE 3F DECO 12 ROLOS   \n",
       "2                    0.00           CERV. C/ALC. TP GUTBIER 6*33CL   \n",
       "3                    0.10                   LEITE UHT M/G AGROS 1L   \n",
       "4                    0.00            FEIJAO PRETO CONTINENTE 520GR   \n",
       "...                   ...                                      ...   \n",
       "4066242              0.00  BOL.C/PEPITAS CHOCOLATE CONTINENTE 150G   \n",
       "4066243              0.00            ICED TEA LIMÃO CONTINENTE 2LT   \n",
       "4066244              0.00   NATA CULINÁRIA CONTINENTE S/LACT 200ML   \n",
       "4066245              0.00    PENSO HIG EVAX F&S MAXI SEM ALAS 13UN   \n",
       "4066246              4.00            BOMBONS NESTLÉ CAJA ROJA 200G   \n",
       "\n",
       "         UNIT_BASE_CD_EXT                UNIT_BASE_DSC_EXT  SUBCAT_CD_EXT  \\\n",
       "0                 5030302       05030302 - 300 Ml A 500 Ml          50303   \n",
       "1                 6040102       06040102 - Ph Folha Tripla          60401   \n",
       "2                 3030104          03030104 - Medias  - TP          30301   \n",
       "3                 8010301     08010301 - Leite Uht MG trad          80103   \n",
       "4                 1030302                01030302 - Feijão          10303   \n",
       "...                   ...                              ...            ...   \n",
       "4066242           2030205               02030205 - Cookies          20302   \n",
       "4066243           3020201      03020201 - Ice Teas Regular          30202   \n",
       "4066244           8011052      08011052 - nata/chan s/lact          80110   \n",
       "4066245           5020202  05020202 - Pens Menst Supe/Ultr          50202   \n",
       "4066246           2020105               02020105 - Bombons          20201   \n",
       "\n",
       "                        SUBCAT_DSC_EXT  CAT_CD_EXT  \\\n",
       "0                050303 - gel de banho         503   \n",
       "1             060401 - papel higiénico         604   \n",
       "2        030301 - cerv.branca nacional         303   \n",
       "3               080103 - leite uht m/g         801   \n",
       "4        010303 - vegetais em conserva         103   \n",
       "...                                ...         ...   \n",
       "4066242  020302 - bolachas indulgentes         203   \n",
       "4066243               030202 - ice tea         302   \n",
       "4066244       080110 - natas/chantilly         801   \n",
       "4066245   050202 - prod. hig. feminina         502   \n",
       "4066246            020201 - chocolates         202   \n",
       "\n",
       "                         CAT_DSC_EXT  BIZ_UNIT_CD_EXT  \\\n",
       "0            0503 - higiene corporal                5   \n",
       "1        0604 - prod papel e consum.                6   \n",
       "2                    0303 - cervejas                3   \n",
       "3              0801 - leites e natas                8   \n",
       "4                   0103 - conservas                1   \n",
       "...                              ...              ...   \n",
       "4066242              0203 - bolachas                2   \n",
       "4066243         0302 - refrigerantes                3   \n",
       "4066244        0801 - leites e natas                8   \n",
       "4066245        0502 - higiene íntima                5   \n",
       "4066246               0202 - doçaria                2   \n",
       "\n",
       "                  BIZ_UNIT_DSC_EXT  DEPARTMENT_CD_EXT DEPARTMENT_DSC_EXT  \\\n",
       "0                     05 - Higiene                 10     10 - ALIMENTAR   \n",
       "1              06 - Limpeza do Lar                 10     10 - ALIMENTAR   \n",
       "2                 03 - Soft Drinks                 10     10 - ALIMENTAR   \n",
       "3        08 - Laticínios/Beb. Veg.                 10     10 - ALIMENTAR   \n",
       "4           01 - Mercearia Salgada                 10     10 - ALIMENTAR   \n",
       "...                            ...                ...                ...   \n",
       "4066242        02 - Mercearia Doce                 10     10 - ALIMENTAR   \n",
       "4066243           03 - Soft Drinks                 10     10 - ALIMENTAR   \n",
       "4066244  08 - Laticínios/Beb. Veg.                 10     10 - ALIMENTAR   \n",
       "4066245               05 - Higiene                 10     10 - ALIMENTAR   \n",
       "4066246        02 - Mercearia Doce                 10     10 - ALIMENTAR   \n",
       "\n",
       "        PRODUCT_SHORT_DSC       BRAND_DSC BRAND_TYPE_CD PRICE_RANGE  \\\n",
       "0           GB NALLY AZ&M           NALLY            MF  SECUNDARIA   \n",
       "1         PAP HIG CNT 12R      CONTINENTE            MP     PROPRIA   \n",
       "2         CERV GUT 6*33CL         GUTBIER            MP     PROPRIA   \n",
       "3          L UHT MG AGR 1           AGROS            MF  SECUNDARIA   \n",
       "4          FEIJ PRETO 520      CONTINENTE            MP           ?   \n",
       "...                   ...             ...           ...         ...   \n",
       "4066242           COOKIES      CONTINENTE            MP     PROPRIA   \n",
       "4066243     ICEDTEA LIMAO      CONTINENTE            MP  SECUNDARIA   \n",
       "4066244    NATA CUL 200ML  CONT.S/LACTOSE            MP  SECUNDARIA   \n",
       "4066245   PENSO HIGI 13UN            EVAX            MF  SECUNDARIA   \n",
       "4066246       BOMB NESTLÉ          NESTLE            MF           ?   \n",
       "\n",
       "         CONVERSION_FACTOR CAPACITY_UNIT  \n",
       "0                     0.50            LT  \n",
       "1                    12.00            UN  \n",
       "2                     1.98            LT  \n",
       "3                     1.00            LT  \n",
       "4                     0.52            KG  \n",
       "...                    ...           ...  \n",
       "4066242               0.15            KG  \n",
       "4066243               2.00            LT  \n",
       "4066244               0.20            LT  \n",
       "4066245              13.00            UN  \n",
       "4066246               0.20            KG  \n",
       "\n",
       "[4066247 rows x 40 columns]"
      ]
     },
     "execution_count": 4,
     "metadata": {},
     "output_type": "execute_result"
    }
   ],
   "source": [
    "query = client.query(\"\"\"\n",
    "   SELECT *\n",
    "   FROM \n",
    "       tables_raw.dim_customer \n",
    "       JOIN tables_raw.fact_transaction USING(CUSTOMER_ACCOUNT_NR_MASK)\n",
    "       JOIN tables_raw.dim_product USING(SKU)\n",
    "    WHERE \n",
    "        SUBCAT_CD_EXT IN (140304, 50401, 30301, 20201, 10301, 80103, 60102, 60401, 30401, 10101, 100102, 100204, 140204, \n",
    "        20302, 30201, 50203, 90201, 170101, 80404, 50402, 70202, 100201, 80409, 10303, 20306, 80411, 10102, 20305, 60105, 80110, \n",
    "        140301, 30202, 90202, 100101, 80105, 80104, 50202, 50303, 70204, 60306, 80403, 10302, 10201, 80405, 170304, 170303, 80406, \n",
    "        140201, 60302, 30403, 30304, 20204, 170106, 140205, 10204, 60404, 50301, 50302, 20205, 60406, 20301, 80407, 20203, 70201, 100205,\n",
    "        60106, 170302, 50201, 60301, 10205, 30203, 80401, 100202, 30302, 170111, 10202, 70203, 60303, 170109, 60403, 30402, 140302, 30208, 60307, \n",
    "        80107, 50403, 60103, 20307, 60305, 60101, 170307, 80414, 80415, 60405, 20303, 80402, 30204, 30206, 170310, 60304, 140206, 10203, 30205, 60107, \n",
    "        70206, 170108, 90203, 90204, 30207, 140303, 30303, 80408, 140202, 50304, 80101, 170313, 100203, 60402, 170305, 50305, 50404, 20202, 170110, \n",
    "        170105, 170112, 170301, 10206, 10208, 20304, 80102, 70205, 10207, 10305, 170309, 170114, 80111, 90206, 30306, 30305, 140203, 80413) \n",
    "        AND SEG_AGE_DSC = ']25;35]'\n",
    "        AND QTY>=0\n",
    "    ORDER BY \n",
    "        CUSTOMER_ACCOUNT_NR_MASK DESC, TIME_KEY ASC\n",
    "   --LIMIT 1000\n",
    "   \"\"\")\n",
    "\n",
    "df = query.result().to_dataframe() # Wait for the job to complete.\n",
    "df"
   ]
  },
  {
   "cell_type": "code",
   "execution_count": 5,
   "id": "0a3dbabf",
   "metadata": {},
   "outputs": [
    {
     "data": {
      "text/html": [
       "<div>\n",
       "<style scoped>\n",
       "    .dataframe tbody tr th:only-of-type {\n",
       "        vertical-align: middle;\n",
       "    }\n",
       "\n",
       "    .dataframe tbody tr th {\n",
       "        vertical-align: top;\n",
       "    }\n",
       "\n",
       "    .dataframe thead th {\n",
       "        text-align: right;\n",
       "    }\n",
       "</style>\n",
       "<table border=\"1\" class=\"dataframe\">\n",
       "  <thead>\n",
       "    <tr style=\"text-align: right;\">\n",
       "      <th></th>\n",
       "      <th>CUSTOMER_ACCOUNT_NR_MASK</th>\n",
       "      <th>GENDER</th>\n",
       "      <th>FAMILY_MEMBERS</th>\n",
       "      <th>seg_lifestyle_cd</th>\n",
       "      <th>seg_lifestage_cd</th>\n",
       "      <th>TIME_KEY</th>\n",
       "      <th>TRANSACTION_ID_MASK</th>\n",
       "      <th>LOC_BRAND_CD</th>\n",
       "      <th>LOCATION_CD</th>\n",
       "      <th>POS_TP_CD</th>\n",
       "      <th>QTY</th>\n",
       "      <th>GROSS_SLS_AMT</th>\n",
       "      <th>PRODUCT_DSC</th>\n",
       "      <th>UNIT_BASE_CD_EXT</th>\n",
       "      <th>SUBCAT_CD_EXT</th>\n",
       "      <th>CAT_CD_EXT</th>\n",
       "      <th>BIZ_UNIT_CD_EXT</th>\n",
       "      <th>DEPARTMENT_CD_EXT</th>\n",
       "      <th>PRICE_RANGE</th>\n",
       "    </tr>\n",
       "  </thead>\n",
       "  <tbody>\n",
       "    <tr>\n",
       "      <th>0</th>\n",
       "      <td>133624448</td>\n",
       "      <td>F</td>\n",
       "      <td>&lt;NA&gt;</td>\n",
       "      <td>4</td>\n",
       "      <td>6</td>\n",
       "      <td>20221230</td>\n",
       "      <td>9137229766514943068</td>\n",
       "      <td>302</td>\n",
       "      <td>4321</td>\n",
       "      <td>P</td>\n",
       "      <td>1.00</td>\n",
       "      <td>3.27</td>\n",
       "      <td>GEL BANHO NALLY AZEITONA E MEL 500 ML</td>\n",
       "      <td>5030302</td>\n",
       "      <td>50303</td>\n",
       "      <td>503</td>\n",
       "      <td>5</td>\n",
       "      <td>10</td>\n",
       "      <td>SECUNDARIA</td>\n",
       "    </tr>\n",
       "    <tr>\n",
       "      <th>1</th>\n",
       "      <td>133624448</td>\n",
       "      <td>F</td>\n",
       "      <td>&lt;NA&gt;</td>\n",
       "      <td>4</td>\n",
       "      <td>6</td>\n",
       "      <td>20221230</td>\n",
       "      <td>9137229766514943068</td>\n",
       "      <td>302</td>\n",
       "      <td>4321</td>\n",
       "      <td>P</td>\n",
       "      <td>1.00</td>\n",
       "      <td>3.99</td>\n",
       "      <td>PH CONTINENTE 3F DECO 12 ROLOS</td>\n",
       "      <td>6040102</td>\n",
       "      <td>60401</td>\n",
       "      <td>604</td>\n",
       "      <td>6</td>\n",
       "      <td>10</td>\n",
       "      <td>PROPRIA</td>\n",
       "    </tr>\n",
       "    <tr>\n",
       "      <th>2</th>\n",
       "      <td>133586350</td>\n",
       "      <td>M</td>\n",
       "      <td>&lt;NA&gt;</td>\n",
       "      <td>4</td>\n",
       "      <td>6</td>\n",
       "      <td>20221208</td>\n",
       "      <td>9080135211944474496</td>\n",
       "      <td>302</td>\n",
       "      <td>3603</td>\n",
       "      <td>P</td>\n",
       "      <td>2.00</td>\n",
       "      <td>5.98</td>\n",
       "      <td>CERV. C/ALC. TP GUTBIER 6*33CL</td>\n",
       "      <td>3030104</td>\n",
       "      <td>30301</td>\n",
       "      <td>303</td>\n",
       "      <td>3</td>\n",
       "      <td>10</td>\n",
       "      <td>PROPRIA</td>\n",
       "    </tr>\n",
       "    <tr>\n",
       "      <th>3</th>\n",
       "      <td>133586350</td>\n",
       "      <td>M</td>\n",
       "      <td>&lt;NA&gt;</td>\n",
       "      <td>4</td>\n",
       "      <td>6</td>\n",
       "      <td>20221208</td>\n",
       "      <td>9080135211944474496</td>\n",
       "      <td>302</td>\n",
       "      <td>3603</td>\n",
       "      <td>P</td>\n",
       "      <td>2.00</td>\n",
       "      <td>1.82</td>\n",
       "      <td>LEITE UHT M/G AGROS 1L</td>\n",
       "      <td>8010301</td>\n",
       "      <td>80103</td>\n",
       "      <td>801</td>\n",
       "      <td>8</td>\n",
       "      <td>10</td>\n",
       "      <td>SECUNDARIA</td>\n",
       "    </tr>\n",
       "    <tr>\n",
       "      <th>4</th>\n",
       "      <td>133586350</td>\n",
       "      <td>M</td>\n",
       "      <td>&lt;NA&gt;</td>\n",
       "      <td>4</td>\n",
       "      <td>6</td>\n",
       "      <td>20221208</td>\n",
       "      <td>9080135211944474496</td>\n",
       "      <td>302</td>\n",
       "      <td>3603</td>\n",
       "      <td>P</td>\n",
       "      <td>1.00</td>\n",
       "      <td>0.99</td>\n",
       "      <td>FEIJAO PRETO CONTINENTE 520GR</td>\n",
       "      <td>1030302</td>\n",
       "      <td>10303</td>\n",
       "      <td>103</td>\n",
       "      <td>1</td>\n",
       "      <td>10</td>\n",
       "      <td>?</td>\n",
       "    </tr>\n",
       "    <tr>\n",
       "      <th>...</th>\n",
       "      <td>...</td>\n",
       "      <td>...</td>\n",
       "      <td>...</td>\n",
       "      <td>...</td>\n",
       "      <td>...</td>\n",
       "      <td>...</td>\n",
       "      <td>...</td>\n",
       "      <td>...</td>\n",
       "      <td>...</td>\n",
       "      <td>...</td>\n",
       "      <td>...</td>\n",
       "      <td>...</td>\n",
       "      <td>...</td>\n",
       "      <td>...</td>\n",
       "      <td>...</td>\n",
       "      <td>...</td>\n",
       "      <td>...</td>\n",
       "      <td>...</td>\n",
       "      <td>...</td>\n",
       "    </tr>\n",
       "    <tr>\n",
       "      <th>4066242</th>\n",
       "      <td>9450</td>\n",
       "      <td>F</td>\n",
       "      <td>3</td>\n",
       "      <td>2</td>\n",
       "      <td>5</td>\n",
       "      <td>20221223</td>\n",
       "      <td>9094127151958532767</td>\n",
       "      <td>303</td>\n",
       "      <td>3886</td>\n",
       "      <td>P</td>\n",
       "      <td>1.00</td>\n",
       "      <td>1.09</td>\n",
       "      <td>BOL.C/PEPITAS CHOCOLATE CONTINENTE 150G</td>\n",
       "      <td>2030205</td>\n",
       "      <td>20302</td>\n",
       "      <td>203</td>\n",
       "      <td>2</td>\n",
       "      <td>10</td>\n",
       "      <td>PROPRIA</td>\n",
       "    </tr>\n",
       "    <tr>\n",
       "      <th>4066243</th>\n",
       "      <td>9450</td>\n",
       "      <td>F</td>\n",
       "      <td>3</td>\n",
       "      <td>2</td>\n",
       "      <td>5</td>\n",
       "      <td>20221223</td>\n",
       "      <td>9094127151958532767</td>\n",
       "      <td>303</td>\n",
       "      <td>3886</td>\n",
       "      <td>P</td>\n",
       "      <td>1.00</td>\n",
       "      <td>0.99</td>\n",
       "      <td>ICED TEA LIMÃO CONTINENTE 2LT</td>\n",
       "      <td>3020201</td>\n",
       "      <td>30202</td>\n",
       "      <td>302</td>\n",
       "      <td>3</td>\n",
       "      <td>10</td>\n",
       "      <td>SECUNDARIA</td>\n",
       "    </tr>\n",
       "    <tr>\n",
       "      <th>4066244</th>\n",
       "      <td>9450</td>\n",
       "      <td>F</td>\n",
       "      <td>3</td>\n",
       "      <td>2</td>\n",
       "      <td>5</td>\n",
       "      <td>20221223</td>\n",
       "      <td>9094127151958532767</td>\n",
       "      <td>303</td>\n",
       "      <td>3886</td>\n",
       "      <td>P</td>\n",
       "      <td>1.00</td>\n",
       "      <td>0.95</td>\n",
       "      <td>NATA CULINÁRIA CONTINENTE S/LACT 200ML</td>\n",
       "      <td>8011052</td>\n",
       "      <td>80110</td>\n",
       "      <td>801</td>\n",
       "      <td>8</td>\n",
       "      <td>10</td>\n",
       "      <td>SECUNDARIA</td>\n",
       "    </tr>\n",
       "    <tr>\n",
       "      <th>4066245</th>\n",
       "      <td>9450</td>\n",
       "      <td>F</td>\n",
       "      <td>3</td>\n",
       "      <td>2</td>\n",
       "      <td>5</td>\n",
       "      <td>20221223</td>\n",
       "      <td>9094127151958532767</td>\n",
       "      <td>303</td>\n",
       "      <td>3886</td>\n",
       "      <td>P</td>\n",
       "      <td>1.00</td>\n",
       "      <td>1.99</td>\n",
       "      <td>PENSO HIG EVAX F&amp;S MAXI SEM ALAS 13UN</td>\n",
       "      <td>5020202</td>\n",
       "      <td>50202</td>\n",
       "      <td>502</td>\n",
       "      <td>5</td>\n",
       "      <td>10</td>\n",
       "      <td>SECUNDARIA</td>\n",
       "    </tr>\n",
       "    <tr>\n",
       "      <th>4066246</th>\n",
       "      <td>9450</td>\n",
       "      <td>F</td>\n",
       "      <td>3</td>\n",
       "      <td>2</td>\n",
       "      <td>5</td>\n",
       "      <td>20221223</td>\n",
       "      <td>9094127151958532767</td>\n",
       "      <td>303</td>\n",
       "      <td>3886</td>\n",
       "      <td>P</td>\n",
       "      <td>1.00</td>\n",
       "      <td>3.49</td>\n",
       "      <td>BOMBONS NESTLÉ CAJA ROJA 200G</td>\n",
       "      <td>2020105</td>\n",
       "      <td>20201</td>\n",
       "      <td>202</td>\n",
       "      <td>2</td>\n",
       "      <td>10</td>\n",
       "      <td>?</td>\n",
       "    </tr>\n",
       "  </tbody>\n",
       "</table>\n",
       "<p>4066247 rows × 19 columns</p>\n",
       "</div>"
      ],
      "text/plain": [
       "         CUSTOMER_ACCOUNT_NR_MASK GENDER  FAMILY_MEMBERS  seg_lifestyle_cd  \\\n",
       "0                       133624448      F            <NA>                 4   \n",
       "1                       133624448      F            <NA>                 4   \n",
       "2                       133586350      M            <NA>                 4   \n",
       "3                       133586350      M            <NA>                 4   \n",
       "4                       133586350      M            <NA>                 4   \n",
       "...                           ...    ...             ...               ...   \n",
       "4066242                      9450      F               3                 2   \n",
       "4066243                      9450      F               3                 2   \n",
       "4066244                      9450      F               3                 2   \n",
       "4066245                      9450      F               3                 2   \n",
       "4066246                      9450      F               3                 2   \n",
       "\n",
       "         seg_lifestage_cd  TIME_KEY  TRANSACTION_ID_MASK  LOC_BRAND_CD  \\\n",
       "0                       6  20221230  9137229766514943068           302   \n",
       "1                       6  20221230  9137229766514943068           302   \n",
       "2                       6  20221208  9080135211944474496           302   \n",
       "3                       6  20221208  9080135211944474496           302   \n",
       "4                       6  20221208  9080135211944474496           302   \n",
       "...                   ...       ...                  ...           ...   \n",
       "4066242                 5  20221223  9094127151958532767           303   \n",
       "4066243                 5  20221223  9094127151958532767           303   \n",
       "4066244                 5  20221223  9094127151958532767           303   \n",
       "4066245                 5  20221223  9094127151958532767           303   \n",
       "4066246                 5  20221223  9094127151958532767           303   \n",
       "\n",
       "         LOCATION_CD POS_TP_CD  QTY  GROSS_SLS_AMT  \\\n",
       "0               4321         P 1.00           3.27   \n",
       "1               4321         P 1.00           3.99   \n",
       "2               3603         P 2.00           5.98   \n",
       "3               3603         P 2.00           1.82   \n",
       "4               3603         P 1.00           0.99   \n",
       "...              ...       ...  ...            ...   \n",
       "4066242         3886         P 1.00           1.09   \n",
       "4066243         3886         P 1.00           0.99   \n",
       "4066244         3886         P 1.00           0.95   \n",
       "4066245         3886         P 1.00           1.99   \n",
       "4066246         3886         P 1.00           3.49   \n",
       "\n",
       "                                     PRODUCT_DSC  UNIT_BASE_CD_EXT  \\\n",
       "0          GEL BANHO NALLY AZEITONA E MEL 500 ML           5030302   \n",
       "1                 PH CONTINENTE 3F DECO 12 ROLOS           6040102   \n",
       "2                 CERV. C/ALC. TP GUTBIER 6*33CL           3030104   \n",
       "3                         LEITE UHT M/G AGROS 1L           8010301   \n",
       "4                  FEIJAO PRETO CONTINENTE 520GR           1030302   \n",
       "...                                          ...               ...   \n",
       "4066242  BOL.C/PEPITAS CHOCOLATE CONTINENTE 150G           2030205   \n",
       "4066243            ICED TEA LIMÃO CONTINENTE 2LT           3020201   \n",
       "4066244   NATA CULINÁRIA CONTINENTE S/LACT 200ML           8011052   \n",
       "4066245    PENSO HIG EVAX F&S MAXI SEM ALAS 13UN           5020202   \n",
       "4066246            BOMBONS NESTLÉ CAJA ROJA 200G           2020105   \n",
       "\n",
       "         SUBCAT_CD_EXT  CAT_CD_EXT  BIZ_UNIT_CD_EXT  DEPARTMENT_CD_EXT  \\\n",
       "0                50303         503                5                 10   \n",
       "1                60401         604                6                 10   \n",
       "2                30301         303                3                 10   \n",
       "3                80103         801                8                 10   \n",
       "4                10303         103                1                 10   \n",
       "...                ...         ...              ...                ...   \n",
       "4066242          20302         203                2                 10   \n",
       "4066243          30202         302                3                 10   \n",
       "4066244          80110         801                8                 10   \n",
       "4066245          50202         502                5                 10   \n",
       "4066246          20201         202                2                 10   \n",
       "\n",
       "        PRICE_RANGE  \n",
       "0        SECUNDARIA  \n",
       "1           PROPRIA  \n",
       "2           PROPRIA  \n",
       "3        SECUNDARIA  \n",
       "4                 ?  \n",
       "...             ...  \n",
       "4066242     PROPRIA  \n",
       "4066243  SECUNDARIA  \n",
       "4066244  SECUNDARIA  \n",
       "4066245  SECUNDARIA  \n",
       "4066246           ?  \n",
       "\n",
       "[4066247 rows x 19 columns]"
      ]
     },
     "execution_count": 5,
     "metadata": {},
     "output_type": "execute_result"
    }
   ],
   "source": [
    "#Run this query for missing values analysis\n",
    "df = df.drop(columns=['SKU','CAT_DSC_EXT','PROD_DSCNT_ISSUED_AMT','NET_SLS_AMT','TRANS_DSCNT_RAT_AMT','DIRECT_DSCNT_AMT','CP4','seg_lifestyle_dsc',\n",
    "                'SEG_AGE','UNIT_BASE_DSC_EXT','SUBCAT_DSC_EXT','BIZ_UNIT_DSC_EXT','DEPARTMENT_DSC_EXT','SEG_AGE_DSC','seg_lifestage_dsc',\n",
    "                'PRODUCT_SHORT_DSC','BRAND_DSC','BRAND_TYPE_CD','CONVERSION_FACTOR','CAPACITY_UNIT','PRODUCT_KEY'])\n",
    "df"
   ]
  },
  {
   "cell_type": "code",
   "execution_count": 6,
   "id": "05092022",
   "metadata": {},
   "outputs": [],
   "source": [
    "df['time_key'] = pd.to_datetime(df['TIME_KEY'], format='%Y%m%d')\n",
    "df['month_number'] = 24 - ((df['time_key'].dt.year - 2021) * 12 + df['time_key'].dt.month - 1)"
   ]
  },
  {
   "cell_type": "code",
   "execution_count": 7,
   "id": "83c8451a",
   "metadata": {},
   "outputs": [],
   "source": [
    "def count_transactions(df):\n",
    "    df['num_transactions'] = df.groupby('CUSTOMER_ACCOUNT_NR_MASK')['TRANSACTION_ID_MASK'].transform('nunique')\n",
    "    return df\n",
    "\n"
   ]
  },
  {
   "cell_type": "code",
   "execution_count": 8,
   "id": "ba435eb4",
   "metadata": {},
   "outputs": [],
   "source": [
    "df = count_transactions(df)"
   ]
  },
  {
   "cell_type": "code",
   "execution_count": 9,
   "id": "09befbea",
   "metadata": {},
   "outputs": [],
   "source": [
    "df.drop_duplicates(subset='CUSTOMER_ACCOUNT_NR_MASK', keep='first', inplace=True)"
   ]
  },
  {
   "cell_type": "code",
   "execution_count": 10,
   "id": "6a8abd4b",
   "metadata": {},
   "outputs": [],
   "source": [
    "df['transactions_per_month'] = np.floor(df['num_transactions'].div(df['month_number'])).astype(int)"
   ]
  },
  {
   "cell_type": "code",
   "execution_count": 11,
   "id": "c4a01b98",
   "metadata": {},
   "outputs": [],
   "source": [
    "df = df.drop(columns=['TRANSACTION_ID_MASK','GROSS_SLS_AMT','PRODUCT_DSC','DEPARTMENT_CD_EXT', 'TIME_KEY'\n",
    "                      ,'PRICE_RANGE','QTY','GROSS_SLS_AMT','UNIT_BASE_CD_EXT','SUBCAT_CD_EXT','CAT_CD_EXT','BIZ_UNIT_CD_EXT'])"
   ]
  },
  {
   "cell_type": "code",
   "execution_count": 12,
   "id": "08eea33a",
   "metadata": {},
   "outputs": [],
   "source": [
    "# create new columns for the day, week, day of the week, month, quarter, and year\n",
    "df['MONTH'] = df['time_key'].dt.month\n",
    "df['QUARTER'] = df['time_key'].dt.quarter\n",
    "df['YEAR'] = df['time_key'].dt.year"
   ]
  },
  {
   "cell_type": "code",
   "execution_count": 13,
   "id": "5f264aaa",
   "metadata": {},
   "outputs": [
    {
     "data": {
      "text/plain": [
       "<AxesSubplot:>"
      ]
     },
     "execution_count": 13,
     "metadata": {},
     "output_type": "execute_result"
    },
    {
     "data": {
      "image/png": "[encoded data removed]",
      "text/plain": [
       "<Figure size 2500x1000 with 3 Axes>"
      ]
     },
     "metadata": {},
     "output_type": "display_data"
    }
   ],
   "source": [
    "# Gives a bar chart of the missing values\n",
    "msno.bar(df)"
   ]
  },
  {
   "cell_type": "code",
   "execution_count": 14,
   "id": "c05c73e4",
   "metadata": {},
   "outputs": [
    {
     "data": {
      "text/plain": [
       "CUSTOMER_ACCOUNT_NR_MASK    False\n",
       "GENDER                       True\n",
       "FAMILY_MEMBERS               True\n",
       "seg_lifestyle_cd            False\n",
       "seg_lifestage_cd            False\n",
       "LOC_BRAND_CD                False\n",
       "LOCATION_CD                 False\n",
       "POS_TP_CD                   False\n",
       "time_key                    False\n",
       "month_number                False\n",
       "num_transactions            False\n",
       "transactions_per_month      False\n",
       "MONTH                       False\n",
       "QUARTER                     False\n",
       "YEAR                        False\n",
       "dtype: bool"
      ]
     },
     "execution_count": 14,
     "metadata": {},
     "output_type": "execute_result"
    }
   ],
   "source": [
    "df.isnull().any()"
   ]
  },
  {
   "cell_type": "code",
   "execution_count": 15,
   "id": "7d337443",
   "metadata": {},
   "outputs": [
    {
     "data": {
      "text/plain": [
       "CUSTOMER_ACCOUNT_NR_MASK       0\n",
       "GENDER                      1241\n",
       "FAMILY_MEMBERS              3070\n",
       "seg_lifestyle_cd               0\n",
       "seg_lifestage_cd               0\n",
       "LOC_BRAND_CD                   0\n",
       "LOCATION_CD                    0\n",
       "POS_TP_CD                      0\n",
       "time_key                       0\n",
       "month_number                   0\n",
       "num_transactions               0\n",
       "transactions_per_month         0\n",
       "MONTH                          0\n",
       "QUARTER                        0\n",
       "YEAR                           0\n",
       "dtype: int64"
      ]
     },
     "execution_count": 15,
     "metadata": {},
     "output_type": "execute_result"
    }
   ],
   "source": [
    "df.isna().sum()"
   ]
  },
  {
   "cell_type": "code",
   "execution_count": 16,
   "id": "ef4e072d",
   "metadata": {},
   "outputs": [
    {
     "data": {
      "text/plain": [
       "MONTH\n",
       "1     220\n",
       "2     101\n",
       "3      83\n",
       "4      68\n",
       "5      96\n",
       "6      94\n",
       "7      59\n",
       "8      74\n",
       "9      88\n",
       "10    115\n",
       "11    113\n",
       "12    130\n",
       "Name: GENDER, dtype: int64"
      ]
     },
     "execution_count": 16,
     "metadata": {},
     "output_type": "execute_result"
    }
   ],
   "source": [
    "df.groupby(['MONTH'])['GENDER'].apply(lambda x: x.isnull().sum())"
   ]
  },
  {
   "cell_type": "code",
   "execution_count": 17,
   "id": "4eed9b50",
   "metadata": {},
   "outputs": [
    {
     "data": {
      "text/plain": [
       "<AxesSubplot:>"
      ]
     },
     "execution_count": 17,
     "metadata": {},
     "output_type": "execute_result"
    },
    {
     "data": {
      "image/png": "[encoded data removed]",
      "text/plain": [
       "<Figure size 2500x1000 with 2 Axes>"
      ]
     },
     "metadata": {},
     "output_type": "display_data"
    }
   ],
   "source": [
    "# Gives positional information of the missing values\n",
    "msno.matrix(df)"
   ]
  },
  {
   "cell_type": "code",
   "execution_count": 18,
   "id": "98a730a4",
   "metadata": {},
   "outputs": [
    {
     "data": {
      "text/plain": [
       "<AxesSubplot:>"
      ]
     },
     "execution_count": 18,
     "metadata": {},
     "output_type": "execute_result"
    },
    {
     "data": {
      "image/png": "[encoded data removed]",
      "text/plain": [
       "<Figure size 2500x1000 with 1 Axes>"
      ]
     },
     "metadata": {},
     "output_type": "display_data"
    }
   ],
   "source": [
    "msno.dendrogram(df)"
   ]
  },
  {
   "cell_type": "code",
   "execution_count": 19,
   "id": "a74f5dd8",
   "metadata": {},
   "outputs": [],
   "source": [
    "df['GENDER'].replace('M', 0,inplace=True)\n",
    "df['GENDER'].replace('F', 1,inplace=True)"
   ]
  },
  {
   "cell_type": "code",
   "execution_count": 20,
   "id": "56d5c743",
   "metadata": {
    "scrolled": false
   },
   "outputs": [
    {
     "data": {
      "text/html": [
       "<div>\n",
       "<style scoped>\n",
       "    .dataframe tbody tr th:only-of-type {\n",
       "        vertical-align: middle;\n",
       "    }\n",
       "\n",
       "    .dataframe tbody tr th {\n",
       "        vertical-align: top;\n",
       "    }\n",
       "\n",
       "    .dataframe thead th {\n",
       "        text-align: right;\n",
       "    }\n",
       "</style>\n",
       "<table border=\"1\" class=\"dataframe\">\n",
       "  <thead>\n",
       "    <tr style=\"text-align: right;\">\n",
       "      <th></th>\n",
       "      <th>CUSTOMER_ACCOUNT_NR_MASK</th>\n",
       "      <th>GENDER</th>\n",
       "      <th>FAMILY_MEMBERS</th>\n",
       "      <th>seg_lifestyle_cd</th>\n",
       "      <th>seg_lifestage_cd</th>\n",
       "      <th>LOC_BRAND_CD</th>\n",
       "      <th>LOCATION_CD</th>\n",
       "      <th>time_key</th>\n",
       "      <th>month_number</th>\n",
       "      <th>num_transactions</th>\n",
       "      <th>transactions_per_month</th>\n",
       "      <th>MONTH</th>\n",
       "      <th>QUARTER</th>\n",
       "      <th>YEAR</th>\n",
       "    </tr>\n",
       "  </thead>\n",
       "  <tbody>\n",
       "    <tr>\n",
       "      <th>0</th>\n",
       "      <td>133624448</td>\n",
       "      <td>1.00</td>\n",
       "      <td>&lt;NA&gt;</td>\n",
       "      <td>4</td>\n",
       "      <td>6</td>\n",
       "      <td>302</td>\n",
       "      <td>4321</td>\n",
       "      <td>2022-12-30</td>\n",
       "      <td>1</td>\n",
       "      <td>1</td>\n",
       "      <td>1</td>\n",
       "      <td>12</td>\n",
       "      <td>4</td>\n",
       "      <td>2022</td>\n",
       "    </tr>\n",
       "    <tr>\n",
       "      <th>2</th>\n",
       "      <td>133586350</td>\n",
       "      <td>0.00</td>\n",
       "      <td>&lt;NA&gt;</td>\n",
       "      <td>4</td>\n",
       "      <td>6</td>\n",
       "      <td>302</td>\n",
       "      <td>3603</td>\n",
       "      <td>2022-12-08</td>\n",
       "      <td>1</td>\n",
       "      <td>2</td>\n",
       "      <td>2</td>\n",
       "      <td>12</td>\n",
       "      <td>4</td>\n",
       "      <td>2022</td>\n",
       "    </tr>\n",
       "    <tr>\n",
       "      <th>11</th>\n",
       "      <td>133537444</td>\n",
       "      <td>0.00</td>\n",
       "      <td>1</td>\n",
       "      <td>4</td>\n",
       "      <td>6</td>\n",
       "      <td>302</td>\n",
       "      <td>4696</td>\n",
       "      <td>2022-12-04</td>\n",
       "      <td>1</td>\n",
       "      <td>1</td>\n",
       "      <td>1</td>\n",
       "      <td>12</td>\n",
       "      <td>4</td>\n",
       "      <td>2022</td>\n",
       "    </tr>\n",
       "    <tr>\n",
       "      <th>15</th>\n",
       "      <td>133329843</td>\n",
       "      <td>1.00</td>\n",
       "      <td>2</td>\n",
       "      <td>4</td>\n",
       "      <td>6</td>\n",
       "      <td>303</td>\n",
       "      <td>261</td>\n",
       "      <td>2022-12-05</td>\n",
       "      <td>1</td>\n",
       "      <td>8</td>\n",
       "      <td>8</td>\n",
       "      <td>12</td>\n",
       "      <td>4</td>\n",
       "      <td>2022</td>\n",
       "    </tr>\n",
       "    <tr>\n",
       "      <th>92</th>\n",
       "      <td>133324441</td>\n",
       "      <td>NaN</td>\n",
       "      <td>&lt;NA&gt;</td>\n",
       "      <td>4</td>\n",
       "      <td>6</td>\n",
       "      <td>303</td>\n",
       "      <td>379</td>\n",
       "      <td>2022-12-30</td>\n",
       "      <td>1</td>\n",
       "      <td>1</td>\n",
       "      <td>1</td>\n",
       "      <td>12</td>\n",
       "      <td>4</td>\n",
       "      <td>2022</td>\n",
       "    </tr>\n",
       "    <tr>\n",
       "      <th>...</th>\n",
       "      <td>...</td>\n",
       "      <td>...</td>\n",
       "      <td>...</td>\n",
       "      <td>...</td>\n",
       "      <td>...</td>\n",
       "      <td>...</td>\n",
       "      <td>...</td>\n",
       "      <td>...</td>\n",
       "      <td>...</td>\n",
       "      <td>...</td>\n",
       "      <td>...</td>\n",
       "      <td>...</td>\n",
       "      <td>...</td>\n",
       "      <td>...</td>\n",
       "    </tr>\n",
       "    <tr>\n",
       "      <th>4065142</th>\n",
       "      <td>44637</td>\n",
       "      <td>1.00</td>\n",
       "      <td>1</td>\n",
       "      <td>3</td>\n",
       "      <td>5</td>\n",
       "      <td>303</td>\n",
       "      <td>1056</td>\n",
       "      <td>2021-03-06</td>\n",
       "      <td>22</td>\n",
       "      <td>9</td>\n",
       "      <td>0</td>\n",
       "      <td>3</td>\n",
       "      <td>1</td>\n",
       "      <td>2021</td>\n",
       "    </tr>\n",
       "    <tr>\n",
       "      <th>4065182</th>\n",
       "      <td>37912</td>\n",
       "      <td>0.00</td>\n",
       "      <td>7</td>\n",
       "      <td>2</td>\n",
       "      <td>4</td>\n",
       "      <td>303</td>\n",
       "      <td>471</td>\n",
       "      <td>2021-01-06</td>\n",
       "      <td>24</td>\n",
       "      <td>130</td>\n",
       "      <td>5</td>\n",
       "      <td>1</td>\n",
       "      <td>1</td>\n",
       "      <td>2021</td>\n",
       "    </tr>\n",
       "    <tr>\n",
       "      <th>4065761</th>\n",
       "      <td>36467</td>\n",
       "      <td>0.00</td>\n",
       "      <td>5</td>\n",
       "      <td>2</td>\n",
       "      <td>4</td>\n",
       "      <td>303</td>\n",
       "      <td>214</td>\n",
       "      <td>2021-01-28</td>\n",
       "      <td>24</td>\n",
       "      <td>34</td>\n",
       "      <td>1</td>\n",
       "      <td>1</td>\n",
       "      <td>1</td>\n",
       "      <td>2021</td>\n",
       "    </tr>\n",
       "    <tr>\n",
       "      <th>4065936</th>\n",
       "      <td>31655</td>\n",
       "      <td>1.00</td>\n",
       "      <td>3</td>\n",
       "      <td>2</td>\n",
       "      <td>4</td>\n",
       "      <td>303</td>\n",
       "      <td>222</td>\n",
       "      <td>2021-01-12</td>\n",
       "      <td>24</td>\n",
       "      <td>44</td>\n",
       "      <td>1</td>\n",
       "      <td>1</td>\n",
       "      <td>1</td>\n",
       "      <td>2021</td>\n",
       "    </tr>\n",
       "    <tr>\n",
       "      <th>4066187</th>\n",
       "      <td>9450</td>\n",
       "      <td>1.00</td>\n",
       "      <td>3</td>\n",
       "      <td>2</td>\n",
       "      <td>5</td>\n",
       "      <td>143</td>\n",
       "      <td>12</td>\n",
       "      <td>2021-02-04</td>\n",
       "      <td>23</td>\n",
       "      <td>15</td>\n",
       "      <td>0</td>\n",
       "      <td>2</td>\n",
       "      <td>1</td>\n",
       "      <td>2021</td>\n",
       "    </tr>\n",
       "  </tbody>\n",
       "</table>\n",
       "<p>11927 rows × 14 columns</p>\n",
       "</div>"
      ],
      "text/plain": [
       "         CUSTOMER_ACCOUNT_NR_MASK  GENDER  FAMILY_MEMBERS  seg_lifestyle_cd  \\\n",
       "0                       133624448    1.00            <NA>                 4   \n",
       "2                       133586350    0.00            <NA>                 4   \n",
       "11                      133537444    0.00               1                 4   \n",
       "15                      133329843    1.00               2                 4   \n",
       "92                      133324441     NaN            <NA>                 4   \n",
       "...                           ...     ...             ...               ...   \n",
       "4065142                     44637    1.00               1                 3   \n",
       "4065182                     37912    0.00               7                 2   \n",
       "4065761                     36467    0.00               5                 2   \n",
       "4065936                     31655    1.00               3                 2   \n",
       "4066187                      9450    1.00               3                 2   \n",
       "\n",
       "         seg_lifestage_cd  LOC_BRAND_CD  LOCATION_CD   time_key  month_number  \\\n",
       "0                       6           302         4321 2022-12-30             1   \n",
       "2                       6           302         3603 2022-12-08             1   \n",
       "11                      6           302         4696 2022-12-04             1   \n",
       "15                      6           303          261 2022-12-05             1   \n",
       "92                      6           303          379 2022-12-30             1   \n",
       "...                   ...           ...          ...        ...           ...   \n",
       "4065142                 5           303         1056 2021-03-06            22   \n",
       "4065182                 4           303          471 2021-01-06            24   \n",
       "4065761                 4           303          214 2021-01-28            24   \n",
       "4065936                 4           303          222 2021-01-12            24   \n",
       "4066187                 5           143           12 2021-02-04            23   \n",
       "\n",
       "         num_transactions  transactions_per_month  MONTH  QUARTER  YEAR  \n",
       "0                       1                       1     12        4  2022  \n",
       "2                       2                       2     12        4  2022  \n",
       "11                      1                       1     12        4  2022  \n",
       "15                      8                       8     12        4  2022  \n",
       "92                      1                       1     12        4  2022  \n",
       "...                   ...                     ...    ...      ...   ...  \n",
       "4065142                 9                       0      3        1  2021  \n",
       "4065182               130                       5      1        1  2021  \n",
       "4065761                34                       1      1        1  2021  \n",
       "4065936                44                       1      1        1  2021  \n",
       "4066187                15                       0      2        1  2021  \n",
       "\n",
       "[11927 rows x 14 columns]"
      ]
     },
     "execution_count": 20,
     "metadata": {},
     "output_type": "execute_result"
    }
   ],
   "source": [
    "df = df.drop(columns=['POS_TP_CD'])\n",
    "df"
   ]
  },
  {
   "cell_type": "code",
   "execution_count": 21,
   "id": "c8eec0a4",
   "metadata": {},
   "outputs": [],
   "source": [
    "df = df.drop(columns=['time_key'])"
   ]
  },
  {
   "cell_type": "code",
   "execution_count": 168,
   "id": "bee36a68",
   "metadata": {},
   "outputs": [],
   "source": [
    "df1 = df\n",
    "df1[['FAMILY_MEMBERS']] = df1[['FAMILY_MEMBERS']].fillna(value=999)"
   ]
  },
  {
   "cell_type": "code",
   "execution_count": 169,
   "id": "d7b13883",
   "metadata": {},
   "outputs": [],
   "source": [
    "testing_data = df1[df1['GENDER'].isnull()]\n",
    "training_data = df1[df1['GENDER'].notnull()]"
   ]
  },
  {
   "cell_type": "markdown",
   "id": "e41e2534",
   "metadata": {},
   "source": [
    "### First we test with data without MV"
   ]
  },
  {
   "cell_type": "code",
   "execution_count": 170,
   "id": "6ade24d9",
   "metadata": {},
   "outputs": [],
   "source": [
    "X_train = training_data.drop(['GENDER'], axis=1)\n",
    "y_train = training_data['GENDER']"
   ]
  },
  {
   "cell_type": "code",
   "execution_count": 171,
   "id": "b9f8a6a8",
   "metadata": {},
   "outputs": [],
   "source": [
    "from sklearn.model_selection import train_test_split"
   ]
  },
  {
   "cell_type": "code",
   "execution_count": 172,
   "id": "4b2a3b6f",
   "metadata": {},
   "outputs": [],
   "source": [
    "X_train, X_test, y_train, y_test = train_test_split(X_train, y_train, test_size=0.30, random_state=21)"
   ]
  },
  {
   "cell_type": "code",
   "execution_count": 180,
   "id": "3baf7d05",
   "metadata": {},
   "outputs": [],
   "source": [
    "error_rate = []\n",
    "# Will take some time\n",
    "for i in range(1,131):\n",
    " \n",
    " knn = KNeighborsClassifier(n_neighbors=i)\n",
    " knn.fit(X_train,y_train)\n",
    " pred_i = knn.predict(X_test)\n",
    " error_rate.append(np.mean(pred_i != y_test))\n",
    "\n"
   ]
  },
  {
   "cell_type": "code",
   "execution_count": 181,
   "id": "e6558289",
   "metadata": {},
   "outputs": [
    {
     "data": {
      "text/plain": [
       "Text(0, 0.5, 'Error Rate')"
      ]
     },
     "execution_count": 181,
     "metadata": {},
     "output_type": "execute_result"
    },
    {
     "data": {
      "image/png": "[encoded data removed]",
      "text/plain": [
       "<Figure size 2000x1100 with 1 Axes>"
      ]
     },
     "metadata": {},
     "output_type": "display_data"
    }
   ],
   "source": [
    "plt.figure(figsize=(20,11))\n",
    "plt.plot(range(1,131),error_rate,color='blue', linestyle='dashed', marker='o', markerfacecolor='red', markersize=10)\n",
    "plt.title('Error Rate vs. K Value')\n",
    "plt.xlabel('K')\n",
    "plt.ylabel('Error Rate')"
   ]
  },
  {
   "cell_type": "code",
   "execution_count": 182,
   "id": "96325dd5",
   "metadata": {},
   "outputs": [
    {
     "name": "stdout",
     "output_type": "stream",
     "text": [
      "              precision    recall  f1-score   support\n",
      "\n",
      "         0.0       0.54      0.29      0.38      1459\n",
      "         1.0       0.63      0.83      0.72      2120\n",
      "\n",
      "    accuracy                           0.61      3579\n",
      "   macro avg       0.58      0.56      0.55      3579\n",
      "weighted avg       0.59      0.61      0.58      3579\n",
      "\n"
     ]
    }
   ],
   "source": [
    "knn = KNeighborsClassifier(n_neighbors=130)\n",
    "knn.fit(X_train, y_train)\n",
    "\n",
    "# Check for Random forest model\n",
    "y_pred_knn = knn.predict(X_test)\n",
    "print(classification_report(y_test, y_pred_knn))"
   ]
  },
  {
   "cell_type": "code",
   "execution_count": 27,
   "id": "72b8342d",
   "metadata": {},
   "outputs": [
    {
     "data": {
      "text/html": [
       "<style>#sk-container-id-1 {color: black;background-color: white;}#sk-container-id-1 pre{padding: 0;}#sk-container-id-1 div.sk-toggleable {background-color: white;}#sk-container-id-1 label.sk-toggleable__label {cursor: pointer;display: block;width: 100%;margin-bottom: 0;padding: 0.3em;box-sizing: border-box;text-align: center;}#sk-container-id-1 label.sk-toggleable__label-arrow:before {content: \"▸\";float: left;margin-right: 0.25em;color: #696969;}#sk-container-id-1 label.sk-toggleable__label-arrow:hover:before {color: black;}#sk-container-id-1 div.sk-estimator:hover label.sk-toggleable__label-arrow:before {color: black;}#sk-container-id-1 div.sk-toggleable__content {max-height: 0;max-width: 0;overflow: hidden;text-align: left;background-color: #f0f8ff;}#sk-container-id-1 div.sk-toggleable__content pre {margin: 0.2em;color: black;border-radius: 0.25em;background-color: #f0f8ff;}#sk-container-id-1 input.sk-toggleable__control:checked~div.sk-toggleable__content {max-height: 200px;max-width: 100%;overflow: auto;}#sk-container-id-1 input.sk-toggleable__control:checked~label.sk-toggleable__label-arrow:before {content: \"▾\";}#sk-container-id-1 div.sk-estimator input.sk-toggleable__control:checked~label.sk-toggleable__label {background-color: #d4ebff;}#sk-container-id-1 div.sk-label input.sk-toggleable__control:checked~label.sk-toggleable__label {background-color: #d4ebff;}#sk-container-id-1 input.sk-hidden--visually {border: 0;clip: rect(1px 1px 1px 1px);clip: rect(1px, 1px, 1px, 1px);height: 1px;margin: -1px;overflow: hidden;padding: 0;position: absolute;width: 1px;}#sk-container-id-1 div.sk-estimator {font-family: monospace;background-color: #f0f8ff;border: 1px dotted black;border-radius: 0.25em;box-sizing: border-box;margin-bottom: 0.5em;}#sk-container-id-1 div.sk-estimator:hover {background-color: #d4ebff;}#sk-container-id-1 div.sk-parallel-item::after {content: \"\";width: 100%;border-bottom: 1px solid gray;flex-grow: 1;}#sk-container-id-1 div.sk-label:hover label.sk-toggleable__label {background-color: #d4ebff;}#sk-container-id-1 div.sk-serial::before {content: \"\";position: absolute;border-left: 1px solid gray;box-sizing: border-box;top: 0;bottom: 0;left: 50%;z-index: 0;}#sk-container-id-1 div.sk-serial {display: flex;flex-direction: column;align-items: center;background-color: white;padding-right: 0.2em;padding-left: 0.2em;position: relative;}#sk-container-id-1 div.sk-item {position: relative;z-index: 1;}#sk-container-id-1 div.sk-parallel {display: flex;align-items: stretch;justify-content: center;background-color: white;position: relative;}#sk-container-id-1 div.sk-item::before, #sk-container-id-1 div.sk-parallel-item::before {content: \"\";position: absolute;border-left: 1px solid gray;box-sizing: border-box;top: 0;bottom: 0;left: 50%;z-index: -1;}#sk-container-id-1 div.sk-parallel-item {display: flex;flex-direction: column;z-index: 1;position: relative;background-color: white;}#sk-container-id-1 div.sk-parallel-item:first-child::after {align-self: flex-end;width: 50%;}#sk-container-id-1 div.sk-parallel-item:last-child::after {align-self: flex-start;width: 50%;}#sk-container-id-1 div.sk-parallel-item:only-child::after {width: 0;}#sk-container-id-1 div.sk-dashed-wrapped {border: 1px dashed gray;margin: 0 0.4em 0.5em 0.4em;box-sizing: border-box;padding-bottom: 0.4em;background-color: white;}#sk-container-id-1 div.sk-label label {font-family: monospace;font-weight: bold;display: inline-block;line-height: 1.2em;}#sk-container-id-1 div.sk-label-container {text-align: center;}#sk-container-id-1 div.sk-container {/* jupyter's `normalize.less` sets `[hidden] { display: none; }` but bootstrap.min.css set `[hidden] { display: none !important; }` so we also need the `!important` here to be able to override the default hidden behavior on the sphinx rendered scikit-learn.org. See: https://github.com/scikit-learn/scikit-learn/issues/21755 */display: inline-block !important;position: relative;}#sk-container-id-1 div.sk-text-repr-fallback {display: none;}</style><div id=\"sk-container-id-1\" class=\"sk-top-container\"><div class=\"sk-text-repr-fallback\"><pre>RandomForestClassifier()</pre><b>In a Jupyter environment, please rerun this cell to show the HTML representation or trust the notebook. <br />On GitHub, the HTML representation is unable to render, please try loading this page with nbviewer.org.</b></div><div class=\"sk-container\" hidden><div class=\"sk-item\"><div class=\"sk-estimator sk-toggleable\"><input class=\"sk-toggleable__control sk-hidden--visually\" id=\"sk-estimator-id-1\" type=\"checkbox\" checked><label for=\"sk-estimator-id-1\" class=\"sk-toggleable__label sk-toggleable__label-arrow\">RandomForestClassifier</label><div class=\"sk-toggleable__content\"><pre>RandomForestClassifier()</pre></div></div></div></div></div>"
      ],
      "text/plain": [
       "RandomForestClassifier()"
      ]
     },
     "execution_count": 27,
     "metadata": {},
     "output_type": "execute_result"
    }
   ],
   "source": [
    "from sklearn.ensemble import RandomForestClassifier\n",
    "#Fit our Logistic Regression\n",
    "rf=RandomForestClassifier()\n",
    "rf.fit(X_train,y_train)"
   ]
  },
  {
   "cell_type": "code",
   "execution_count": 28,
   "id": "77e5690d",
   "metadata": {},
   "outputs": [
    {
     "data": {
      "text/html": [
       "<style>#sk-container-id-2 {color: black;background-color: white;}#sk-container-id-2 pre{padding: 0;}#sk-container-id-2 div.sk-toggleable {background-color: white;}#sk-container-id-2 label.sk-toggleable__label {cursor: pointer;display: block;width: 100%;margin-bottom: 0;padding: 0.3em;box-sizing: border-box;text-align: center;}#sk-container-id-2 label.sk-toggleable__label-arrow:before {content: \"▸\";float: left;margin-right: 0.25em;color: #696969;}#sk-container-id-2 label.sk-toggleable__label-arrow:hover:before {color: black;}#sk-container-id-2 div.sk-estimator:hover label.sk-toggleable__label-arrow:before {color: black;}#sk-container-id-2 div.sk-toggleable__content {max-height: 0;max-width: 0;overflow: hidden;text-align: left;background-color: #f0f8ff;}#sk-container-id-2 div.sk-toggleable__content pre {margin: 0.2em;color: black;border-radius: 0.25em;background-color: #f0f8ff;}#sk-container-id-2 input.sk-toggleable__control:checked~div.sk-toggleable__content {max-height: 200px;max-width: 100%;overflow: auto;}#sk-container-id-2 input.sk-toggleable__control:checked~label.sk-toggleable__label-arrow:before {content: \"▾\";}#sk-container-id-2 div.sk-estimator input.sk-toggleable__control:checked~label.sk-toggleable__label {background-color: #d4ebff;}#sk-container-id-2 div.sk-label input.sk-toggleable__control:checked~label.sk-toggleable__label {background-color: #d4ebff;}#sk-container-id-2 input.sk-hidden--visually {border: 0;clip: rect(1px 1px 1px 1px);clip: rect(1px, 1px, 1px, 1px);height: 1px;margin: -1px;overflow: hidden;padding: 0;position: absolute;width: 1px;}#sk-container-id-2 div.sk-estimator {font-family: monospace;background-color: #f0f8ff;border: 1px dotted black;border-radius: 0.25em;box-sizing: border-box;margin-bottom: 0.5em;}#sk-container-id-2 div.sk-estimator:hover {background-color: #d4ebff;}#sk-container-id-2 div.sk-parallel-item::after {content: \"\";width: 100%;border-bottom: 1px solid gray;flex-grow: 1;}#sk-container-id-2 div.sk-label:hover label.sk-toggleable__label {background-color: #d4ebff;}#sk-container-id-2 div.sk-serial::before {content: \"\";position: absolute;border-left: 1px solid gray;box-sizing: border-box;top: 0;bottom: 0;left: 50%;z-index: 0;}#sk-container-id-2 div.sk-serial {display: flex;flex-direction: column;align-items: center;background-color: white;padding-right: 0.2em;padding-left: 0.2em;position: relative;}#sk-container-id-2 div.sk-item {position: relative;z-index: 1;}#sk-container-id-2 div.sk-parallel {display: flex;align-items: stretch;justify-content: center;background-color: white;position: relative;}#sk-container-id-2 div.sk-item::before, #sk-container-id-2 div.sk-parallel-item::before {content: \"\";position: absolute;border-left: 1px solid gray;box-sizing: border-box;top: 0;bottom: 0;left: 50%;z-index: -1;}#sk-container-id-2 div.sk-parallel-item {display: flex;flex-direction: column;z-index: 1;position: relative;background-color: white;}#sk-container-id-2 div.sk-parallel-item:first-child::after {align-self: flex-end;width: 50%;}#sk-container-id-2 div.sk-parallel-item:last-child::after {align-self: flex-start;width: 50%;}#sk-container-id-2 div.sk-parallel-item:only-child::after {width: 0;}#sk-container-id-2 div.sk-dashed-wrapped {border: 1px dashed gray;margin: 0 0.4em 0.5em 0.4em;box-sizing: border-box;padding-bottom: 0.4em;background-color: white;}#sk-container-id-2 div.sk-label label {font-family: monospace;font-weight: bold;display: inline-block;line-height: 1.2em;}#sk-container-id-2 div.sk-label-container {text-align: center;}#sk-container-id-2 div.sk-container {/* jupyter's `normalize.less` sets `[hidden] { display: none; }` but bootstrap.min.css set `[hidden] { display: none !important; }` so we also need the `!important` here to be able to override the default hidden behavior on the sphinx rendered scikit-learn.org. See: https://github.com/scikit-learn/scikit-learn/issues/21755 */display: inline-block !important;position: relative;}#sk-container-id-2 div.sk-text-repr-fallback {display: none;}</style><div id=\"sk-container-id-2\" class=\"sk-top-container\"><div class=\"sk-text-repr-fallback\"><pre>LogisticRegression()</pre><b>In a Jupyter environment, please rerun this cell to show the HTML representation or trust the notebook. <br />On GitHub, the HTML representation is unable to render, please try loading this page with nbviewer.org.</b></div><div class=\"sk-container\" hidden><div class=\"sk-item\"><div class=\"sk-estimator sk-toggleable\"><input class=\"sk-toggleable__control sk-hidden--visually\" id=\"sk-estimator-id-2\" type=\"checkbox\" checked><label for=\"sk-estimator-id-2\" class=\"sk-toggleable__label sk-toggleable__label-arrow\">LogisticRegression</label><div class=\"sk-toggleable__content\"><pre>LogisticRegression()</pre></div></div></div></div></div>"
      ],
      "text/plain": [
       "LogisticRegression()"
      ]
     },
     "execution_count": 28,
     "metadata": {},
     "output_type": "execute_result"
    }
   ],
   "source": [
    "#Fit our Logistic Regression\n",
    "from sklearn.linear_model import LogisticRegression\n",
    "lr=LogisticRegression()\n",
    "lr.fit(X_train,y_train)"
   ]
  },
  {
   "cell_type": "code",
   "execution_count": 29,
   "id": "36a16bed",
   "metadata": {},
   "outputs": [
    {
     "data": {
      "text/html": [
       "<style>#sk-container-id-3 {color: black;background-color: white;}#sk-container-id-3 pre{padding: 0;}#sk-container-id-3 div.sk-toggleable {background-color: white;}#sk-container-id-3 label.sk-toggleable__label {cursor: pointer;display: block;width: 100%;margin-bottom: 0;padding: 0.3em;box-sizing: border-box;text-align: center;}#sk-container-id-3 label.sk-toggleable__label-arrow:before {content: \"▸\";float: left;margin-right: 0.25em;color: #696969;}#sk-container-id-3 label.sk-toggleable__label-arrow:hover:before {color: black;}#sk-container-id-3 div.sk-estimator:hover label.sk-toggleable__label-arrow:before {color: black;}#sk-container-id-3 div.sk-toggleable__content {max-height: 0;max-width: 0;overflow: hidden;text-align: left;background-color: #f0f8ff;}#sk-container-id-3 div.sk-toggleable__content pre {margin: 0.2em;color: black;border-radius: 0.25em;background-color: #f0f8ff;}#sk-container-id-3 input.sk-toggleable__control:checked~div.sk-toggleable__content {max-height: 200px;max-width: 100%;overflow: auto;}#sk-container-id-3 input.sk-toggleable__control:checked~label.sk-toggleable__label-arrow:before {content: \"▾\";}#sk-container-id-3 div.sk-estimator input.sk-toggleable__control:checked~label.sk-toggleable__label {background-color: #d4ebff;}#sk-container-id-3 div.sk-label input.sk-toggleable__control:checked~label.sk-toggleable__label {background-color: #d4ebff;}#sk-container-id-3 input.sk-hidden--visually {border: 0;clip: rect(1px 1px 1px 1px);clip: rect(1px, 1px, 1px, 1px);height: 1px;margin: -1px;overflow: hidden;padding: 0;position: absolute;width: 1px;}#sk-container-id-3 div.sk-estimator {font-family: monospace;background-color: #f0f8ff;border: 1px dotted black;border-radius: 0.25em;box-sizing: border-box;margin-bottom: 0.5em;}#sk-container-id-3 div.sk-estimator:hover {background-color: #d4ebff;}#sk-container-id-3 div.sk-parallel-item::after {content: \"\";width: 100%;border-bottom: 1px solid gray;flex-grow: 1;}#sk-container-id-3 div.sk-label:hover label.sk-toggleable__label {background-color: #d4ebff;}#sk-container-id-3 div.sk-serial::before {content: \"\";position: absolute;border-left: 1px solid gray;box-sizing: border-box;top: 0;bottom: 0;left: 50%;z-index: 0;}#sk-container-id-3 div.sk-serial {display: flex;flex-direction: column;align-items: center;background-color: white;padding-right: 0.2em;padding-left: 0.2em;position: relative;}#sk-container-id-3 div.sk-item {position: relative;z-index: 1;}#sk-container-id-3 div.sk-parallel {display: flex;align-items: stretch;justify-content: center;background-color: white;position: relative;}#sk-container-id-3 div.sk-item::before, #sk-container-id-3 div.sk-parallel-item::before {content: \"\";position: absolute;border-left: 1px solid gray;box-sizing: border-box;top: 0;bottom: 0;left: 50%;z-index: -1;}#sk-container-id-3 div.sk-parallel-item {display: flex;flex-direction: column;z-index: 1;position: relative;background-color: white;}#sk-container-id-3 div.sk-parallel-item:first-child::after {align-self: flex-end;width: 50%;}#sk-container-id-3 div.sk-parallel-item:last-child::after {align-self: flex-start;width: 50%;}#sk-container-id-3 div.sk-parallel-item:only-child::after {width: 0;}#sk-container-id-3 div.sk-dashed-wrapped {border: 1px dashed gray;margin: 0 0.4em 0.5em 0.4em;box-sizing: border-box;padding-bottom: 0.4em;background-color: white;}#sk-container-id-3 div.sk-label label {font-family: monospace;font-weight: bold;display: inline-block;line-height: 1.2em;}#sk-container-id-3 div.sk-label-container {text-align: center;}#sk-container-id-3 div.sk-container {/* jupyter's `normalize.less` sets `[hidden] { display: none; }` but bootstrap.min.css set `[hidden] { display: none !important; }` so we also need the `!important` here to be able to override the default hidden behavior on the sphinx rendered scikit-learn.org. See: https://github.com/scikit-learn/scikit-learn/issues/21755 */display: inline-block !important;position: relative;}#sk-container-id-3 div.sk-text-repr-fallback {display: none;}</style><div id=\"sk-container-id-3\" class=\"sk-top-container\"><div class=\"sk-text-repr-fallback\"><pre>KNeighborsClassifier()</pre><b>In a Jupyter environment, please rerun this cell to show the HTML representation or trust the notebook. <br />On GitHub, the HTML representation is unable to render, please try loading this page with nbviewer.org.</b></div><div class=\"sk-container\" hidden><div class=\"sk-item\"><div class=\"sk-estimator sk-toggleable\"><input class=\"sk-toggleable__control sk-hidden--visually\" id=\"sk-estimator-id-3\" type=\"checkbox\" checked><label for=\"sk-estimator-id-3\" class=\"sk-toggleable__label sk-toggleable__label-arrow\">KNeighborsClassifier</label><div class=\"sk-toggleable__content\"><pre>KNeighborsClassifier()</pre></div></div></div></div></div>"
      ],
      "text/plain": [
       "KNeighborsClassifier()"
      ]
     },
     "execution_count": 29,
     "metadata": {},
     "output_type": "execute_result"
    }
   ],
   "source": [
    "from sklearn.neighbors import KNeighborsClassifier\n",
    "knn = KNeighborsClassifier()\n",
    "knn.fit(X_train, y_train)"
   ]
  },
  {
   "cell_type": "code",
   "execution_count": 33,
   "id": "5c4d03dc",
   "metadata": {},
   "outputs": [
    {
     "name": "stdout",
     "output_type": "stream",
     "text": [
      "              precision    recall  f1-score   support\n",
      "\n",
      "         0.0       0.00      0.00      0.00      2908\n",
      "         1.0       0.61      1.00      0.76      4572\n",
      "\n",
      "    accuracy                           0.61      7480\n",
      "   macro avg       0.31      0.50      0.38      7480\n",
      "weighted avg       0.37      0.61      0.46      7480\n",
      "\n"
     ]
    },
    {
     "name": "stderr",
     "output_type": "stream",
     "text": [
      "C:\\Users\\cmigu\\anaconda3\\lib\\site-packages\\sklearn\\metrics\\_classification.py:1344: UndefinedMetricWarning: Precision and F-score are ill-defined and being set to 0.0 in labels with no predicted samples. Use `zero_division` parameter to control this behavior.\n",
      "  _warn_prf(average, modifier, msg_start, len(result))\n",
      "C:\\Users\\cmigu\\anaconda3\\lib\\site-packages\\sklearn\\metrics\\_classification.py:1344: UndefinedMetricWarning: Precision and F-score are ill-defined and being set to 0.0 in labels with no predicted samples. Use `zero_division` parameter to control this behavior.\n",
      "  _warn_prf(average, modifier, msg_start, len(result))\n",
      "C:\\Users\\cmigu\\anaconda3\\lib\\site-packages\\sklearn\\metrics\\_classification.py:1344: UndefinedMetricWarning: Precision and F-score are ill-defined and being set to 0.0 in labels with no predicted samples. Use `zero_division` parameter to control this behavior.\n",
      "  _warn_prf(average, modifier, msg_start, len(result))\n"
     ]
    }
   ],
   "source": [
    "# Can get more performance metrics from classification_report\n",
    "from sklearn.metrics import classification_report\n",
    "# Check for Random forest model\n",
    "y_pred_lr = lr.predict(X_train)\n",
    "print(classification_report(y_train, y_pred_lr))"
   ]
  },
  {
   "cell_type": "code",
   "execution_count": 34,
   "id": "1b064938",
   "metadata": {},
   "outputs": [
    {
     "name": "stdout",
     "output_type": "stream",
     "text": [
      "              precision    recall  f1-score   support\n",
      "\n",
      "         0.0       0.00      0.00      0.00      1263\n",
      "         1.0       0.61      1.00      0.75      1943\n",
      "\n",
      "    accuracy                           0.61      3206\n",
      "   macro avg       0.30      0.50      0.38      3206\n",
      "weighted avg       0.37      0.61      0.46      3206\n",
      "\n"
     ]
    },
    {
     "name": "stderr",
     "output_type": "stream",
     "text": [
      "C:\\Users\\cmigu\\anaconda3\\lib\\site-packages\\sklearn\\metrics\\_classification.py:1344: UndefinedMetricWarning: Precision and F-score are ill-defined and being set to 0.0 in labels with no predicted samples. Use `zero_division` parameter to control this behavior.\n",
      "  _warn_prf(average, modifier, msg_start, len(result))\n",
      "C:\\Users\\cmigu\\anaconda3\\lib\\site-packages\\sklearn\\metrics\\_classification.py:1344: UndefinedMetricWarning: Precision and F-score are ill-defined and being set to 0.0 in labels with no predicted samples. Use `zero_division` parameter to control this behavior.\n",
      "  _warn_prf(average, modifier, msg_start, len(result))\n",
      "C:\\Users\\cmigu\\anaconda3\\lib\\site-packages\\sklearn\\metrics\\_classification.py:1344: UndefinedMetricWarning: Precision and F-score are ill-defined and being set to 0.0 in labels with no predicted samples. Use `zero_division` parameter to control this behavior.\n",
      "  _warn_prf(average, modifier, msg_start, len(result))\n"
     ]
    }
   ],
   "source": [
    "# Can get more performance metrics from classification_report\n",
    "from sklearn.metrics import classification_report\n",
    "# Check for Random forest model\n",
    "y_pred_lr = lr.predict(X_test)\n",
    "print(classification_report(y_test, y_pred_lr))"
   ]
  },
  {
   "cell_type": "code",
   "execution_count": 35,
   "id": "e1d55a3a",
   "metadata": {},
   "outputs": [
    {
     "name": "stdout",
     "output_type": "stream",
     "text": [
      "              precision    recall  f1-score   support\n",
      "\n",
      "         0.0       1.00      1.00      1.00      2908\n",
      "         1.0       1.00      1.00      1.00      4572\n",
      "\n",
      "    accuracy                           1.00      7480\n",
      "   macro avg       1.00      1.00      1.00      7480\n",
      "weighted avg       1.00      1.00      1.00      7480\n",
      "\n"
     ]
    }
   ],
   "source": [
    "# Check for Random forest model\n",
    "y_pred_rf = rf.predict(X_train)\n",
    "print(classification_report(y_train, y_pred_rf))"
   ]
  },
  {
   "cell_type": "code",
   "execution_count": 36,
   "id": "46c05a3b",
   "metadata": {},
   "outputs": [
    {
     "name": "stdout",
     "output_type": "stream",
     "text": [
      "              precision    recall  f1-score   support\n",
      "\n",
      "         0.0       0.49      0.33      0.39      1263\n",
      "         1.0       0.64      0.78      0.70      1943\n",
      "\n",
      "    accuracy                           0.60      3206\n",
      "   macro avg       0.57      0.55      0.55      3206\n",
      "weighted avg       0.58      0.60      0.58      3206\n",
      "\n"
     ]
    }
   ],
   "source": [
    "# Check for Random forest model\n",
    "y_pred_rf = rf.predict(X_test)\n",
    "print(classification_report(y_test, y_pred_rf))"
   ]
  },
  {
   "cell_type": "code",
   "execution_count": 37,
   "id": "a161dc86",
   "metadata": {},
   "outputs": [
    {
     "name": "stdout",
     "output_type": "stream",
     "text": [
      "              precision    recall  f1-score   support\n",
      "\n",
      "         0.0       0.67      0.53      0.59      2908\n",
      "         1.0       0.73      0.83      0.78      4572\n",
      "\n",
      "    accuracy                           0.71      7480\n",
      "   macro avg       0.70      0.68      0.69      7480\n",
      "weighted avg       0.71      0.71      0.71      7480\n",
      "\n"
     ]
    }
   ],
   "source": [
    "# Check for Random forest model\n",
    "y_pred_knn = knn.predict(X_train)\n",
    "print(classification_report(y_train, y_pred_knn))"
   ]
  },
  {
   "cell_type": "code",
   "execution_count": 38,
   "id": "eed085f9",
   "metadata": {},
   "outputs": [
    {
     "name": "stdout",
     "output_type": "stream",
     "text": [
      "              precision    recall  f1-score   support\n",
      "\n",
      "         0.0       0.42      0.33      0.37      1263\n",
      "         1.0       0.62      0.70      0.66      1943\n",
      "\n",
      "    accuracy                           0.55      3206\n",
      "   macro avg       0.52      0.51      0.51      3206\n",
      "weighted avg       0.54      0.55      0.54      3206\n",
      "\n"
     ]
    }
   ],
   "source": [
    "# Check for Random forest model\n",
    "y_pred_knn = knn.predict(X_test)\n",
    "print(classification_report(y_test, y_pred_knn))"
   ]
  },
  {
   "cell_type": "code",
   "execution_count": 39,
   "id": "2060da3c",
   "metadata": {},
   "outputs": [
    {
     "data": {
      "text/plain": [
       "<sklearn.metrics._plot.confusion_matrix.ConfusionMatrixDisplay at 0x24191d17a60>"
      ]
     },
     "execution_count": 39,
     "metadata": {},
     "output_type": "execute_result"
    },
    {
     "data": {
      "image/png": "[encoded data removed]",
      "text/plain": [
       "<Figure size 640x480 with 2 Axes>"
      ]
     },
     "metadata": {},
     "output_type": "display_data"
    }
   ],
   "source": [
    "# And we can print the confusion matrix as well\n",
    "from sklearn.metrics import ConfusionMatrixDisplay\n",
    "# Check for Light RF model\n",
    "ConfusionMatrixDisplay.from_estimator(rf, X_test, y_test) "
   ]
  },
  {
   "cell_type": "markdown",
   "id": "fe622015",
   "metadata": {},
   "source": [
    "### Now we know that Random Forest has the best F1 Score and we will apply it to predict the missing values"
   ]
  },
  {
   "cell_type": "code",
   "execution_count": 40,
   "id": "f2b25b46",
   "metadata": {},
   "outputs": [],
   "source": [
    "X_train = training_data.drop(['GENDER'], axis=1)\n",
    "y_train = training_data['GENDER']\n",
    "\n",
    "rf=RandomForestClassifier()\n",
    "rf.fit(X_train,y_train)\n",
    "\n",
    "# Predict the missing values in the 'GENDER' column\n",
    "X_test = testing_data.drop(['GENDER'], axis=1)\n",
    "predicted_gender = rf.predict(X_test)"
   ]
  },
  {
   "cell_type": "code",
   "execution_count": 41,
   "id": "0c59e95e",
   "metadata": {},
   "outputs": [],
   "source": [
    "# Assign the predicted values back to the dataframe\n",
    "df1.loc[df1['GENDER'].isnull(), 'GENDER'] = predicted_gender"
   ]
  },
  {
   "cell_type": "code",
   "execution_count": 42,
   "id": "2a9b3121",
   "metadata": {},
   "outputs": [
    {
     "data": {
      "text/html": [
       "<div>\n",
       "<style scoped>\n",
       "    .dataframe tbody tr th:only-of-type {\n",
       "        vertical-align: middle;\n",
       "    }\n",
       "\n",
       "    .dataframe tbody tr th {\n",
       "        vertical-align: top;\n",
       "    }\n",
       "\n",
       "    .dataframe thead th {\n",
       "        text-align: right;\n",
       "    }\n",
       "</style>\n",
       "<table border=\"1\" class=\"dataframe\">\n",
       "  <thead>\n",
       "    <tr style=\"text-align: right;\">\n",
       "      <th></th>\n",
       "      <th>CUSTOMER_ACCOUNT_NR_MASK</th>\n",
       "      <th>GENDER</th>\n",
       "      <th>FAMILY_MEMBERS</th>\n",
       "      <th>seg_lifestyle_cd</th>\n",
       "      <th>seg_lifestage_cd</th>\n",
       "      <th>LOC_BRAND_CD</th>\n",
       "      <th>LOCATION_CD</th>\n",
       "      <th>month_number</th>\n",
       "      <th>num_transactions</th>\n",
       "      <th>transactions_per_month</th>\n",
       "      <th>MONTH</th>\n",
       "      <th>QUARTER</th>\n",
       "      <th>YEAR</th>\n",
       "    </tr>\n",
       "  </thead>\n",
       "  <tbody>\n",
       "    <tr>\n",
       "      <th>0</th>\n",
       "      <td>133624448</td>\n",
       "      <td>1.00</td>\n",
       "      <td>999</td>\n",
       "      <td>4</td>\n",
       "      <td>6</td>\n",
       "      <td>302</td>\n",
       "      <td>4321</td>\n",
       "      <td>1</td>\n",
       "      <td>1</td>\n",
       "      <td>1</td>\n",
       "      <td>12</td>\n",
       "      <td>4</td>\n",
       "      <td>2022</td>\n",
       "    </tr>\n",
       "    <tr>\n",
       "      <th>2</th>\n",
       "      <td>133586350</td>\n",
       "      <td>0.00</td>\n",
       "      <td>999</td>\n",
       "      <td>4</td>\n",
       "      <td>6</td>\n",
       "      <td>302</td>\n",
       "      <td>3603</td>\n",
       "      <td>1</td>\n",
       "      <td>2</td>\n",
       "      <td>2</td>\n",
       "      <td>12</td>\n",
       "      <td>4</td>\n",
       "      <td>2022</td>\n",
       "    </tr>\n",
       "    <tr>\n",
       "      <th>11</th>\n",
       "      <td>133537444</td>\n",
       "      <td>0.00</td>\n",
       "      <td>1</td>\n",
       "      <td>4</td>\n",
       "      <td>6</td>\n",
       "      <td>302</td>\n",
       "      <td>4696</td>\n",
       "      <td>1</td>\n",
       "      <td>1</td>\n",
       "      <td>1</td>\n",
       "      <td>12</td>\n",
       "      <td>4</td>\n",
       "      <td>2022</td>\n",
       "    </tr>\n",
       "    <tr>\n",
       "      <th>15</th>\n",
       "      <td>133329843</td>\n",
       "      <td>1.00</td>\n",
       "      <td>2</td>\n",
       "      <td>4</td>\n",
       "      <td>6</td>\n",
       "      <td>303</td>\n",
       "      <td>261</td>\n",
       "      <td>1</td>\n",
       "      <td>8</td>\n",
       "      <td>8</td>\n",
       "      <td>12</td>\n",
       "      <td>4</td>\n",
       "      <td>2022</td>\n",
       "    </tr>\n",
       "    <tr>\n",
       "      <th>92</th>\n",
       "      <td>133324441</td>\n",
       "      <td>0.00</td>\n",
       "      <td>999</td>\n",
       "      <td>4</td>\n",
       "      <td>6</td>\n",
       "      <td>303</td>\n",
       "      <td>379</td>\n",
       "      <td>1</td>\n",
       "      <td>1</td>\n",
       "      <td>1</td>\n",
       "      <td>12</td>\n",
       "      <td>4</td>\n",
       "      <td>2022</td>\n",
       "    </tr>\n",
       "    <tr>\n",
       "      <th>...</th>\n",
       "      <td>...</td>\n",
       "      <td>...</td>\n",
       "      <td>...</td>\n",
       "      <td>...</td>\n",
       "      <td>...</td>\n",
       "      <td>...</td>\n",
       "      <td>...</td>\n",
       "      <td>...</td>\n",
       "      <td>...</td>\n",
       "      <td>...</td>\n",
       "      <td>...</td>\n",
       "      <td>...</td>\n",
       "      <td>...</td>\n",
       "    </tr>\n",
       "    <tr>\n",
       "      <th>4065142</th>\n",
       "      <td>44637</td>\n",
       "      <td>1.00</td>\n",
       "      <td>1</td>\n",
       "      <td>3</td>\n",
       "      <td>5</td>\n",
       "      <td>303</td>\n",
       "      <td>1056</td>\n",
       "      <td>22</td>\n",
       "      <td>9</td>\n",
       "      <td>0</td>\n",
       "      <td>3</td>\n",
       "      <td>1</td>\n",
       "      <td>2021</td>\n",
       "    </tr>\n",
       "    <tr>\n",
       "      <th>4065182</th>\n",
       "      <td>37912</td>\n",
       "      <td>0.00</td>\n",
       "      <td>7</td>\n",
       "      <td>2</td>\n",
       "      <td>4</td>\n",
       "      <td>303</td>\n",
       "      <td>471</td>\n",
       "      <td>24</td>\n",
       "      <td>130</td>\n",
       "      <td>5</td>\n",
       "      <td>1</td>\n",
       "      <td>1</td>\n",
       "      <td>2021</td>\n",
       "    </tr>\n",
       "    <tr>\n",
       "      <th>4065761</th>\n",
       "      <td>36467</td>\n",
       "      <td>0.00</td>\n",
       "      <td>5</td>\n",
       "      <td>2</td>\n",
       "      <td>4</td>\n",
       "      <td>303</td>\n",
       "      <td>214</td>\n",
       "      <td>24</td>\n",
       "      <td>34</td>\n",
       "      <td>1</td>\n",
       "      <td>1</td>\n",
       "      <td>1</td>\n",
       "      <td>2021</td>\n",
       "    </tr>\n",
       "    <tr>\n",
       "      <th>4065936</th>\n",
       "      <td>31655</td>\n",
       "      <td>1.00</td>\n",
       "      <td>3</td>\n",
       "      <td>2</td>\n",
       "      <td>4</td>\n",
       "      <td>303</td>\n",
       "      <td>222</td>\n",
       "      <td>24</td>\n",
       "      <td>44</td>\n",
       "      <td>1</td>\n",
       "      <td>1</td>\n",
       "      <td>1</td>\n",
       "      <td>2021</td>\n",
       "    </tr>\n",
       "    <tr>\n",
       "      <th>4066187</th>\n",
       "      <td>9450</td>\n",
       "      <td>1.00</td>\n",
       "      <td>3</td>\n",
       "      <td>2</td>\n",
       "      <td>5</td>\n",
       "      <td>143</td>\n",
       "      <td>12</td>\n",
       "      <td>23</td>\n",
       "      <td>15</td>\n",
       "      <td>0</td>\n",
       "      <td>2</td>\n",
       "      <td>1</td>\n",
       "      <td>2021</td>\n",
       "    </tr>\n",
       "  </tbody>\n",
       "</table>\n",
       "<p>11927 rows × 13 columns</p>\n",
       "</div>"
      ],
      "text/plain": [
       "         CUSTOMER_ACCOUNT_NR_MASK  GENDER  FAMILY_MEMBERS  seg_lifestyle_cd  \\\n",
       "0                       133624448    1.00             999                 4   \n",
       "2                       133586350    0.00             999                 4   \n",
       "11                      133537444    0.00               1                 4   \n",
       "15                      133329843    1.00               2                 4   \n",
       "92                      133324441    0.00             999                 4   \n",
       "...                           ...     ...             ...               ...   \n",
       "4065142                     44637    1.00               1                 3   \n",
       "4065182                     37912    0.00               7                 2   \n",
       "4065761                     36467    0.00               5                 2   \n",
       "4065936                     31655    1.00               3                 2   \n",
       "4066187                      9450    1.00               3                 2   \n",
       "\n",
       "         seg_lifestage_cd  LOC_BRAND_CD  LOCATION_CD  month_number  \\\n",
       "0                       6           302         4321             1   \n",
       "2                       6           302         3603             1   \n",
       "11                      6           302         4696             1   \n",
       "15                      6           303          261             1   \n",
       "92                      6           303          379             1   \n",
       "...                   ...           ...          ...           ...   \n",
       "4065142                 5           303         1056            22   \n",
       "4065182                 4           303          471            24   \n",
       "4065761                 4           303          214            24   \n",
       "4065936                 4           303          222            24   \n",
       "4066187                 5           143           12            23   \n",
       "\n",
       "         num_transactions  transactions_per_month  MONTH  QUARTER  YEAR  \n",
       "0                       1                       1     12        4  2022  \n",
       "2                       2                       2     12        4  2022  \n",
       "11                      1                       1     12        4  2022  \n",
       "15                      8                       8     12        4  2022  \n",
       "92                      1                       1     12        4  2022  \n",
       "...                   ...                     ...    ...      ...   ...  \n",
       "4065142                 9                       0      3        1  2021  \n",
       "4065182               130                       5      1        1  2021  \n",
       "4065761                34                       1      1        1  2021  \n",
       "4065936                44                       1      1        1  2021  \n",
       "4066187                15                       0      2        1  2021  \n",
       "\n",
       "[11927 rows x 13 columns]"
      ]
     },
     "execution_count": 42,
     "metadata": {},
     "output_type": "execute_result"
    }
   ],
   "source": [
    "df1"
   ]
  },
  {
   "cell_type": "code",
   "execution_count": 43,
   "id": "380a1621",
   "metadata": {},
   "outputs": [
    {
     "data": {
      "text/plain": [
       "CUSTOMER_ACCOUNT_NR_MASK    0\n",
       "GENDER                      0\n",
       "FAMILY_MEMBERS              0\n",
       "seg_lifestyle_cd            0\n",
       "seg_lifestage_cd            0\n",
       "LOC_BRAND_CD                0\n",
       "LOCATION_CD                 0\n",
       "month_number                0\n",
       "num_transactions            0\n",
       "transactions_per_month      0\n",
       "MONTH                       0\n",
       "QUARTER                     0\n",
       "YEAR                        0\n",
       "dtype: int64"
      ]
     },
     "execution_count": 43,
     "metadata": {},
     "output_type": "execute_result"
    }
   ],
   "source": [
    "df1.isna().sum()"
   ]
  },
  {
   "cell_type": "markdown",
   "id": "9a4cf1b0",
   "metadata": {},
   "source": [
    "### Lets do the same for Family members"
   ]
  },
  {
   "cell_type": "code",
   "execution_count": 44,
   "id": "88c00796",
   "metadata": {},
   "outputs": [],
   "source": [
    "df1['FAMILY_MEMBERS'].replace(999, np.nan, inplace=True)"
   ]
  },
  {
   "cell_type": "code",
   "execution_count": 45,
   "id": "f4282da6",
   "metadata": {},
   "outputs": [
    {
     "data": {
      "text/plain": [
       "CUSTOMER_ACCOUNT_NR_MASK       0\n",
       "GENDER                         0\n",
       "FAMILY_MEMBERS              3070\n",
       "seg_lifestyle_cd               0\n",
       "seg_lifestage_cd               0\n",
       "LOC_BRAND_CD                   0\n",
       "LOCATION_CD                    0\n",
       "month_number                   0\n",
       "num_transactions               0\n",
       "transactions_per_month         0\n",
       "MONTH                          0\n",
       "QUARTER                        0\n",
       "YEAR                           0\n",
       "dtype: int64"
      ]
     },
     "execution_count": 45,
     "metadata": {},
     "output_type": "execute_result"
    }
   ],
   "source": [
    "df1.isna().sum()"
   ]
  },
  {
   "cell_type": "code",
   "execution_count": 46,
   "id": "b2095155",
   "metadata": {},
   "outputs": [
    {
     "data": {
      "text/plain": [
       "2     1987\n",
       "3     1715\n",
       "1     1537\n",
       "4     1505\n",
       "0     1213\n",
       "5      513\n",
       "6      164\n",
       "7       77\n",
       "8       32\n",
       "11      30\n",
       "9       15\n",
       "14      14\n",
       "10      11\n",
       "12      10\n",
       "13       5\n",
       "17       4\n",
       "33       4\n",
       "15       3\n",
       "74       2\n",
       "64       2\n",
       "21       2\n",
       "19       1\n",
       "82       1\n",
       "66       1\n",
       "63       1\n",
       "73       1\n",
       "52       1\n",
       "30       1\n",
       "61       1\n",
       "45       1\n",
       "26       1\n",
       "60       1\n",
       "93       1\n",
       "Name: FAMILY_MEMBERS, dtype: Int64"
      ]
     },
     "execution_count": 46,
     "metadata": {},
     "output_type": "execute_result"
    }
   ],
   "source": [
    "counts = df1['FAMILY_MEMBERS'].value_counts().sort_values(ascending=False)\n",
    "counts"
   ]
  },
  {
   "cell_type": "markdown",
   "id": "6b88ba5b",
   "metadata": {},
   "source": [
    "#### We are considering all numbers above 13 as outliers or wrong data and we are going to replace as Nan and predict it "
   ]
  },
  {
   "cell_type": "code",
   "execution_count": 48,
   "id": "03c6fcd3",
   "metadata": {},
   "outputs": [],
   "source": [
    "df1.loc[df1['FAMILY_MEMBERS'] > 8, 'FAMILY_MEMBERS'] = np.nan\n"
   ]
  },
  {
   "cell_type": "code",
   "execution_count": 49,
   "id": "a2e798d9",
   "metadata": {},
   "outputs": [
    {
     "data": {
      "text/plain": [
       "2    1987\n",
       "3    1715\n",
       "1    1537\n",
       "4    1505\n",
       "0    1213\n",
       "5     513\n",
       "6     164\n",
       "7      77\n",
       "8      32\n",
       "Name: FAMILY_MEMBERS, dtype: Int64"
      ]
     },
     "execution_count": 49,
     "metadata": {},
     "output_type": "execute_result"
    }
   ],
   "source": [
    "counts = df1['FAMILY_MEMBERS'].value_counts().sort_values(ascending=False)\n",
    "counts"
   ]
  },
  {
   "cell_type": "code",
   "execution_count": 50,
   "id": "fbd2b4dc",
   "metadata": {},
   "outputs": [],
   "source": [
    "testing_data = df1[df1['FAMILY_MEMBERS'].isnull()]\n",
    "training_data = df1[df1['FAMILY_MEMBERS'].notnull()]"
   ]
  },
  {
   "cell_type": "code",
   "execution_count": 51,
   "id": "3d4b35df",
   "metadata": {},
   "outputs": [
    {
     "data": {
      "text/html": [
       "<div>\n",
       "<style scoped>\n",
       "    .dataframe tbody tr th:only-of-type {\n",
       "        vertical-align: middle;\n",
       "    }\n",
       "\n",
       "    .dataframe tbody tr th {\n",
       "        vertical-align: top;\n",
       "    }\n",
       "\n",
       "    .dataframe thead th {\n",
       "        text-align: right;\n",
       "    }\n",
       "</style>\n",
       "<table border=\"1\" class=\"dataframe\">\n",
       "  <thead>\n",
       "    <tr style=\"text-align: right;\">\n",
       "      <th></th>\n",
       "      <th>CUSTOMER_ACCOUNT_NR_MASK</th>\n",
       "      <th>GENDER</th>\n",
       "      <th>FAMILY_MEMBERS</th>\n",
       "      <th>seg_lifestyle_cd</th>\n",
       "      <th>seg_lifestage_cd</th>\n",
       "      <th>LOC_BRAND_CD</th>\n",
       "      <th>LOCATION_CD</th>\n",
       "      <th>month_number</th>\n",
       "      <th>num_transactions</th>\n",
       "      <th>transactions_per_month</th>\n",
       "      <th>MONTH</th>\n",
       "      <th>QUARTER</th>\n",
       "      <th>YEAR</th>\n",
       "    </tr>\n",
       "  </thead>\n",
       "  <tbody>\n",
       "    <tr>\n",
       "      <th>11</th>\n",
       "      <td>133537444</td>\n",
       "      <td>0.00</td>\n",
       "      <td>1</td>\n",
       "      <td>4</td>\n",
       "      <td>6</td>\n",
       "      <td>302</td>\n",
       "      <td>4696</td>\n",
       "      <td>1</td>\n",
       "      <td>1</td>\n",
       "      <td>1</td>\n",
       "      <td>12</td>\n",
       "      <td>4</td>\n",
       "      <td>2022</td>\n",
       "    </tr>\n",
       "    <tr>\n",
       "      <th>15</th>\n",
       "      <td>133329843</td>\n",
       "      <td>1.00</td>\n",
       "      <td>2</td>\n",
       "      <td>4</td>\n",
       "      <td>6</td>\n",
       "      <td>303</td>\n",
       "      <td>261</td>\n",
       "      <td>1</td>\n",
       "      <td>8</td>\n",
       "      <td>8</td>\n",
       "      <td>12</td>\n",
       "      <td>4</td>\n",
       "      <td>2022</td>\n",
       "    </tr>\n",
       "    <tr>\n",
       "      <th>161</th>\n",
       "      <td>133253666</td>\n",
       "      <td>1.00</td>\n",
       "      <td>0</td>\n",
       "      <td>4</td>\n",
       "      <td>6</td>\n",
       "      <td>143</td>\n",
       "      <td>1</td>\n",
       "      <td>1</td>\n",
       "      <td>2</td>\n",
       "      <td>2</td>\n",
       "      <td>12</td>\n",
       "      <td>4</td>\n",
       "      <td>2022</td>\n",
       "    </tr>\n",
       "    <tr>\n",
       "      <th>458</th>\n",
       "      <td>133123114</td>\n",
       "      <td>0.00</td>\n",
       "      <td>3</td>\n",
       "      <td>3</td>\n",
       "      <td>6</td>\n",
       "      <td>143</td>\n",
       "      <td>5</td>\n",
       "      <td>2</td>\n",
       "      <td>1</td>\n",
       "      <td>0</td>\n",
       "      <td>11</td>\n",
       "      <td>4</td>\n",
       "      <td>2022</td>\n",
       "    </tr>\n",
       "    <tr>\n",
       "      <th>459</th>\n",
       "      <td>133103200</td>\n",
       "      <td>1.00</td>\n",
       "      <td>3</td>\n",
       "      <td>4</td>\n",
       "      <td>6</td>\n",
       "      <td>302</td>\n",
       "      <td>6173</td>\n",
       "      <td>1</td>\n",
       "      <td>3</td>\n",
       "      <td>3</td>\n",
       "      <td>12</td>\n",
       "      <td>4</td>\n",
       "      <td>2022</td>\n",
       "    </tr>\n",
       "    <tr>\n",
       "      <th>...</th>\n",
       "      <td>...</td>\n",
       "      <td>...</td>\n",
       "      <td>...</td>\n",
       "      <td>...</td>\n",
       "      <td>...</td>\n",
       "      <td>...</td>\n",
       "      <td>...</td>\n",
       "      <td>...</td>\n",
       "      <td>...</td>\n",
       "      <td>...</td>\n",
       "      <td>...</td>\n",
       "      <td>...</td>\n",
       "      <td>...</td>\n",
       "    </tr>\n",
       "    <tr>\n",
       "      <th>4065142</th>\n",
       "      <td>44637</td>\n",
       "      <td>1.00</td>\n",
       "      <td>1</td>\n",
       "      <td>3</td>\n",
       "      <td>5</td>\n",
       "      <td>303</td>\n",
       "      <td>1056</td>\n",
       "      <td>22</td>\n",
       "      <td>9</td>\n",
       "      <td>0</td>\n",
       "      <td>3</td>\n",
       "      <td>1</td>\n",
       "      <td>2021</td>\n",
       "    </tr>\n",
       "    <tr>\n",
       "      <th>4065182</th>\n",
       "      <td>37912</td>\n",
       "      <td>0.00</td>\n",
       "      <td>7</td>\n",
       "      <td>2</td>\n",
       "      <td>4</td>\n",
       "      <td>303</td>\n",
       "      <td>471</td>\n",
       "      <td>24</td>\n",
       "      <td>130</td>\n",
       "      <td>5</td>\n",
       "      <td>1</td>\n",
       "      <td>1</td>\n",
       "      <td>2021</td>\n",
       "    </tr>\n",
       "    <tr>\n",
       "      <th>4065761</th>\n",
       "      <td>36467</td>\n",
       "      <td>0.00</td>\n",
       "      <td>5</td>\n",
       "      <td>2</td>\n",
       "      <td>4</td>\n",
       "      <td>303</td>\n",
       "      <td>214</td>\n",
       "      <td>24</td>\n",
       "      <td>34</td>\n",
       "      <td>1</td>\n",
       "      <td>1</td>\n",
       "      <td>1</td>\n",
       "      <td>2021</td>\n",
       "    </tr>\n",
       "    <tr>\n",
       "      <th>4065936</th>\n",
       "      <td>31655</td>\n",
       "      <td>1.00</td>\n",
       "      <td>3</td>\n",
       "      <td>2</td>\n",
       "      <td>4</td>\n",
       "      <td>303</td>\n",
       "      <td>222</td>\n",
       "      <td>24</td>\n",
       "      <td>44</td>\n",
       "      <td>1</td>\n",
       "      <td>1</td>\n",
       "      <td>1</td>\n",
       "      <td>2021</td>\n",
       "    </tr>\n",
       "    <tr>\n",
       "      <th>4066187</th>\n",
       "      <td>9450</td>\n",
       "      <td>1.00</td>\n",
       "      <td>3</td>\n",
       "      <td>2</td>\n",
       "      <td>5</td>\n",
       "      <td>143</td>\n",
       "      <td>12</td>\n",
       "      <td>23</td>\n",
       "      <td>15</td>\n",
       "      <td>0</td>\n",
       "      <td>2</td>\n",
       "      <td>1</td>\n",
       "      <td>2021</td>\n",
       "    </tr>\n",
       "  </tbody>\n",
       "</table>\n",
       "<p>8743 rows × 13 columns</p>\n",
       "</div>"
      ],
      "text/plain": [
       "         CUSTOMER_ACCOUNT_NR_MASK  GENDER  FAMILY_MEMBERS  seg_lifestyle_cd  \\\n",
       "11                      133537444    0.00               1                 4   \n",
       "15                      133329843    1.00               2                 4   \n",
       "161                     133253666    1.00               0                 4   \n",
       "458                     133123114    0.00               3                 3   \n",
       "459                     133103200    1.00               3                 4   \n",
       "...                           ...     ...             ...               ...   \n",
       "4065142                     44637    1.00               1                 3   \n",
       "4065182                     37912    0.00               7                 2   \n",
       "4065761                     36467    0.00               5                 2   \n",
       "4065936                     31655    1.00               3                 2   \n",
       "4066187                      9450    1.00               3                 2   \n",
       "\n",
       "         seg_lifestage_cd  LOC_BRAND_CD  LOCATION_CD  month_number  \\\n",
       "11                      6           302         4696             1   \n",
       "15                      6           303          261             1   \n",
       "161                     6           143            1             1   \n",
       "458                     6           143            5             2   \n",
       "459                     6           302         6173             1   \n",
       "...                   ...           ...          ...           ...   \n",
       "4065142                 5           303         1056            22   \n",
       "4065182                 4           303          471            24   \n",
       "4065761                 4           303          214            24   \n",
       "4065936                 4           303          222            24   \n",
       "4066187                 5           143           12            23   \n",
       "\n",
       "         num_transactions  transactions_per_month  MONTH  QUARTER  YEAR  \n",
       "11                      1                       1     12        4  2022  \n",
       "15                      8                       8     12        4  2022  \n",
       "161                     2                       2     12        4  2022  \n",
       "458                     1                       0     11        4  2022  \n",
       "459                     3                       3     12        4  2022  \n",
       "...                   ...                     ...    ...      ...   ...  \n",
       "4065142                 9                       0      3        1  2021  \n",
       "4065182               130                       5      1        1  2021  \n",
       "4065761                34                       1      1        1  2021  \n",
       "4065936                44                       1      1        1  2021  \n",
       "4066187                15                       0      2        1  2021  \n",
       "\n",
       "[8743 rows x 13 columns]"
      ]
     },
     "execution_count": 51,
     "metadata": {},
     "output_type": "execute_result"
    }
   ],
   "source": [
    "training_data"
   ]
  },
  {
   "cell_type": "code",
   "execution_count": 52,
   "id": "cb123da9",
   "metadata": {
    "scrolled": false
   },
   "outputs": [
    {
     "name": "stdout",
     "output_type": "stream",
     "text": [
      "Bin 0: (0, 2)\n",
      "Bin 1: (3, 3)\n",
      "Bin 2: (4, 8)\n",
      "      CUSTOMER_ACCOUNT_NR_MASK  GENDER  FAMILY_MEMBERS  seg_lifestyle_cd  \\\n",
      "0                    133537444    0.00               1                 4   \n",
      "1                    133329843    1.00               2                 4   \n",
      "2                    133253666    1.00               0                 4   \n",
      "3                    133123114    0.00               3                 3   \n",
      "4                    133103200    1.00               3                 4   \n",
      "...                        ...     ...             ...               ...   \n",
      "8738                     44637    1.00               1                 3   \n",
      "8739                     37912    0.00               7                 2   \n",
      "8740                     36467    0.00               5                 2   \n",
      "8741                     31655    1.00               3                 2   \n",
      "8742                      9450    1.00               3                 2   \n",
      "\n",
      "      seg_lifestage_cd  LOC_BRAND_CD  LOCATION_CD  month_number  \\\n",
      "0                    6           302         4696             1   \n",
      "1                    6           303          261             1   \n",
      "2                    6           143            1             1   \n",
      "3                    6           143            5             2   \n",
      "4                    6           302         6173             1   \n",
      "...                ...           ...          ...           ...   \n",
      "8738                 5           303         1056            22   \n",
      "8739                 4           303          471            24   \n",
      "8740                 4           303          214            24   \n",
      "8741                 4           303          222            24   \n",
      "8742                 5           143           12            23   \n",
      "\n",
      "      num_transactions  transactions_per_month  MONTH  QUARTER  YEAR  \\\n",
      "0                    1                       1     12        4  2022   \n",
      "1                    8                       8     12        4  2022   \n",
      "2                    2                       2     12        4  2022   \n",
      "3                    1                       0     11        4  2022   \n",
      "4                    3                       3     12        4  2022   \n",
      "...                ...                     ...    ...      ...   ...   \n",
      "8738                 9                       0      3        1  2021   \n",
      "8739               130                       5      1        1  2021   \n",
      "8740                34                       1      1        1  2021   \n",
      "8741                44                       1      1        1  2021   \n",
      "8742                15                       0      2        1  2021   \n",
      "\n",
      "      FamilyMembersBins  \n",
      "0                     0  \n",
      "1                     0  \n",
      "2                     0  \n",
      "3                     1  \n",
      "4                     1  \n",
      "...                 ...  \n",
      "8738                  0  \n",
      "8739                  2  \n",
      "8740                  2  \n",
      "8741                  1  \n",
      "8742                  1  \n",
      "\n",
      "[8743 rows x 14 columns]\n"
     ]
    },
    {
     "name": "stderr",
     "output_type": "stream",
     "text": [
      "C:\\Users\\cmigu\\AppData\\Local\\Temp\\ipykernel_4040\\1918411325.py:23: SettingWithCopyWarning: \n",
      "A value is trying to be set on a copy of a slice from a DataFrame.\n",
      "Try using .loc[row_indexer,col_indexer] = value instead\n",
      "\n",
      "See the caveats in the documentation: https://pandas.pydata.org/pandas-docs/stable/user_guide/indexing.html#returning-a-view-versus-a-copy\n",
      "  training_data['FamilyMembersBins'] = binned_labels\n"
     ]
    }
   ],
   "source": [
    "def calculate_entropy(labels):\n",
    "    class_counts = labels.value_counts()\n",
    "    probabilities = class_counts / len(labels)\n",
    "    entropy = -sum(probabilities * probabilities.apply(lambda x: 0 if x == 0 else x * np.log2(x)))\n",
    "    return entropy\n",
    "\n",
    "\n",
    "def bin_data(data, num_bins):\n",
    "    binned_labels = pd.qcut(data, num_bins, labels=False, duplicates='drop')\n",
    "    return binned_labels\n",
    "\n",
    "\n",
    "num_bins = 3\n",
    "\n",
    "training_data.reset_index(drop=True, inplace=True)  # Resetting the index of the DataFrame\n",
    "\n",
    "binned_labels = bin_data(training_data['FAMILY_MEMBERS'], num_bins)\n",
    "\n",
    "# Check if the number of bin labels matches the number of rows in the DataFrame\n",
    "if len(binned_labels) != len(training_data):\n",
    "    raise ValueError(\"Number of bin labels does not match the number of rows in the DataFrame\")\n",
    "\n",
    "training_data['FamilyMembersBins'] = binned_labels\n",
    "\n",
    "# Print the range of each bin\n",
    "for i in range(num_bins):\n",
    "    bin_range = (training_data[training_data['FamilyMembersBins'] == i]['FAMILY_MEMBERS'].min(),\n",
    "                 training_data[training_data['FamilyMembersBins'] == i]['FAMILY_MEMBERS'].max())\n",
    "    print(f\"Bin {i}: {bin_range}\")\n",
    "\n",
    "print(training_data)"
   ]
  },
  {
   "cell_type": "code",
   "execution_count": 53,
   "id": "020d78ef",
   "metadata": {},
   "outputs": [
    {
     "data": {
      "text/plain": [
       "0    4737\n",
       "2    2291\n",
       "1    1715\n",
       "Name: FamilyMembersBins, dtype: int64"
      ]
     },
     "execution_count": 53,
     "metadata": {},
     "output_type": "execute_result"
    }
   ],
   "source": [
    "training_data['FamilyMembersBins'].value_counts().sort_values(ascending=False)"
   ]
  },
  {
   "cell_type": "code",
   "execution_count": 54,
   "id": "944aca31",
   "metadata": {},
   "outputs": [
    {
     "name": "stderr",
     "output_type": "stream",
     "text": [
      "C:\\Users\\cmigu\\AppData\\Local\\Temp\\ipykernel_4040\\566569987.py:1: SettingWithCopyWarning: \n",
      "A value is trying to be set on a copy of a slice from a DataFrame\n",
      "\n",
      "See the caveats in the documentation: https://pandas.pydata.org/pandas-docs/stable/user_guide/indexing.html#returning-a-view-versus-a-copy\n",
      "  training_data.drop(['FAMILY_MEMBERS'],inplace=True ,axis=1)\n"
     ]
    }
   ],
   "source": [
    "training_data.drop(['FAMILY_MEMBERS'],inplace=True ,axis=1)"
   ]
  },
  {
   "cell_type": "code",
   "execution_count": 55,
   "id": "2d2bca25",
   "metadata": {},
   "outputs": [],
   "source": [
    "X_train = training_data.drop(['FamilyMembersBins'], axis=1)\n",
    "y_train = training_data['FamilyMembersBins']"
   ]
  },
  {
   "cell_type": "code",
   "execution_count": 56,
   "id": "8a9a85e4",
   "metadata": {},
   "outputs": [],
   "source": [
    "X_train, X_test, y_train, y_test = train_test_split(X_train, y_train, test_size=0.30, random_state=21)"
   ]
  },
  {
   "cell_type": "code",
   "execution_count": 60,
   "id": "f2999b31",
   "metadata": {},
   "outputs": [
    {
     "name": "stderr",
     "output_type": "stream",
     "text": [
      "C:\\Users\\cmigu\\anaconda3\\lib\\site-packages\\sklearn\\ensemble\\_base.py:166: FutureWarning: `base_estimator` was renamed to `estimator` in version 1.2 and will be removed in 1.4.\n",
      "  warnings.warn(\n"
     ]
    }
   ],
   "source": [
    "# import XGBoost\n",
    "from xgboost import XGBClassifier\n",
    "from sklearn.naive_bayes import GaussianNB\n",
    "from sklearn.ensemble import AdaBoostClassifier\n",
    "\n",
    "#Fit our Random Forest\n",
    "rf=RandomForestClassifier()\n",
    "rf.fit(X_train,y_train)\n",
    "\n",
    "#Fit our Logistic Regression\n",
    "lr=LogisticRegression()\n",
    "lr.fit(X_train,y_train)\n",
    "\n",
    "#Fit our Knn\n",
    "knn = KNeighborsClassifier()\n",
    "knn.fit(X_train, y_train)\n",
    "\n",
    "from sklearn.tree import DecisionTreeClassifier\n",
    "dt = DecisionTreeClassifier(random_state=0)\n",
    "dt.fit(X_train, y_train)\n",
    "\n",
    "xgb = XGBClassifier(random_state=0)\n",
    "xgb.fit(X_train, y_train)\n",
    "\n",
    "nb = GaussianNB()\n",
    "nb.fit(X_train, y_train)\n",
    "\n",
    "ada = AdaBoostClassifier(base_estimator = dt, random_state=42)\n",
    "ada.fit(X_train, y_train);"
   ]
  },
  {
   "cell_type": "code",
   "execution_count": 61,
   "id": "7ab953ca",
   "metadata": {
    "scrolled": false
   },
   "outputs": [
    {
     "name": "stdout",
     "output_type": "stream",
     "text": [
      "              precision    recall  f1-score   support\n",
      "\n",
      "           0       0.54      1.00      0.70      3288\n",
      "           1       0.00      0.00      0.00      1202\n",
      "           2       0.00      0.00      0.00      1630\n",
      "\n",
      "    accuracy                           0.54      6120\n",
      "   macro avg       0.18      0.33      0.23      6120\n",
      "weighted avg       0.29      0.54      0.38      6120\n",
      "\n"
     ]
    },
    {
     "name": "stderr",
     "output_type": "stream",
     "text": [
      "C:\\Users\\cmigu\\anaconda3\\lib\\site-packages\\sklearn\\metrics\\_classification.py:1344: UndefinedMetricWarning: Precision and F-score are ill-defined and being set to 0.0 in labels with no predicted samples. Use `zero_division` parameter to control this behavior.\n",
      "  _warn_prf(average, modifier, msg_start, len(result))\n",
      "C:\\Users\\cmigu\\anaconda3\\lib\\site-packages\\sklearn\\metrics\\_classification.py:1344: UndefinedMetricWarning: Precision and F-score are ill-defined and being set to 0.0 in labels with no predicted samples. Use `zero_division` parameter to control this behavior.\n",
      "  _warn_prf(average, modifier, msg_start, len(result))\n",
      "C:\\Users\\cmigu\\anaconda3\\lib\\site-packages\\sklearn\\metrics\\_classification.py:1344: UndefinedMetricWarning: Precision and F-score are ill-defined and being set to 0.0 in labels with no predicted samples. Use `zero_division` parameter to control this behavior.\n",
      "  _warn_prf(average, modifier, msg_start, len(result))\n"
     ]
    }
   ],
   "source": [
    "# Check for LR model\n",
    "y_pred_lr = lr.predict(X_train)\n",
    "print(classification_report(y_train, y_pred_lr))"
   ]
  },
  {
   "cell_type": "code",
   "execution_count": 62,
   "id": "d08db301",
   "metadata": {
    "scrolled": true
   },
   "outputs": [
    {
     "name": "stdout",
     "output_type": "stream",
     "text": [
      "              precision    recall  f1-score   support\n",
      "\n",
      "           0       0.55      1.00      0.71      1449\n",
      "           1       0.00      0.00      0.00       513\n",
      "           2       0.00      0.00      0.00       661\n",
      "\n",
      "    accuracy                           0.55      2623\n",
      "   macro avg       0.18      0.33      0.24      2623\n",
      "weighted avg       0.31      0.55      0.39      2623\n",
      "\n"
     ]
    },
    {
     "name": "stderr",
     "output_type": "stream",
     "text": [
      "C:\\Users\\cmigu\\anaconda3\\lib\\site-packages\\sklearn\\metrics\\_classification.py:1344: UndefinedMetricWarning: Precision and F-score are ill-defined and being set to 0.0 in labels with no predicted samples. Use `zero_division` parameter to control this behavior.\n",
      "  _warn_prf(average, modifier, msg_start, len(result))\n",
      "C:\\Users\\cmigu\\anaconda3\\lib\\site-packages\\sklearn\\metrics\\_classification.py:1344: UndefinedMetricWarning: Precision and F-score are ill-defined and being set to 0.0 in labels with no predicted samples. Use `zero_division` parameter to control this behavior.\n",
      "  _warn_prf(average, modifier, msg_start, len(result))\n",
      "C:\\Users\\cmigu\\anaconda3\\lib\\site-packages\\sklearn\\metrics\\_classification.py:1344: UndefinedMetricWarning: Precision and F-score are ill-defined and being set to 0.0 in labels with no predicted samples. Use `zero_division` parameter to control this behavior.\n",
      "  _warn_prf(average, modifier, msg_start, len(result))\n"
     ]
    }
   ],
   "source": [
    "# Check for LR model\n",
    "y_pred_lr = lr.predict(X_test)\n",
    "print(classification_report(y_test, y_pred_lr))"
   ]
  },
  {
   "cell_type": "code",
   "execution_count": 63,
   "id": "9e382ad7",
   "metadata": {},
   "outputs": [
    {
     "name": "stdout",
     "output_type": "stream",
     "text": [
      "              precision    recall  f1-score   support\n",
      "\n",
      "           0       1.00      1.00      1.00      3288\n",
      "           1       1.00      1.00      1.00      1202\n",
      "           2       1.00      1.00      1.00      1630\n",
      "\n",
      "    accuracy                           1.00      6120\n",
      "   macro avg       1.00      1.00      1.00      6120\n",
      "weighted avg       1.00      1.00      1.00      6120\n",
      "\n"
     ]
    }
   ],
   "source": [
    "# Check for Random forest model\n",
    "y_pred_rf = rf.predict(X_train)\n",
    "print(classification_report(y_train, y_pred_rf))"
   ]
  },
  {
   "cell_type": "code",
   "execution_count": 64,
   "id": "f6a58cc1",
   "metadata": {},
   "outputs": [
    {
     "name": "stdout",
     "output_type": "stream",
     "text": [
      "              precision    recall  f1-score   support\n",
      "\n",
      "           0       0.59      0.80      0.68      1449\n",
      "           1       0.22      0.08      0.11       513\n",
      "           2       0.34      0.24      0.28       661\n",
      "\n",
      "    accuracy                           0.52      2623\n",
      "   macro avg       0.38      0.37      0.36      2623\n",
      "weighted avg       0.45      0.52      0.47      2623\n",
      "\n"
     ]
    }
   ],
   "source": [
    "# Check for Random forest model\n",
    "y_pred_rf = rf.predict(X_test)\n",
    "print(classification_report(y_test, y_pred_rf))"
   ]
  },
  {
   "cell_type": "code",
   "execution_count": 65,
   "id": "bc4cee0c",
   "metadata": {},
   "outputs": [
    {
     "name": "stdout",
     "output_type": "stream",
     "text": [
      "              precision    recall  f1-score   support\n",
      "\n",
      "           0       0.65      0.89      0.75      3288\n",
      "           1       0.53      0.31      0.39      1202\n",
      "           2       0.64      0.35      0.45      1630\n",
      "\n",
      "    accuracy                           0.63      6120\n",
      "   macro avg       0.61      0.52      0.53      6120\n",
      "weighted avg       0.62      0.63      0.60      6120\n",
      "\n"
     ]
    }
   ],
   "source": [
    "# Check for Random forest model\n",
    "y_pred_knn = knn.predict(X_train)\n",
    "print(classification_report(y_train, y_pred_knn))"
   ]
  },
  {
   "cell_type": "code",
   "execution_count": 66,
   "id": "31851656",
   "metadata": {},
   "outputs": [
    {
     "name": "stdout",
     "output_type": "stream",
     "text": [
      "              precision    recall  f1-score   support\n",
      "\n",
      "           0       0.58      0.78      0.67      1449\n",
      "           1       0.21      0.12      0.15       513\n",
      "           2       0.30      0.18      0.22       661\n",
      "\n",
      "    accuracy                           0.50      2623\n",
      "   macro avg       0.36      0.36      0.35      2623\n",
      "weighted avg       0.44      0.50      0.45      2623\n",
      "\n"
     ]
    }
   ],
   "source": [
    "# Check for Random forest model\n",
    "y_pred_knn = knn.predict(X_test)\n",
    "print(classification_report(y_test, y_pred_knn))"
   ]
  },
  {
   "cell_type": "code",
   "execution_count": 67,
   "id": "d94ab801",
   "metadata": {},
   "outputs": [
    {
     "name": "stdout",
     "output_type": "stream",
     "text": [
      "              precision    recall  f1-score   support\n",
      "\n",
      "           0       1.00      1.00      1.00      3288\n",
      "           1       1.00      1.00      1.00      1202\n",
      "           2       1.00      1.00      1.00      1630\n",
      "\n",
      "    accuracy                           1.00      6120\n",
      "   macro avg       1.00      1.00      1.00      6120\n",
      "weighted avg       1.00      1.00      1.00      6120\n",
      "\n"
     ]
    }
   ],
   "source": [
    "# Check for Random forest model\n",
    "y_pred_dt = dt.predict(X_train)\n",
    "print(classification_report(y_train, y_pred_dt))"
   ]
  },
  {
   "cell_type": "code",
   "execution_count": 68,
   "id": "3edd908e",
   "metadata": {},
   "outputs": [
    {
     "name": "stdout",
     "output_type": "stream",
     "text": [
      "              precision    recall  f1-score   support\n",
      "\n",
      "           0       0.58      0.55      0.57      1449\n",
      "           1       0.21      0.21      0.21       513\n",
      "           2       0.29      0.32      0.31       661\n",
      "\n",
      "    accuracy                           0.43      2623\n",
      "   macro avg       0.36      0.36      0.36      2623\n",
      "weighted avg       0.44      0.43      0.43      2623\n",
      "\n"
     ]
    }
   ],
   "source": [
    "# Check for Random forest model\n",
    "y_pred_dt = dt.predict(X_test)\n",
    "print(classification_report(y_test, y_pred_dt))"
   ]
  },
  {
   "cell_type": "code",
   "execution_count": 69,
   "id": "1ebd59bf",
   "metadata": {},
   "outputs": [
    {
     "name": "stdout",
     "output_type": "stream",
     "text": [
      "              precision    recall  f1-score   support\n",
      "\n",
      "           0       0.60      0.79      0.68      1449\n",
      "           1       0.24      0.10      0.14       513\n",
      "           2       0.33      0.25      0.29       661\n",
      "\n",
      "    accuracy                           0.52      2623\n",
      "   macro avg       0.39      0.38      0.37      2623\n",
      "weighted avg       0.46      0.52      0.47      2623\n",
      "\n"
     ]
    }
   ],
   "source": [
    "# Check for Random forest model\n",
    "y_pred_xgb = xgb.predict(X_test)\n",
    "print(classification_report(y_test, y_pred_xgb))"
   ]
  },
  {
   "cell_type": "code",
   "execution_count": 70,
   "id": "7b676e36",
   "metadata": {},
   "outputs": [
    {
     "name": "stdout",
     "output_type": "stream",
     "text": [
      "              precision    recall  f1-score   support\n",
      "\n",
      "           0       0.57      0.95      0.71      1449\n",
      "           1       0.00      0.00      0.00       513\n",
      "           2       0.39      0.13      0.19       661\n",
      "\n",
      "    accuracy                           0.56      2623\n",
      "   macro avg       0.32      0.36      0.30      2623\n",
      "weighted avg       0.41      0.56      0.44      2623\n",
      "\n"
     ]
    },
    {
     "name": "stderr",
     "output_type": "stream",
     "text": [
      "C:\\Users\\cmigu\\anaconda3\\lib\\site-packages\\sklearn\\metrics\\_classification.py:1344: UndefinedMetricWarning: Precision and F-score are ill-defined and being set to 0.0 in labels with no predicted samples. Use `zero_division` parameter to control this behavior.\n",
      "  _warn_prf(average, modifier, msg_start, len(result))\n",
      "C:\\Users\\cmigu\\anaconda3\\lib\\site-packages\\sklearn\\metrics\\_classification.py:1344: UndefinedMetricWarning: Precision and F-score are ill-defined and being set to 0.0 in labels with no predicted samples. Use `zero_division` parameter to control this behavior.\n",
      "  _warn_prf(average, modifier, msg_start, len(result))\n",
      "C:\\Users\\cmigu\\anaconda3\\lib\\site-packages\\sklearn\\metrics\\_classification.py:1344: UndefinedMetricWarning: Precision and F-score are ill-defined and being set to 0.0 in labels with no predicted samples. Use `zero_division` parameter to control this behavior.\n",
      "  _warn_prf(average, modifier, msg_start, len(result))\n"
     ]
    }
   ],
   "source": [
    "# Check for Naive Bayes model\n",
    "y_pred_nb = nb.predict(X_test)\n",
    "print(classification_report(y_test, y_pred_nb))"
   ]
  },
  {
   "cell_type": "code",
   "execution_count": 71,
   "id": "1506699a",
   "metadata": {
    "scrolled": true
   },
   "outputs": [
    {
     "name": "stdout",
     "output_type": "stream",
     "text": [
      "              precision    recall  f1-score   support\n",
      "\n",
      "           0       0.59      0.56      0.57      1449\n",
      "           1       0.22      0.22      0.22       513\n",
      "           2       0.28      0.31      0.29       661\n",
      "\n",
      "    accuracy                           0.43      2623\n",
      "   macro avg       0.36      0.36      0.36      2623\n",
      "weighted avg       0.44      0.43      0.43      2623\n",
      "\n"
     ]
    }
   ],
   "source": [
    "# Check for ADABOOST model\n",
    "y_pred_ada = ada.predict(X_test)\n",
    "print(classification_report(y_test, y_pred_ada))"
   ]
  },
  {
   "cell_type": "markdown",
   "id": "4d6d5d02",
   "metadata": {},
   "source": [
    "## With KBinsDiscretizer"
   ]
  },
  {
   "cell_type": "code",
   "execution_count": 103,
   "id": "4d703770",
   "metadata": {},
   "outputs": [],
   "source": [
    "testing_data = df1[df1['FAMILY_MEMBERS'].isnull()]\n",
    "training_data = df1[df1['FAMILY_MEMBERS'].notnull()]"
   ]
  },
  {
   "cell_type": "code",
   "execution_count": 104,
   "id": "5577da3f",
   "metadata": {},
   "outputs": [
    {
     "name": "stdout",
     "output_type": "stream",
     "text": [
      "Bin 0: (0, 2)\n",
      "Bin 1: (3, 5)\n",
      "Bin 2: (6, 8)\n",
      "         CUSTOMER_ACCOUNT_NR_MASK  GENDER  FAMILY_MEMBERS  seg_lifestyle_cd  \\\n",
      "11                      133537444    0.00               1                 4   \n",
      "15                      133329843    1.00               2                 4   \n",
      "161                     133253666    1.00               0                 4   \n",
      "458                     133123114    0.00               3                 3   \n",
      "459                     133103200    1.00               3                 4   \n",
      "...                           ...     ...             ...               ...   \n",
      "4065142                     44637    1.00               1                 3   \n",
      "4065182                     37912    0.00               7                 2   \n",
      "4065761                     36467    0.00               5                 2   \n",
      "4065936                     31655    1.00               3                 2   \n",
      "4066187                      9450    1.00               3                 2   \n",
      "\n",
      "         seg_lifestage_cd  LOC_BRAND_CD  LOCATION_CD  month_number  \\\n",
      "11                      6           302         4696             1   \n",
      "15                      6           303          261             1   \n",
      "161                     6           143            1             1   \n",
      "458                     6           143            5             2   \n",
      "459                     6           302         6173             1   \n",
      "...                   ...           ...          ...           ...   \n",
      "4065142                 5           303         1056            22   \n",
      "4065182                 4           303          471            24   \n",
      "4065761                 4           303          214            24   \n",
      "4065936                 4           303          222            24   \n",
      "4066187                 5           143           12            23   \n",
      "\n",
      "         num_transactions  transactions_per_month  MONTH  QUARTER  YEAR  \\\n",
      "11                      1                       1     12        4  2022   \n",
      "15                      8                       8     12        4  2022   \n",
      "161                     2                       2     12        4  2022   \n",
      "458                     1                       0     11        4  2022   \n",
      "459                     3                       3     12        4  2022   \n",
      "...                   ...                     ...    ...      ...   ...   \n",
      "4065142                 9                       0      3        1  2021   \n",
      "4065182               130                       5      1        1  2021   \n",
      "4065761                34                       1      1        1  2021   \n",
      "4065936                44                       1      1        1  2021   \n",
      "4066187                15                       0      2        1  2021   \n",
      "\n",
      "         FAMILY_MEMBERS_COPY  \n",
      "11                      0.00  \n",
      "15                      0.00  \n",
      "161                     0.00  \n",
      "458                     1.00  \n",
      "459                     1.00  \n",
      "...                      ...  \n",
      "4065142                 0.00  \n",
      "4065182                 2.00  \n",
      "4065761                 1.00  \n",
      "4065936                 1.00  \n",
      "4066187                 1.00  \n",
      "\n",
      "[8743 rows x 14 columns]\n"
     ]
    },
    {
     "name": "stderr",
     "output_type": "stream",
     "text": [
      "C:\\Users\\cmigu\\AppData\\Local\\Temp\\ipykernel_4040\\3875709104.py:4: SettingWithCopyWarning: \n",
      "A value is trying to be set on a copy of a slice from a DataFrame.\n",
      "Try using .loc[row_indexer,col_indexer] = value instead\n",
      "\n",
      "See the caveats in the documentation: https://pandas.pydata.org/pandas-docs/stable/user_guide/indexing.html#returning-a-view-versus-a-copy\n",
      "  training_data['FAMILY_MEMBERS_COPY'] = training_data['FAMILY_MEMBERS'].copy()\n",
      "C:\\Users\\cmigu\\AppData\\Local\\Temp\\ipykernel_4040\\3875709104.py:16: SettingWithCopyWarning: \n",
      "A value is trying to be set on a copy of a slice from a DataFrame.\n",
      "Try using .loc[row_indexer,col_indexer] = value instead\n",
      "\n",
      "See the caveats in the documentation: https://pandas.pydata.org/pandas-docs/stable/user_guide/indexing.html#returning-a-view-versus-a-copy\n",
      "  training_data[columns_to_discretize] = discretizer.fit_transform(training_data[columns_to_discretize])\n"
     ]
    }
   ],
   "source": [
    "from sklearn.preprocessing import KBinsDiscretizer\n",
    "\n",
    "# Duplicate the 'FAMILY_MEMBERS' column\n",
    "training_data['FAMILY_MEMBERS_COPY'] = training_data['FAMILY_MEMBERS'].copy()\n",
    "\n",
    "# Select the column(s) you want to discretize\n",
    "columns_to_discretize = ['FAMILY_MEMBERS_COPY']\n",
    "\n",
    "# Specify the number of bins\n",
    "num_bins = 3\n",
    "\n",
    "# Create an instance of KBinsDiscretizer\n",
    "discretizer = KBinsDiscretizer(n_bins=num_bins, encode='ordinal', strategy='uniform')\n",
    "\n",
    "# Fit and transform the selected column(s) using KBinsDiscretizer\n",
    "training_data[columns_to_discretize] = discretizer.fit_transform(training_data[columns_to_discretize])\n",
    "\n",
    "# Print the range of each bin\n",
    "for i in range(num_bins):\n",
    "    bin_range = (training_data[training_data[columns_to_discretize[0]] == i]['FAMILY_MEMBERS'].min(),\n",
    "                 training_data[training_data[columns_to_discretize[0]] == i]['FAMILY_MEMBERS'].max())\n",
    "    print(f\"Bin {i}: {bin_range}\")\n",
    "\n",
    "print(training_data)"
   ]
  },
  {
   "cell_type": "code",
   "execution_count": 105,
   "id": "d8755279",
   "metadata": {},
   "outputs": [
    {
     "data": {
      "text/plain": [
       "0.00    4737\n",
       "1.00    3733\n",
       "2.00     273\n",
       "Name: FAMILY_MEMBERS_COPY, dtype: int64"
      ]
     },
     "execution_count": 105,
     "metadata": {},
     "output_type": "execute_result"
    }
   ],
   "source": [
    "training_data['FAMILY_MEMBERS_COPY'].value_counts().sort_values(ascending=False)"
   ]
  },
  {
   "cell_type": "code",
   "execution_count": 86,
   "id": "6618f6c6",
   "metadata": {},
   "outputs": [],
   "source": [
    "X_train = training_data.drop(['FAMILY_MEMBERS','FAMILY_MEMBERS_COPY'], axis=1)\n",
    "y_train = training_data['FAMILY_MEMBERS_COPY']"
   ]
  },
  {
   "cell_type": "code",
   "execution_count": 90,
   "id": "0868cf7b",
   "metadata": {},
   "outputs": [],
   "source": [
    "X_train, X_test, y_train, y_test = train_test_split(X_train, y_train, test_size=0.20, random_state=21)"
   ]
  },
  {
   "cell_type": "code",
   "execution_count": 91,
   "id": "9244b741",
   "metadata": {},
   "outputs": [
    {
     "name": "stderr",
     "output_type": "stream",
     "text": [
      "C:\\Users\\cmigu\\anaconda3\\lib\\site-packages\\sklearn\\ensemble\\_base.py:166: FutureWarning: `base_estimator` was renamed to `estimator` in version 1.2 and will be removed in 1.4.\n",
      "  warnings.warn(\n"
     ]
    }
   ],
   "source": [
    "# import XGBoost\n",
    "from xgboost import XGBClassifier\n",
    "from sklearn.naive_bayes import GaussianNB\n",
    "from sklearn.ensemble import AdaBoostClassifier\n",
    "\n",
    "#Fit our Random Forest\n",
    "rf=RandomForestClassifier()\n",
    "rf.fit(X_train,y_train)\n",
    "\n",
    "#Fit our Logistic Regression\n",
    "lr=LogisticRegression()\n",
    "lr.fit(X_train,y_train)\n",
    "\n",
    "#Fit our Knn\n",
    "knn = KNeighborsClassifier()\n",
    "knn.fit(X_train, y_train)\n",
    "\n",
    "from sklearn.tree import DecisionTreeClassifier\n",
    "dt = DecisionTreeClassifier(random_state=0)\n",
    "dt.fit(X_train, y_train)\n",
    "\n",
    "xgb = XGBClassifier(random_state=0)\n",
    "xgb.fit(X_train, y_train)\n",
    "\n",
    "nb = GaussianNB()\n",
    "nb.fit(X_train, y_train)\n",
    "\n",
    "ada = AdaBoostClassifier(base_estimator = dt, random_state=42)\n",
    "ada.fit(X_train, y_train);"
   ]
  },
  {
   "cell_type": "code",
   "execution_count": 92,
   "id": "d0071af4",
   "metadata": {
    "scrolled": false
   },
   "outputs": [
    {
     "name": "stdout",
     "output_type": "stream",
     "text": [
      "              precision    recall  f1-score   support\n",
      "\n",
      "         0.0       0.54      1.00      0.70      2643\n",
      "         1.0       0.00      0.00      0.00      2093\n",
      "         2.0       0.00      0.00      0.00       160\n",
      "\n",
      "    accuracy                           0.54      4896\n",
      "   macro avg       0.18      0.33      0.23      4896\n",
      "weighted avg       0.29      0.54      0.38      4896\n",
      "\n"
     ]
    },
    {
     "name": "stderr",
     "output_type": "stream",
     "text": [
      "C:\\Users\\cmigu\\anaconda3\\lib\\site-packages\\sklearn\\metrics\\_classification.py:1344: UndefinedMetricWarning: Precision and F-score are ill-defined and being set to 0.0 in labels with no predicted samples. Use `zero_division` parameter to control this behavior.\n",
      "  _warn_prf(average, modifier, msg_start, len(result))\n",
      "C:\\Users\\cmigu\\anaconda3\\lib\\site-packages\\sklearn\\metrics\\_classification.py:1344: UndefinedMetricWarning: Precision and F-score are ill-defined and being set to 0.0 in labels with no predicted samples. Use `zero_division` parameter to control this behavior.\n",
      "  _warn_prf(average, modifier, msg_start, len(result))\n",
      "C:\\Users\\cmigu\\anaconda3\\lib\\site-packages\\sklearn\\metrics\\_classification.py:1344: UndefinedMetricWarning: Precision and F-score are ill-defined and being set to 0.0 in labels with no predicted samples. Use `zero_division` parameter to control this behavior.\n",
      "  _warn_prf(average, modifier, msg_start, len(result))\n"
     ]
    }
   ],
   "source": [
    "# Check for LR model\n",
    "y_pred_lr = lr.predict(X_train)\n",
    "print(classification_report(y_train, y_pred_lr))"
   ]
  },
  {
   "cell_type": "code",
   "execution_count": 93,
   "id": "44f358b9",
   "metadata": {
    "scrolled": false
   },
   "outputs": [
    {
     "name": "stdout",
     "output_type": "stream",
     "text": [
      "              precision    recall  f1-score   support\n",
      "\n",
      "         0.0       0.53      1.00      0.69       645\n",
      "         1.0       0.00      0.00      0.00       539\n",
      "         2.0       0.00      0.00      0.00        40\n",
      "\n",
      "    accuracy                           0.53      1224\n",
      "   macro avg       0.18      0.33      0.23      1224\n",
      "weighted avg       0.28      0.53      0.36      1224\n",
      "\n"
     ]
    },
    {
     "name": "stderr",
     "output_type": "stream",
     "text": [
      "C:\\Users\\cmigu\\anaconda3\\lib\\site-packages\\sklearn\\metrics\\_classification.py:1344: UndefinedMetricWarning: Precision and F-score are ill-defined and being set to 0.0 in labels with no predicted samples. Use `zero_division` parameter to control this behavior.\n",
      "  _warn_prf(average, modifier, msg_start, len(result))\n",
      "C:\\Users\\cmigu\\anaconda3\\lib\\site-packages\\sklearn\\metrics\\_classification.py:1344: UndefinedMetricWarning: Precision and F-score are ill-defined and being set to 0.0 in labels with no predicted samples. Use `zero_division` parameter to control this behavior.\n",
      "  _warn_prf(average, modifier, msg_start, len(result))\n",
      "C:\\Users\\cmigu\\anaconda3\\lib\\site-packages\\sklearn\\metrics\\_classification.py:1344: UndefinedMetricWarning: Precision and F-score are ill-defined and being set to 0.0 in labels with no predicted samples. Use `zero_division` parameter to control this behavior.\n",
      "  _warn_prf(average, modifier, msg_start, len(result))\n"
     ]
    }
   ],
   "source": [
    "# Check for LR model\n",
    "y_pred_lr = lr.predict(X_test)\n",
    "print(classification_report(y_test, y_pred_lr))"
   ]
  },
  {
   "cell_type": "code",
   "execution_count": 94,
   "id": "b7a95ef4",
   "metadata": {},
   "outputs": [
    {
     "name": "stdout",
     "output_type": "stream",
     "text": [
      "              precision    recall  f1-score   support\n",
      "\n",
      "         0.0       1.00      1.00      1.00      2643\n",
      "         1.0       1.00      1.00      1.00      2093\n",
      "         2.0       1.00      1.00      1.00       160\n",
      "\n",
      "    accuracy                           1.00      4896\n",
      "   macro avg       1.00      1.00      1.00      4896\n",
      "weighted avg       1.00      1.00      1.00      4896\n",
      "\n"
     ]
    }
   ],
   "source": [
    "# Check for Random forest model\n",
    "y_pred_rf = rf.predict(X_train)\n",
    "print(classification_report(y_train, y_pred_rf))"
   ]
  },
  {
   "cell_type": "code",
   "execution_count": 95,
   "id": "bba0d079",
   "metadata": {
    "scrolled": false
   },
   "outputs": [
    {
     "name": "stdout",
     "output_type": "stream",
     "text": [
      "              precision    recall  f1-score   support\n",
      "\n",
      "         0.0       0.59      0.66      0.62       645\n",
      "         1.0       0.54      0.51      0.52       539\n",
      "         2.0       0.00      0.00      0.00        40\n",
      "\n",
      "    accuracy                           0.57      1224\n",
      "   macro avg       0.38      0.39      0.38      1224\n",
      "weighted avg       0.55      0.57      0.56      1224\n",
      "\n"
     ]
    },
    {
     "name": "stderr",
     "output_type": "stream",
     "text": [
      "C:\\Users\\cmigu\\anaconda3\\lib\\site-packages\\sklearn\\metrics\\_classification.py:1344: UndefinedMetricWarning: Precision and F-score are ill-defined and being set to 0.0 in labels with no predicted samples. Use `zero_division` parameter to control this behavior.\n",
      "  _warn_prf(average, modifier, msg_start, len(result))\n",
      "C:\\Users\\cmigu\\anaconda3\\lib\\site-packages\\sklearn\\metrics\\_classification.py:1344: UndefinedMetricWarning: Precision and F-score are ill-defined and being set to 0.0 in labels with no predicted samples. Use `zero_division` parameter to control this behavior.\n",
      "  _warn_prf(average, modifier, msg_start, len(result))\n",
      "C:\\Users\\cmigu\\anaconda3\\lib\\site-packages\\sklearn\\metrics\\_classification.py:1344: UndefinedMetricWarning: Precision and F-score are ill-defined and being set to 0.0 in labels with no predicted samples. Use `zero_division` parameter to control this behavior.\n",
      "  _warn_prf(average, modifier, msg_start, len(result))\n"
     ]
    }
   ],
   "source": [
    "# Check for Random forest model\n",
    "y_pred_rf = rf.predict(X_test)\n",
    "print(classification_report(y_test, y_pred_rf))"
   ]
  },
  {
   "cell_type": "code",
   "execution_count": 96,
   "id": "f4e00ead",
   "metadata": {},
   "outputs": [
    {
     "name": "stdout",
     "output_type": "stream",
     "text": [
      "              precision    recall  f1-score   support\n",
      "\n",
      "         0.0       0.71      0.79      0.75      2643\n",
      "         1.0       0.69      0.64      0.66      2093\n",
      "         2.0       0.50      0.01      0.01       160\n",
      "\n",
      "    accuracy                           0.70      4896\n",
      "   macro avg       0.63      0.48      0.47      4896\n",
      "weighted avg       0.69      0.70      0.69      4896\n",
      "\n"
     ]
    }
   ],
   "source": [
    "# Check for Random forest model\n",
    "y_pred_knn = knn.predict(X_train)\n",
    "print(classification_report(y_train, y_pred_knn))"
   ]
  },
  {
   "cell_type": "code",
   "execution_count": 97,
   "id": "881de7ec",
   "metadata": {},
   "outputs": [
    {
     "name": "stdout",
     "output_type": "stream",
     "text": [
      "              precision    recall  f1-score   support\n",
      "\n",
      "         0.0       0.56      0.60      0.58       645\n",
      "         1.0       0.49      0.48      0.48       539\n",
      "         2.0       0.00      0.00      0.00        40\n",
      "\n",
      "    accuracy                           0.53      1224\n",
      "   macro avg       0.35      0.36      0.36      1224\n",
      "weighted avg       0.51      0.53      0.52      1224\n",
      "\n"
     ]
    },
    {
     "name": "stderr",
     "output_type": "stream",
     "text": [
      "C:\\Users\\cmigu\\anaconda3\\lib\\site-packages\\sklearn\\metrics\\_classification.py:1344: UndefinedMetricWarning: Precision and F-score are ill-defined and being set to 0.0 in labels with no predicted samples. Use `zero_division` parameter to control this behavior.\n",
      "  _warn_prf(average, modifier, msg_start, len(result))\n",
      "C:\\Users\\cmigu\\anaconda3\\lib\\site-packages\\sklearn\\metrics\\_classification.py:1344: UndefinedMetricWarning: Precision and F-score are ill-defined and being set to 0.0 in labels with no predicted samples. Use `zero_division` parameter to control this behavior.\n",
      "  _warn_prf(average, modifier, msg_start, len(result))\n",
      "C:\\Users\\cmigu\\anaconda3\\lib\\site-packages\\sklearn\\metrics\\_classification.py:1344: UndefinedMetricWarning: Precision and F-score are ill-defined and being set to 0.0 in labels with no predicted samples. Use `zero_division` parameter to control this behavior.\n",
      "  _warn_prf(average, modifier, msg_start, len(result))\n"
     ]
    }
   ],
   "source": [
    "# Check for Random forest model\n",
    "y_pred_knn = knn.predict(X_test)\n",
    "print(classification_report(y_test, y_pred_knn))"
   ]
  },
  {
   "cell_type": "code",
   "execution_count": 98,
   "id": "3b2ce069",
   "metadata": {},
   "outputs": [
    {
     "name": "stdout",
     "output_type": "stream",
     "text": [
      "              precision    recall  f1-score   support\n",
      "\n",
      "         0.0       1.00      1.00      1.00      2643\n",
      "         1.0       1.00      1.00      1.00      2093\n",
      "         2.0       1.00      1.00      1.00       160\n",
      "\n",
      "    accuracy                           1.00      4896\n",
      "   macro avg       1.00      1.00      1.00      4896\n",
      "weighted avg       1.00      1.00      1.00      4896\n",
      "\n"
     ]
    }
   ],
   "source": [
    "# Check for Random forest model\n",
    "y_pred_dt = dt.predict(X_train)\n",
    "print(classification_report(y_train, y_pred_dt))"
   ]
  },
  {
   "cell_type": "code",
   "execution_count": 99,
   "id": "2014600d",
   "metadata": {},
   "outputs": [
    {
     "name": "stdout",
     "output_type": "stream",
     "text": [
      "              precision    recall  f1-score   support\n",
      "\n",
      "         0.0       0.58      0.54      0.56       645\n",
      "         1.0       0.49      0.52      0.50       539\n",
      "         2.0       0.07      0.07      0.07        40\n",
      "\n",
      "    accuracy                           0.52      1224\n",
      "   macro avg       0.38      0.38      0.38      1224\n",
      "weighted avg       0.52      0.52      0.52      1224\n",
      "\n"
     ]
    }
   ],
   "source": [
    "# Check for Random forest model\n",
    "y_pred_dt = dt.predict(X_test)\n",
    "print(classification_report(y_test, y_pred_dt))"
   ]
  },
  {
   "cell_type": "code",
   "execution_count": 100,
   "id": "a507f10b",
   "metadata": {},
   "outputs": [
    {
     "name": "stdout",
     "output_type": "stream",
     "text": [
      "              precision    recall  f1-score   support\n",
      "\n",
      "         0.0       0.60      0.62      0.61       645\n",
      "         1.0       0.53      0.54      0.53       539\n",
      "         2.0       0.00      0.00      0.00        40\n",
      "\n",
      "    accuracy                           0.56      1224\n",
      "   macro avg       0.37      0.39      0.38      1224\n",
      "weighted avg       0.55      0.56      0.55      1224\n",
      "\n"
     ]
    }
   ],
   "source": [
    "# Check for Random forest model\n",
    "y_pred_xgb = xgb.predict(X_test)\n",
    "print(classification_report(y_test, y_pred_xgb))"
   ]
  },
  {
   "cell_type": "code",
   "execution_count": 101,
   "id": "38c6c4b5",
   "metadata": {},
   "outputs": [
    {
     "name": "stdout",
     "output_type": "stream",
     "text": [
      "              precision    recall  f1-score   support\n",
      "\n",
      "         0.0       0.61      0.64      0.63       645\n",
      "         1.0       0.55      0.56      0.55       539\n",
      "         2.0       0.00      0.00      0.00        40\n",
      "\n",
      "    accuracy                           0.58      1224\n",
      "   macro avg       0.39      0.40      0.39      1224\n",
      "weighted avg       0.56      0.58      0.57      1224\n",
      "\n"
     ]
    },
    {
     "name": "stderr",
     "output_type": "stream",
     "text": [
      "C:\\Users\\cmigu\\anaconda3\\lib\\site-packages\\sklearn\\metrics\\_classification.py:1344: UndefinedMetricWarning: Precision and F-score are ill-defined and being set to 0.0 in labels with no predicted samples. Use `zero_division` parameter to control this behavior.\n",
      "  _warn_prf(average, modifier, msg_start, len(result))\n",
      "C:\\Users\\cmigu\\anaconda3\\lib\\site-packages\\sklearn\\metrics\\_classification.py:1344: UndefinedMetricWarning: Precision and F-score are ill-defined and being set to 0.0 in labels with no predicted samples. Use `zero_division` parameter to control this behavior.\n",
      "  _warn_prf(average, modifier, msg_start, len(result))\n",
      "C:\\Users\\cmigu\\anaconda3\\lib\\site-packages\\sklearn\\metrics\\_classification.py:1344: UndefinedMetricWarning: Precision and F-score are ill-defined and being set to 0.0 in labels with no predicted samples. Use `zero_division` parameter to control this behavior.\n",
      "  _warn_prf(average, modifier, msg_start, len(result))\n"
     ]
    }
   ],
   "source": [
    "# Check for Naive Bayes model\n",
    "y_pred_nb = nb.predict(X_test)\n",
    "print(classification_report(y_test, y_pred_nb))"
   ]
  },
  {
   "cell_type": "code",
   "execution_count": 102,
   "id": "35937b2a",
   "metadata": {
    "scrolled": false
   },
   "outputs": [
    {
     "name": "stdout",
     "output_type": "stream",
     "text": [
      "              precision    recall  f1-score   support\n",
      "\n",
      "         0.0       0.58      0.55      0.56       645\n",
      "         1.0       0.48      0.50      0.49       539\n",
      "         2.0       0.10      0.12      0.11        40\n",
      "\n",
      "    accuracy                           0.51      1224\n",
      "   macro avg       0.39      0.39      0.39      1224\n",
      "weighted avg       0.52      0.51      0.52      1224\n",
      "\n"
     ]
    }
   ],
   "source": [
    "# Check for ADABOOST model\n",
    "y_pred_ada = ada.predict(X_test)\n",
    "print(classification_report(y_test, y_pred_ada))"
   ]
  },
  {
   "cell_type": "markdown",
   "id": "fc4a412b",
   "metadata": {},
   "source": [
    "## Discretizing manually"
   ]
  },
  {
   "cell_type": "code",
   "execution_count": 138,
   "id": "c7521892",
   "metadata": {},
   "outputs": [],
   "source": [
    "testing_data = df1[df1['FAMILY_MEMBERS'].isnull()]\n",
    "training_data = df1[df1['FAMILY_MEMBERS'].notnull()]"
   ]
  },
  {
   "cell_type": "code",
   "execution_count": 139,
   "id": "19f0f2e3",
   "metadata": {},
   "outputs": [
    {
     "name": "stderr",
     "output_type": "stream",
     "text": [
      "C:\\Users\\cmigu\\AppData\\Local\\Temp\\ipykernel_4040\\2952670392.py:1: SettingWithCopyWarning: \n",
      "A value is trying to be set on a copy of a slice from a DataFrame.\n",
      "Try using .loc[row_indexer,col_indexer] = value instead\n",
      "\n",
      "See the caveats in the documentation: https://pandas.pydata.org/pandas-docs/stable/user_guide/indexing.html#returning-a-view-versus-a-copy\n",
      "  training_data.loc[training_data['FAMILY_MEMBERS'].between(0, 0, 'both'), 'FAMILY_MEMBERS_bin'] = 0\n"
     ]
    }
   ],
   "source": [
    "training_data.loc[training_data['FAMILY_MEMBERS'].between(0, 0, 'both'), 'FAMILY_MEMBERS_bin'] = 0\n",
    "training_data.loc[training_data['FAMILY_MEMBERS'].between(0, 2, 'right'), 'FAMILY_MEMBERS_bin'] = 1\n",
    "training_data.loc[training_data['FAMILY_MEMBERS'].between(2, 8, 'right'), 'FAMILY_MEMBERS_bin'] = 2"
   ]
  },
  {
   "cell_type": "code",
   "execution_count": 122,
   "id": "1b5d61b8",
   "metadata": {},
   "outputs": [
    {
     "data": {
      "text/html": [
       "<div>\n",
       "<style scoped>\n",
       "    .dataframe tbody tr th:only-of-type {\n",
       "        vertical-align: middle;\n",
       "    }\n",
       "\n",
       "    .dataframe tbody tr th {\n",
       "        vertical-align: top;\n",
       "    }\n",
       "\n",
       "    .dataframe thead th {\n",
       "        text-align: right;\n",
       "    }\n",
       "</style>\n",
       "<table border=\"1\" class=\"dataframe\">\n",
       "  <thead>\n",
       "    <tr style=\"text-align: right;\">\n",
       "      <th></th>\n",
       "      <th>CUSTOMER_ACCOUNT_NR_MASK</th>\n",
       "      <th>GENDER</th>\n",
       "      <th>FAMILY_MEMBERS</th>\n",
       "      <th>seg_lifestyle_cd</th>\n",
       "      <th>seg_lifestage_cd</th>\n",
       "      <th>LOC_BRAND_CD</th>\n",
       "      <th>LOCATION_CD</th>\n",
       "      <th>month_number</th>\n",
       "      <th>num_transactions</th>\n",
       "      <th>transactions_per_month</th>\n",
       "      <th>MONTH</th>\n",
       "      <th>QUARTER</th>\n",
       "      <th>YEAR</th>\n",
       "      <th>FAMILY_MEMBERS_bin</th>\n",
       "    </tr>\n",
       "  </thead>\n",
       "  <tbody>\n",
       "    <tr>\n",
       "      <th>11</th>\n",
       "      <td>133537444</td>\n",
       "      <td>0.00</td>\n",
       "      <td>1</td>\n",
       "      <td>4</td>\n",
       "      <td>6</td>\n",
       "      <td>302</td>\n",
       "      <td>4696</td>\n",
       "      <td>1</td>\n",
       "      <td>1</td>\n",
       "      <td>1</td>\n",
       "      <td>12</td>\n",
       "      <td>4</td>\n",
       "      <td>2022</td>\n",
       "      <td>0.00</td>\n",
       "    </tr>\n",
       "    <tr>\n",
       "      <th>15</th>\n",
       "      <td>133329843</td>\n",
       "      <td>1.00</td>\n",
       "      <td>2</td>\n",
       "      <td>4</td>\n",
       "      <td>6</td>\n",
       "      <td>303</td>\n",
       "      <td>261</td>\n",
       "      <td>1</td>\n",
       "      <td>8</td>\n",
       "      <td>8</td>\n",
       "      <td>12</td>\n",
       "      <td>4</td>\n",
       "      <td>2022</td>\n",
       "      <td>1.00</td>\n",
       "    </tr>\n",
       "    <tr>\n",
       "      <th>161</th>\n",
       "      <td>133253666</td>\n",
       "      <td>1.00</td>\n",
       "      <td>0</td>\n",
       "      <td>4</td>\n",
       "      <td>6</td>\n",
       "      <td>143</td>\n",
       "      <td>1</td>\n",
       "      <td>1</td>\n",
       "      <td>2</td>\n",
       "      <td>2</td>\n",
       "      <td>12</td>\n",
       "      <td>4</td>\n",
       "      <td>2022</td>\n",
       "      <td>0.00</td>\n",
       "    </tr>\n",
       "    <tr>\n",
       "      <th>458</th>\n",
       "      <td>133123114</td>\n",
       "      <td>0.00</td>\n",
       "      <td>3</td>\n",
       "      <td>3</td>\n",
       "      <td>6</td>\n",
       "      <td>143</td>\n",
       "      <td>5</td>\n",
       "      <td>2</td>\n",
       "      <td>1</td>\n",
       "      <td>0</td>\n",
       "      <td>11</td>\n",
       "      <td>4</td>\n",
       "      <td>2022</td>\n",
       "      <td>1.00</td>\n",
       "    </tr>\n",
       "    <tr>\n",
       "      <th>459</th>\n",
       "      <td>133103200</td>\n",
       "      <td>1.00</td>\n",
       "      <td>3</td>\n",
       "      <td>4</td>\n",
       "      <td>6</td>\n",
       "      <td>302</td>\n",
       "      <td>6173</td>\n",
       "      <td>1</td>\n",
       "      <td>3</td>\n",
       "      <td>3</td>\n",
       "      <td>12</td>\n",
       "      <td>4</td>\n",
       "      <td>2022</td>\n",
       "      <td>1.00</td>\n",
       "    </tr>\n",
       "    <tr>\n",
       "      <th>...</th>\n",
       "      <td>...</td>\n",
       "      <td>...</td>\n",
       "      <td>...</td>\n",
       "      <td>...</td>\n",
       "      <td>...</td>\n",
       "      <td>...</td>\n",
       "      <td>...</td>\n",
       "      <td>...</td>\n",
       "      <td>...</td>\n",
       "      <td>...</td>\n",
       "      <td>...</td>\n",
       "      <td>...</td>\n",
       "      <td>...</td>\n",
       "      <td>...</td>\n",
       "    </tr>\n",
       "    <tr>\n",
       "      <th>4065142</th>\n",
       "      <td>44637</td>\n",
       "      <td>1.00</td>\n",
       "      <td>1</td>\n",
       "      <td>3</td>\n",
       "      <td>5</td>\n",
       "      <td>303</td>\n",
       "      <td>1056</td>\n",
       "      <td>22</td>\n",
       "      <td>9</td>\n",
       "      <td>0</td>\n",
       "      <td>3</td>\n",
       "      <td>1</td>\n",
       "      <td>2021</td>\n",
       "      <td>0.00</td>\n",
       "    </tr>\n",
       "    <tr>\n",
       "      <th>4065182</th>\n",
       "      <td>37912</td>\n",
       "      <td>0.00</td>\n",
       "      <td>7</td>\n",
       "      <td>2</td>\n",
       "      <td>4</td>\n",
       "      <td>303</td>\n",
       "      <td>471</td>\n",
       "      <td>24</td>\n",
       "      <td>130</td>\n",
       "      <td>5</td>\n",
       "      <td>1</td>\n",
       "      <td>1</td>\n",
       "      <td>2021</td>\n",
       "      <td>2.00</td>\n",
       "    </tr>\n",
       "    <tr>\n",
       "      <th>4065761</th>\n",
       "      <td>36467</td>\n",
       "      <td>0.00</td>\n",
       "      <td>5</td>\n",
       "      <td>2</td>\n",
       "      <td>4</td>\n",
       "      <td>303</td>\n",
       "      <td>214</td>\n",
       "      <td>24</td>\n",
       "      <td>34</td>\n",
       "      <td>1</td>\n",
       "      <td>1</td>\n",
       "      <td>1</td>\n",
       "      <td>2021</td>\n",
       "      <td>2.00</td>\n",
       "    </tr>\n",
       "    <tr>\n",
       "      <th>4065936</th>\n",
       "      <td>31655</td>\n",
       "      <td>1.00</td>\n",
       "      <td>3</td>\n",
       "      <td>2</td>\n",
       "      <td>4</td>\n",
       "      <td>303</td>\n",
       "      <td>222</td>\n",
       "      <td>24</td>\n",
       "      <td>44</td>\n",
       "      <td>1</td>\n",
       "      <td>1</td>\n",
       "      <td>1</td>\n",
       "      <td>2021</td>\n",
       "      <td>1.00</td>\n",
       "    </tr>\n",
       "    <tr>\n",
       "      <th>4066187</th>\n",
       "      <td>9450</td>\n",
       "      <td>1.00</td>\n",
       "      <td>3</td>\n",
       "      <td>2</td>\n",
       "      <td>5</td>\n",
       "      <td>143</td>\n",
       "      <td>12</td>\n",
       "      <td>23</td>\n",
       "      <td>15</td>\n",
       "      <td>0</td>\n",
       "      <td>2</td>\n",
       "      <td>1</td>\n",
       "      <td>2021</td>\n",
       "      <td>1.00</td>\n",
       "    </tr>\n",
       "  </tbody>\n",
       "</table>\n",
       "<p>8743 rows × 14 columns</p>\n",
       "</div>"
      ],
      "text/plain": [
       "         CUSTOMER_ACCOUNT_NR_MASK  GENDER  FAMILY_MEMBERS  seg_lifestyle_cd  \\\n",
       "11                      133537444    0.00               1                 4   \n",
       "15                      133329843    1.00               2                 4   \n",
       "161                     133253666    1.00               0                 4   \n",
       "458                     133123114    0.00               3                 3   \n",
       "459                     133103200    1.00               3                 4   \n",
       "...                           ...     ...             ...               ...   \n",
       "4065142                     44637    1.00               1                 3   \n",
       "4065182                     37912    0.00               7                 2   \n",
       "4065761                     36467    0.00               5                 2   \n",
       "4065936                     31655    1.00               3                 2   \n",
       "4066187                      9450    1.00               3                 2   \n",
       "\n",
       "         seg_lifestage_cd  LOC_BRAND_CD  LOCATION_CD  month_number  \\\n",
       "11                      6           302         4696             1   \n",
       "15                      6           303          261             1   \n",
       "161                     6           143            1             1   \n",
       "458                     6           143            5             2   \n",
       "459                     6           302         6173             1   \n",
       "...                   ...           ...          ...           ...   \n",
       "4065142                 5           303         1056            22   \n",
       "4065182                 4           303          471            24   \n",
       "4065761                 4           303          214            24   \n",
       "4065936                 4           303          222            24   \n",
       "4066187                 5           143           12            23   \n",
       "\n",
       "         num_transactions  transactions_per_month  MONTH  QUARTER  YEAR  \\\n",
       "11                      1                       1     12        4  2022   \n",
       "15                      8                       8     12        4  2022   \n",
       "161                     2                       2     12        4  2022   \n",
       "458                     1                       0     11        4  2022   \n",
       "459                     3                       3     12        4  2022   \n",
       "...                   ...                     ...    ...      ...   ...   \n",
       "4065142                 9                       0      3        1  2021   \n",
       "4065182               130                       5      1        1  2021   \n",
       "4065761                34                       1      1        1  2021   \n",
       "4065936                44                       1      1        1  2021   \n",
       "4066187                15                       0      2        1  2021   \n",
       "\n",
       "         FAMILY_MEMBERS_bin  \n",
       "11                     0.00  \n",
       "15                     1.00  \n",
       "161                    0.00  \n",
       "458                    1.00  \n",
       "459                    1.00  \n",
       "...                     ...  \n",
       "4065142                0.00  \n",
       "4065182                2.00  \n",
       "4065761                2.00  \n",
       "4065936                1.00  \n",
       "4066187                1.00  \n",
       "\n",
       "[8743 rows x 14 columns]"
      ]
     },
     "execution_count": 122,
     "metadata": {},
     "output_type": "execute_result"
    }
   ],
   "source": [
    "training_data"
   ]
  },
  {
   "cell_type": "code",
   "execution_count": 140,
   "id": "6cffbec3",
   "metadata": {},
   "outputs": [
    {
     "data": {
      "text/plain": [
       "2.00    4006\n",
       "1.00    3524\n",
       "0.00    1213\n",
       "Name: FAMILY_MEMBERS_bin, dtype: int64"
      ]
     },
     "execution_count": 140,
     "metadata": {},
     "output_type": "execute_result"
    }
   ],
   "source": [
    "training_data['FAMILY_MEMBERS_bin'].value_counts().sort_values(ascending=False)"
   ]
  },
  {
   "cell_type": "code",
   "execution_count": 141,
   "id": "6689db42",
   "metadata": {},
   "outputs": [],
   "source": [
    "X_train = training_data.drop(['FAMILY_MEMBERS','FAMILY_MEMBERS_bin'], axis=1)\n",
    "y_train = training_data['FAMILY_MEMBERS_bin']"
   ]
  },
  {
   "cell_type": "code",
   "execution_count": 142,
   "id": "1ac1523a",
   "metadata": {},
   "outputs": [],
   "source": [
    "X_train, X_test, y_train, y_test = train_test_split(X_train, y_train, test_size=0.20, random_state=21)"
   ]
  },
  {
   "cell_type": "code",
   "execution_count": 143,
   "id": "90231d1b",
   "metadata": {},
   "outputs": [
    {
     "name": "stderr",
     "output_type": "stream",
     "text": [
      "C:\\Users\\cmigu\\anaconda3\\lib\\site-packages\\sklearn\\ensemble\\_base.py:166: FutureWarning: `base_estimator` was renamed to `estimator` in version 1.2 and will be removed in 1.4.\n",
      "  warnings.warn(\n"
     ]
    }
   ],
   "source": [
    "# import XGBoost\n",
    "from xgboost import XGBClassifier\n",
    "from sklearn.naive_bayes import GaussianNB\n",
    "from sklearn.ensemble import AdaBoostClassifier\n",
    "\n",
    "#Fit our Random Forest\n",
    "rf=RandomForestClassifier()\n",
    "rf.fit(X_train,y_train)\n",
    "\n",
    "#Fit our Knn\n",
    "knn = KNeighborsClassifier(n_neighbors=38)\n",
    "knn.fit(X_train, y_train)\n",
    "\n",
    "from sklearn.tree import DecisionTreeClassifier\n",
    "dt = DecisionTreeClassifier(random_state=0)\n",
    "dt.fit(X_train, y_train)\n",
    "\n",
    "xgb = XGBClassifier(random_state=0)\n",
    "xgb.fit(X_train, y_train)\n",
    "\n",
    "nb = GaussianNB()\n",
    "nb.fit(X_train, y_train)\n",
    "\n",
    "ada = AdaBoostClassifier(base_estimator = dt, random_state=42)\n",
    "ada.fit(X_train, y_train);"
   ]
  },
  {
   "cell_type": "code",
   "execution_count": 146,
   "id": "4a3d2ca0",
   "metadata": {},
   "outputs": [
    {
     "name": "stdout",
     "output_type": "stream",
     "text": [
      "              precision    recall  f1-score   support\n",
      "\n",
      "         0.0       1.00      1.00      1.00       972\n",
      "         1.0       1.00      1.00      1.00      2810\n",
      "         2.0       1.00      1.00      1.00      3212\n",
      "\n",
      "    accuracy                           1.00      6994\n",
      "   macro avg       1.00      1.00      1.00      6994\n",
      "weighted avg       1.00      1.00      1.00      6994\n",
      "\n"
     ]
    }
   ],
   "source": [
    "# Check for Random forest model\n",
    "y_pred_rf = rf.predict(X_train)\n",
    "print(classification_report(y_train, y_pred_rf))"
   ]
  },
  {
   "cell_type": "code",
   "execution_count": 147,
   "id": "1a8e1cf7",
   "metadata": {
    "scrolled": true
   },
   "outputs": [
    {
     "name": "stdout",
     "output_type": "stream",
     "text": [
      "              precision    recall  f1-score   support\n",
      "\n",
      "         0.0       0.47      0.18      0.26       241\n",
      "         1.0       0.48      0.48      0.48       714\n",
      "         2.0       0.53      0.63      0.58       794\n",
      "\n",
      "    accuracy                           0.51      1749\n",
      "   macro avg       0.49      0.43      0.44      1749\n",
      "weighted avg       0.50      0.51      0.49      1749\n",
      "\n"
     ]
    }
   ],
   "source": [
    "# Check for Random forest model\n",
    "y_pred_rf = rf.predict(X_test)\n",
    "print(classification_report(y_test, y_pred_rf))"
   ]
  },
  {
   "cell_type": "code",
   "execution_count": 148,
   "id": "a37f1992",
   "metadata": {},
   "outputs": [
    {
     "name": "stdout",
     "output_type": "stream",
     "text": [
      "              precision    recall  f1-score   support\n",
      "\n",
      "         0.0       0.61      0.53      0.57       972\n",
      "         1.0       0.61      0.66      0.63      2810\n",
      "         2.0       0.70      0.67      0.68      3212\n",
      "\n",
      "    accuracy                           0.65      6994\n",
      "   macro avg       0.64      0.62      0.63      6994\n",
      "weighted avg       0.65      0.65      0.65      6994\n",
      "\n"
     ]
    }
   ],
   "source": [
    "# Check for Random forest model\n",
    "y_pred_knn = knn.predict(X_train)\n",
    "print(classification_report(y_train, y_pred_knn))"
   ]
  },
  {
   "cell_type": "code",
   "execution_count": 149,
   "id": "f3d81031",
   "metadata": {},
   "outputs": [
    {
     "name": "stdout",
     "output_type": "stream",
     "text": [
      "              precision    recall  f1-score   support\n",
      "\n",
      "         0.0       0.45      0.41      0.43       241\n",
      "         1.0       0.42      0.45      0.43       714\n",
      "         2.0       0.51      0.50      0.50       794\n",
      "\n",
      "    accuracy                           0.46      1749\n",
      "   macro avg       0.46      0.45      0.45      1749\n",
      "weighted avg       0.46      0.46      0.46      1749\n",
      "\n"
     ]
    }
   ],
   "source": [
    "# Check for Random forest model\n",
    "y_pred_knn = knn.predict(X_test)\n",
    "print(classification_report(y_test, y_pred_knn))"
   ]
  },
  {
   "cell_type": "code",
   "execution_count": 150,
   "id": "492cbe25",
   "metadata": {},
   "outputs": [
    {
     "name": "stdout",
     "output_type": "stream",
     "text": [
      "              precision    recall  f1-score   support\n",
      "\n",
      "         0.0       1.00      1.00      1.00       972\n",
      "         1.0       1.00      1.00      1.00      2810\n",
      "         2.0       1.00      1.00      1.00      3212\n",
      "\n",
      "    accuracy                           1.00      6994\n",
      "   macro avg       1.00      1.00      1.00      6994\n",
      "weighted avg       1.00      1.00      1.00      6994\n",
      "\n"
     ]
    }
   ],
   "source": [
    "# Check for Random forest model\n",
    "y_pred_dt = dt.predict(X_train)\n",
    "print(classification_report(y_train, y_pred_dt))"
   ]
  },
  {
   "cell_type": "code",
   "execution_count": 151,
   "id": "3ac0fd94",
   "metadata": {},
   "outputs": [
    {
     "name": "stdout",
     "output_type": "stream",
     "text": [
      "              precision    recall  f1-score   support\n",
      "\n",
      "         0.0       0.31      0.34      0.32       241\n",
      "         1.0       0.44      0.42      0.43       714\n",
      "         2.0       0.49      0.50      0.50       794\n",
      "\n",
      "    accuracy                           0.45      1749\n",
      "   macro avg       0.41      0.42      0.42      1749\n",
      "weighted avg       0.45      0.45      0.45      1749\n",
      "\n"
     ]
    }
   ],
   "source": [
    "# Check for Random forest model\n",
    "y_pred_dt = dt.predict(X_test)\n",
    "print(classification_report(y_test, y_pred_dt))"
   ]
  },
  {
   "cell_type": "code",
   "execution_count": 152,
   "id": "1018a407",
   "metadata": {},
   "outputs": [
    {
     "name": "stdout",
     "output_type": "stream",
     "text": [
      "              precision    recall  f1-score   support\n",
      "\n",
      "         0.0       0.62      0.37      0.47       241\n",
      "         1.0       0.49      0.47      0.48       714\n",
      "         2.0       0.55      0.63      0.59       794\n",
      "\n",
      "    accuracy                           0.53      1749\n",
      "   macro avg       0.55      0.49      0.51      1749\n",
      "weighted avg       0.53      0.53      0.53      1749\n",
      "\n"
     ]
    }
   ],
   "source": [
    "# Check for Random forest model\n",
    "y_pred_xgb = xgb.predict(X_test)\n",
    "print(classification_report(y_test, y_pred_xgb))"
   ]
  },
  {
   "cell_type": "code",
   "execution_count": 153,
   "id": "2318068a",
   "metadata": {},
   "outputs": [
    {
     "name": "stdout",
     "output_type": "stream",
     "text": [
      "              precision    recall  f1-score   support\n",
      "\n",
      "         0.0       0.00      0.00      0.00       241\n",
      "         1.0       0.45      0.44      0.45       714\n",
      "         2.0       0.53      0.70      0.61       794\n",
      "\n",
      "    accuracy                           0.50      1749\n",
      "   macro avg       0.33      0.38      0.35      1749\n",
      "weighted avg       0.43      0.50      0.46      1749\n",
      "\n"
     ]
    },
    {
     "name": "stderr",
     "output_type": "stream",
     "text": [
      "C:\\Users\\cmigu\\anaconda3\\lib\\site-packages\\sklearn\\metrics\\_classification.py:1344: UndefinedMetricWarning: Precision and F-score are ill-defined and being set to 0.0 in labels with no predicted samples. Use `zero_division` parameter to control this behavior.\n",
      "  _warn_prf(average, modifier, msg_start, len(result))\n",
      "C:\\Users\\cmigu\\anaconda3\\lib\\site-packages\\sklearn\\metrics\\_classification.py:1344: UndefinedMetricWarning: Precision and F-score are ill-defined and being set to 0.0 in labels with no predicted samples. Use `zero_division` parameter to control this behavior.\n",
      "  _warn_prf(average, modifier, msg_start, len(result))\n",
      "C:\\Users\\cmigu\\anaconda3\\lib\\site-packages\\sklearn\\metrics\\_classification.py:1344: UndefinedMetricWarning: Precision and F-score are ill-defined and being set to 0.0 in labels with no predicted samples. Use `zero_division` parameter to control this behavior.\n",
      "  _warn_prf(average, modifier, msg_start, len(result))\n"
     ]
    }
   ],
   "source": [
    "# Check for Naive Bayes model\n",
    "y_pred_nb = nb.predict(X_test)\n",
    "print(classification_report(y_test, y_pred_nb))"
   ]
  },
  {
   "cell_type": "code",
   "execution_count": 154,
   "id": "9d1be662",
   "metadata": {
    "scrolled": false
   },
   "outputs": [
    {
     "name": "stdout",
     "output_type": "stream",
     "text": [
      "              precision    recall  f1-score   support\n",
      "\n",
      "         0.0       0.32      0.35      0.33       241\n",
      "         1.0       0.45      0.44      0.45       714\n",
      "         2.0       0.49      0.49      0.49       794\n",
      "\n",
      "    accuracy                           0.45      1749\n",
      "   macro avg       0.42      0.43      0.42      1749\n",
      "weighted avg       0.45      0.45      0.45      1749\n",
      "\n"
     ]
    }
   ],
   "source": [
    "# Check for ADABOOST model\n",
    "y_pred_ada = ada.predict(X_test)\n",
    "print(classification_report(y_test, y_pred_ada))"
   ]
  },
  {
   "cell_type": "code",
   "execution_count": 162,
   "id": "f67f3ff7",
   "metadata": {},
   "outputs": [],
   "source": [
    "error_rate = []\n",
    "# Will take some time\n",
    "for i in range(1,100):\n",
    " \n",
    " knn = KNeighborsClassifier(n_neighbors=i)\n",
    " knn.fit(X_train,y_train)\n",
    " pred_i = knn.predict(X_test)\n",
    " error_rate.append(np.mean(pred_i != y_test))\n"
   ]
  },
  {
   "cell_type": "code",
   "execution_count": 163,
   "id": "5fd347b7",
   "metadata": {},
   "outputs": [
    {
     "data": {
      "text/plain": [
       "Text(0, 0.5, 'Error Rate')"
      ]
     },
     "execution_count": 163,
     "metadata": {},
     "output_type": "execute_result"
    },
    {
     "data": {
      "image/png": "[encoded data removed]",
      "text/plain": [
       "<Figure size 1000x600 with 1 Axes>"
      ]
     },
     "metadata": {},
     "output_type": "display_data"
    }
   ],
   "source": [
    "plt.figure(figsize=(10,6))\n",
    "plt.plot(range(1,100),error_rate,color='blue', linestyle='dashed', marker='o', markerfacecolor='red', markersize=10)\n",
    "plt.title('Error Rate vs. K Value')\n",
    "plt.xlabel('K')\n",
    "plt.ylabel('Error Rate')"
   ]
  },
  {
   "cell_type": "code",
   "execution_count": 165,
   "id": "b16d253a",
   "metadata": {},
   "outputs": [
    {
     "name": "stdout",
     "output_type": "stream",
     "text": [
      "              precision    recall  f1-score   support\n",
      "\n",
      "         0.0       0.72      0.36      0.48       241\n",
      "         1.0       0.49      0.53      0.51       714\n",
      "         2.0       0.56      0.61      0.59       794\n",
      "\n",
      "    accuracy                           0.54      1749\n",
      "   macro avg       0.59      0.50      0.52      1749\n",
      "weighted avg       0.56      0.54      0.54      1749\n",
      "\n"
     ]
    }
   ],
   "source": [
    "# NOW WITH K=20\n",
    "knn = KNeighborsClassifier(n_neighbors=38)\n",
    "knn.fit(X_train,y_train)\n",
    "\n",
    "y_pred_knn = knn.predict(X_test)\n",
    "print(classification_report(y_test, y_pred_knn))\n"
   ]
  },
  {
   "cell_type": "code",
   "execution_count": 167,
   "id": "96a0bb80",
   "metadata": {},
   "outputs": [
    {
     "data": {
      "text/plain": [
       "<sklearn.metrics._plot.confusion_matrix.ConfusionMatrixDisplay at 0x241947302e0>"
      ]
     },
     "execution_count": 167,
     "metadata": {},
     "output_type": "execute_result"
    },
    {
     "data": {
      "image/png": "[encoded data removed]",
      "text/plain": [
       "<Figure size 640x480 with 2 Axes>"
      ]
     },
     "metadata": {},
     "output_type": "display_data"
    },
    {
     "data": {
      "image/png": "[encoded data removed]",
      "text/plain": [
       "<Figure size 640x480 with 2 Axes>"
      ]
     },
     "metadata": {},
     "output_type": "display_data"
    }
   ],
   "source": [
    "# And we can print the confusion matrix as well\n",
    "from sklearn.metrics import ConfusionMatrixDisplay\n",
    "# Check for knn model\n",
    "ConfusionMatrixDisplay.from_estimator(knn, X_test, y_test) \n",
    "# Check for knn model\n",
    "ConfusionMatrixDisplay.from_estimator(xgb, X_test, y_test) "
   ]
  },
  {
   "cell_type": "code",
   "execution_count": null,
   "id": "d683cc91",
   "metadata": {},
   "outputs": [],
   "source": []
  },
  {
   "cell_type": "code",
   "execution_count": 191,
   "id": "54f3502b",
   "metadata": {},
   "outputs": [],
   "source": [
    "notnulls = df1[df1['FAMILY_MEMBERS'].notnull()]"
   ]
  },
  {
   "cell_type": "code",
   "execution_count": 186,
   "id": "edaffd05",
   "metadata": {},
   "outputs": [],
   "source": [
    "notnulls = df1"
   ]
  },
  {
   "cell_type": "code",
   "execution_count": 193,
   "id": "e6918a70",
   "metadata": {
    "scrolled": false
   },
   "outputs": [
    {
     "data": {
      "image/png": "[encoded data removed]",
      "text/plain": [
       "<Figure size 640x480 with 1 Axes>"
      ]
     },
     "metadata": {},
     "output_type": "display_data"
    }
   ],
   "source": [
    "import matplotlib.pyplot as plt\n",
    "\n",
    "# Create a box plot of the 'transactions_per_month' column\n",
    "plt.boxplot(notnulls['FAMILY_MEMBERS'])\n",
    "\n",
    "# Add a title and labels to the plot\n",
    "plt.title('Box Plot of Transactions per Month')\n",
    "plt.xlabel('Transactions per Month')\n",
    "plt.ylabel('Frequency')\n",
    "\n",
    "# Show the plot\n",
    "plt.show()"
   ]
  },
  {
   "cell_type": "code",
   "execution_count": 192,
   "id": "1aab1cb7",
   "metadata": {},
   "outputs": [
    {
     "data": {
      "text/plain": [
       "CUSTOMER_ACCOUNT_NR_MASK    0\n",
       "GENDER                      0\n",
       "FAMILY_MEMBERS              0\n",
       "seg_lifestyle_cd            0\n",
       "seg_lifestage_cd            0\n",
       "LOC_BRAND_CD                0\n",
       "LOCATION_CD                 0\n",
       "month_number                0\n",
       "num_transactions            0\n",
       "transactions_per_month      0\n",
       "MONTH                       0\n",
       "QUARTER                     0\n",
       "YEAR                        0\n",
       "dtype: int64"
      ]
     },
     "execution_count": 192,
     "metadata": {},
     "output_type": "execute_result"
    }
   ],
   "source": [
    "notnulls.isna().sum()"
   ]
  },
  {
   "cell_type": "code",
   "execution_count": 196,
   "id": "ee55bf3d",
   "metadata": {},
   "outputs": [],
   "source": [
    "testing_data = df1[df1['FAMILY_MEMBERS'].isnull()]\n",
    "training_data = df1[df1['FAMILY_MEMBERS'].notnull()]\n",
    "\n",
    "X_train = training_data.drop(['FAMILY_MEMBERS'], axis=1)\n",
    "y_train = training_data['FAMILY_MEMBERS']"
   ]
  },
  {
   "cell_type": "code",
   "execution_count": 197,
   "id": "1c9ee0a5",
   "metadata": {},
   "outputs": [],
   "source": [
    "X_train, X_test, y_train, y_test = train_test_split(X_train, y_train, test_size=0.30, random_state=21)"
   ]
  },
  {
   "cell_type": "code",
   "execution_count": 203,
   "id": "1766da10",
   "metadata": {},
   "outputs": [
    {
     "data": {
      "text/plain": [
       "RandomForestRegressor()"
      ]
     },
     "execution_count": 203,
     "metadata": {},
     "output_type": "execute_result"
    }
   ],
   "source": [
    "from sklearn.linear_model import LinearRegression\n",
    "from sklearn.neighbors import KNeighborsRegressor\n",
    "from sklearn.ensemble import RandomForestRegressor\n",
    "\n",
    "# Fit models to training dataset\n",
    "regr_lr = LinearRegression()\n",
    "regr_lr.fit(X_train, y_train)\n",
    "\n",
    "regr_kn = KNeighborsRegressor()\n",
    "regr_kn.fit(X_train, y_train)\n",
    "\n",
    "regr_rf = RandomForestRegressor()\n",
    "regr_rf.fit(X_train, y_train)\n"
   ]
  },
  {
   "cell_type": "code",
   "execution_count": 204,
   "id": "a322f663",
   "metadata": {},
   "outputs": [],
   "source": [
    "y_pred_train_lr = regr_lr.predict(X_train)\n",
    "y_pred_train_kn = regr_kn.predict(X_train)\n",
    "y_pred_train_rf = regr_rf.predict(X_train)"
   ]
  },
  {
   "cell_type": "code",
   "execution_count": 205,
   "id": "6923c790",
   "metadata": {},
   "outputs": [
    {
     "name": "stderr",
     "output_type": "stream",
     "text": [
      "C:\\Users\\cmigu\\anaconda3\\lib\\site-packages\\sklearn\\metrics\\_regression.py:95: FutureWarning: Arrays of bytes/strings is being converted to decimal numbers if dtype='numeric'. This behavior is deprecated in 0.24 and will be removed in 1.1 (renaming of 0.26). Please convert your data to numeric values explicitly instead.\n",
      "  y_true = check_array(y_true, ensure_2d=False, dtype=dtype)\n",
      "C:\\Users\\cmigu\\anaconda3\\lib\\site-packages\\sklearn\\metrics\\_regression.py:95: FutureWarning: Arrays of bytes/strings is being converted to decimal numbers if dtype='numeric'. This behavior is deprecated in 0.24 and will be removed in 1.1 (renaming of 0.26). Please convert your data to numeric values explicitly instead.\n",
      "  y_true = check_array(y_true, ensure_2d=False, dtype=dtype)\n",
      "C:\\Users\\cmigu\\anaconda3\\lib\\site-packages\\sklearn\\metrics\\_regression.py:95: FutureWarning: Arrays of bytes/strings is being converted to decimal numbers if dtype='numeric'. This behavior is deprecated in 0.24 and will be removed in 1.1 (renaming of 0.26). Please convert your data to numeric values explicitly instead.\n",
      "  y_true = check_array(y_true, ensure_2d=False, dtype=dtype)\n",
      "C:\\Users\\cmigu\\anaconda3\\lib\\site-packages\\sklearn\\metrics\\_regression.py:95: FutureWarning: Arrays of bytes/strings is being converted to decimal numbers if dtype='numeric'. This behavior is deprecated in 0.24 and will be removed in 1.1 (renaming of 0.26). Please convert your data to numeric values explicitly instead.\n",
      "  y_true = check_array(y_true, ensure_2d=False, dtype=dtype)\n",
      "C:\\Users\\cmigu\\anaconda3\\lib\\site-packages\\sklearn\\metrics\\_regression.py:95: FutureWarning: Arrays of bytes/strings is being converted to decimal numbers if dtype='numeric'. This behavior is deprecated in 0.24 and will be removed in 1.1 (renaming of 0.26). Please convert your data to numeric values explicitly instead.\n",
      "  y_true = check_array(y_true, ensure_2d=False, dtype=dtype)\n",
      "C:\\Users\\cmigu\\anaconda3\\lib\\site-packages\\sklearn\\metrics\\_regression.py:95: FutureWarning: Arrays of bytes/strings is being converted to decimal numbers if dtype='numeric'. This behavior is deprecated in 0.24 and will be removed in 1.1 (renaming of 0.26). Please convert your data to numeric values explicitly instead.\n",
      "  y_true = check_array(y_true, ensure_2d=False, dtype=dtype)\n",
      "C:\\Users\\cmigu\\anaconda3\\lib\\site-packages\\sklearn\\metrics\\_regression.py:95: FutureWarning: Arrays of bytes/strings is being converted to decimal numbers if dtype='numeric'. This behavior is deprecated in 0.24 and will be removed in 1.1 (renaming of 0.26). Please convert your data to numeric values explicitly instead.\n",
      "  y_true = check_array(y_true, ensure_2d=False, dtype=dtype)\n",
      "C:\\Users\\cmigu\\anaconda3\\lib\\site-packages\\sklearn\\metrics\\_regression.py:95: FutureWarning: Arrays of bytes/strings is being converted to decimal numbers if dtype='numeric'. This behavior is deprecated in 0.24 and will be removed in 1.1 (renaming of 0.26). Please convert your data to numeric values explicitly instead.\n",
      "  y_true = check_array(y_true, ensure_2d=False, dtype=dtype)\n",
      "C:\\Users\\cmigu\\anaconda3\\lib\\site-packages\\sklearn\\metrics\\_regression.py:95: FutureWarning: Arrays of bytes/strings is being converted to decimal numbers if dtype='numeric'. This behavior is deprecated in 0.24 and will be removed in 1.1 (renaming of 0.26). Please convert your data to numeric values explicitly instead.\n",
      "  y_true = check_array(y_true, ensure_2d=False, dtype=dtype)\n",
      "C:\\Users\\cmigu\\anaconda3\\lib\\site-packages\\sklearn\\metrics\\_regression.py:95: FutureWarning: Arrays of bytes/strings is being converted to decimal numbers if dtype='numeric'. This behavior is deprecated in 0.24 and will be removed in 1.1 (renaming of 0.26). Please convert your data to numeric values explicitly instead.\n",
      "  y_true = check_array(y_true, ensure_2d=False, dtype=dtype)\n",
      "C:\\Users\\cmigu\\anaconda3\\lib\\site-packages\\sklearn\\metrics\\_regression.py:95: FutureWarning: Arrays of bytes/strings is being converted to decimal numbers if dtype='numeric'. This behavior is deprecated in 0.24 and will be removed in 1.1 (renaming of 0.26). Please convert your data to numeric values explicitly instead.\n",
      "  y_true = check_array(y_true, ensure_2d=False, dtype=dtype)\n",
      "C:\\Users\\cmigu\\anaconda3\\lib\\site-packages\\sklearn\\metrics\\_regression.py:95: FutureWarning: Arrays of bytes/strings is being converted to decimal numbers if dtype='numeric'. This behavior is deprecated in 0.24 and will be removed in 1.1 (renaming of 0.26). Please convert your data to numeric values explicitly instead.\n",
      "  y_true = check_array(y_true, ensure_2d=False, dtype=dtype)\n",
      "C:\\Users\\cmigu\\anaconda3\\lib\\site-packages\\sklearn\\metrics\\_regression.py:95: FutureWarning: Arrays of bytes/strings is being converted to decimal numbers if dtype='numeric'. This behavior is deprecated in 0.24 and will be removed in 1.1 (renaming of 0.26). Please convert your data to numeric values explicitly instead.\n",
      "  y_true = check_array(y_true, ensure_2d=False, dtype=dtype)\n",
      "C:\\Users\\cmigu\\anaconda3\\lib\\site-packages\\sklearn\\metrics\\_regression.py:95: FutureWarning: Arrays of bytes/strings is being converted to decimal numbers if dtype='numeric'. This behavior is deprecated in 0.24 and will be removed in 1.1 (renaming of 0.26). Please convert your data to numeric values explicitly instead.\n",
      "  y_true = check_array(y_true, ensure_2d=False, dtype=dtype)\n",
      "C:\\Users\\cmigu\\anaconda3\\lib\\site-packages\\sklearn\\metrics\\_regression.py:95: FutureWarning: Arrays of bytes/strings is being converted to decimal numbers if dtype='numeric'. This behavior is deprecated in 0.24 and will be removed in 1.1 (renaming of 0.26). Please convert your data to numeric values explicitly instead.\n",
      "  y_true = check_array(y_true, ensure_2d=False, dtype=dtype)\n"
     ]
    },
    {
     "data": {
      "text/html": [
       "<div>\n",
       "<style scoped>\n",
       "    .dataframe tbody tr th:only-of-type {\n",
       "        vertical-align: middle;\n",
       "    }\n",
       "\n",
       "    .dataframe tbody tr th {\n",
       "        vertical-align: top;\n",
       "    }\n",
       "\n",
       "    .dataframe thead th {\n",
       "        text-align: right;\n",
       "    }\n",
       "</style>\n",
       "<table border=\"1\" class=\"dataframe\">\n",
       "  <thead>\n",
       "    <tr style=\"text-align: right;\">\n",
       "      <th></th>\n",
       "      <th>RMSE</th>\n",
       "      <th>MAE</th>\n",
       "      <th>MAPE</th>\n",
       "      <th>MEDAE</th>\n",
       "      <th>R2</th>\n",
       "    </tr>\n",
       "  </thead>\n",
       "  <tbody>\n",
       "    <tr>\n",
       "      <th>LinearRegression</th>\n",
       "      <td>1.56</td>\n",
       "      <td>1.25</td>\n",
       "      <td>1338316252154027.25</td>\n",
       "      <td>1.11</td>\n",
       "      <td>0.08</td>\n",
       "    </tr>\n",
       "    <tr>\n",
       "      <th>KNeighborsRegressor</th>\n",
       "      <td>1.37</td>\n",
       "      <td>1.08</td>\n",
       "      <td>864661693163453.38</td>\n",
       "      <td>1.00</td>\n",
       "      <td>0.30</td>\n",
       "    </tr>\n",
       "    <tr>\n",
       "      <th>RandomForestRegressor</th>\n",
       "      <td>0.59</td>\n",
       "      <td>0.46</td>\n",
       "      <td>424891076609060.75</td>\n",
       "      <td>0.39</td>\n",
       "      <td>0.87</td>\n",
       "    </tr>\n",
       "  </tbody>\n",
       "</table>\n",
       "</div>"
      ],
      "text/plain": [
       "                       RMSE  MAE                MAPE  MEDAE   R2\n",
       "LinearRegression       1.56 1.25 1338316252154027.25   1.11 0.08\n",
       "KNeighborsRegressor    1.37 1.08  864661693163453.38   1.00 0.30\n",
       "RandomForestRegressor  0.59 0.46  424891076609060.75   0.39 0.87"
      ]
     },
     "execution_count": 205,
     "metadata": {},
     "output_type": "execute_result"
    }
   ],
   "source": [
    "\n",
    "#Root mean squared error\n",
    "from sklearn.metrics import mean_squared_error\n",
    "rmse_train_lr=mean_squared_error(y_train, y_pred_train_lr, squared=False)\n",
    "rmse_train_kn=mean_squared_error(y_train, y_pred_train_kn, squared=False)\n",
    "rmse_train_rf=mean_squared_error(y_train, y_pred_train_rf, squared=False)\n",
    "\n",
    "#Mean absolute error\n",
    "from sklearn.metrics import mean_absolute_error\n",
    "mae_train_lr=mean_absolute_error(y_train, y_pred_train_lr)\n",
    "mae_train_kn=mean_absolute_error(y_train, y_pred_train_kn)\n",
    "mae_train_rf=mean_absolute_error(y_train, y_pred_train_rf)\n",
    "\n",
    "#Mean absolute percentage error\n",
    "from sklearn.metrics import mean_absolute_percentage_error\n",
    "mape_train_lr=mean_absolute_percentage_error(y_train, y_pred_train_lr)\n",
    "mape_train_kn=mean_absolute_percentage_error(y_train, y_pred_train_kn)\n",
    "mape_train_rf=mean_absolute_percentage_error(y_train, y_pred_train_rf)\n",
    "\n",
    "#Median absolute error\n",
    "from sklearn.metrics import median_absolute_error\n",
    "medae_train_lr=median_absolute_error(y_train, y_pred_train_lr)\n",
    "medae_train_kn=median_absolute_error(y_train, y_pred_train_kn)\n",
    "medae_train_rf=median_absolute_error(y_train, y_pred_train_rf)\n",
    "\n",
    "#R² score\n",
    "from sklearn.metrics import r2_score\n",
    "r2_train_lr=r2_score(y_train, y_pred_train_lr)\n",
    "r2_train_kn=r2_score(y_train, y_pred_train_kn)\n",
    "r2_train_rf=r2_score(y_train, y_pred_train_rf)\n",
    "\n",
    "#Generate a comparison table\n",
    "metrics_train = pd.DataFrame({\n",
    "    'RMSE': [rmse_train_lr, rmse_train_kn, rmse_train_rf],\n",
    "    'MAE': [mae_train_lr, mae_train_kn, mae_train_rf],\n",
    "    'MAPE': [mape_train_lr, mape_train_kn, mape_train_rf],\n",
    "    'MEDAE': [medae_train_lr, medae_train_kn, medae_train_rf],\n",
    "    'R2': [r2_train_lr, r2_train_kn, r2_train_rf],\n",
    "\n",
    "},index=[\"LinearRegression\",\"KNeighborsRegressor\",\"RandomForestRegressor\"])\n",
    "\n",
    "metrics_train"
   ]
  },
  {
   "cell_type": "code",
   "execution_count": 206,
   "id": "c46ace64",
   "metadata": {},
   "outputs": [],
   "source": [
    "y_pred_lr = regr_lr.predict(X_test)\n",
    "y_pred_kn = regr_kn.predict(X_test)\n",
    "y_pred_rf = regr_rf.predict(X_test)"
   ]
  },
  {
   "cell_type": "code",
   "execution_count": 208,
   "id": "73cf32c5",
   "metadata": {},
   "outputs": [
    {
     "name": "stderr",
     "output_type": "stream",
     "text": [
      "C:\\Users\\cmigu\\anaconda3\\lib\\site-packages\\sklearn\\metrics\\_regression.py:95: FutureWarning: Arrays of bytes/strings is being converted to decimal numbers if dtype='numeric'. This behavior is deprecated in 0.24 and will be removed in 1.1 (renaming of 0.26). Please convert your data to numeric values explicitly instead.\n",
      "  y_true = check_array(y_true, ensure_2d=False, dtype=dtype)\n",
      "C:\\Users\\cmigu\\anaconda3\\lib\\site-packages\\sklearn\\metrics\\_regression.py:95: FutureWarning: Arrays of bytes/strings is being converted to decimal numbers if dtype='numeric'. This behavior is deprecated in 0.24 and will be removed in 1.1 (renaming of 0.26). Please convert your data to numeric values explicitly instead.\n",
      "  y_true = check_array(y_true, ensure_2d=False, dtype=dtype)\n",
      "C:\\Users\\cmigu\\anaconda3\\lib\\site-packages\\sklearn\\metrics\\_regression.py:95: FutureWarning: Arrays of bytes/strings is being converted to decimal numbers if dtype='numeric'. This behavior is deprecated in 0.24 and will be removed in 1.1 (renaming of 0.26). Please convert your data to numeric values explicitly instead.\n",
      "  y_true = check_array(y_true, ensure_2d=False, dtype=dtype)\n",
      "C:\\Users\\cmigu\\anaconda3\\lib\\site-packages\\sklearn\\metrics\\_regression.py:95: FutureWarning: Arrays of bytes/strings is being converted to decimal numbers if dtype='numeric'. This behavior is deprecated in 0.24 and will be removed in 1.1 (renaming of 0.26). Please convert your data to numeric values explicitly instead.\n",
      "  y_true = check_array(y_true, ensure_2d=False, dtype=dtype)\n",
      "C:\\Users\\cmigu\\anaconda3\\lib\\site-packages\\sklearn\\metrics\\_regression.py:95: FutureWarning: Arrays of bytes/strings is being converted to decimal numbers if dtype='numeric'. This behavior is deprecated in 0.24 and will be removed in 1.1 (renaming of 0.26). Please convert your data to numeric values explicitly instead.\n",
      "  y_true = check_array(y_true, ensure_2d=False, dtype=dtype)\n",
      "C:\\Users\\cmigu\\anaconda3\\lib\\site-packages\\sklearn\\metrics\\_regression.py:95: FutureWarning: Arrays of bytes/strings is being converted to decimal numbers if dtype='numeric'. This behavior is deprecated in 0.24 and will be removed in 1.1 (renaming of 0.26). Please convert your data to numeric values explicitly instead.\n",
      "  y_true = check_array(y_true, ensure_2d=False, dtype=dtype)\n",
      "C:\\Users\\cmigu\\anaconda3\\lib\\site-packages\\sklearn\\metrics\\_regression.py:95: FutureWarning: Arrays of bytes/strings is being converted to decimal numbers if dtype='numeric'. This behavior is deprecated in 0.24 and will be removed in 1.1 (renaming of 0.26). Please convert your data to numeric values explicitly instead.\n",
      "  y_true = check_array(y_true, ensure_2d=False, dtype=dtype)\n",
      "C:\\Users\\cmigu\\anaconda3\\lib\\site-packages\\sklearn\\metrics\\_regression.py:95: FutureWarning: Arrays of bytes/strings is being converted to decimal numbers if dtype='numeric'. This behavior is deprecated in 0.24 and will be removed in 1.1 (renaming of 0.26). Please convert your data to numeric values explicitly instead.\n",
      "  y_true = check_array(y_true, ensure_2d=False, dtype=dtype)\n",
      "C:\\Users\\cmigu\\anaconda3\\lib\\site-packages\\sklearn\\metrics\\_regression.py:95: FutureWarning: Arrays of bytes/strings is being converted to decimal numbers if dtype='numeric'. This behavior is deprecated in 0.24 and will be removed in 1.1 (renaming of 0.26). Please convert your data to numeric values explicitly instead.\n",
      "  y_true = check_array(y_true, ensure_2d=False, dtype=dtype)\n",
      "C:\\Users\\cmigu\\anaconda3\\lib\\site-packages\\sklearn\\metrics\\_regression.py:95: FutureWarning: Arrays of bytes/strings is being converted to decimal numbers if dtype='numeric'. This behavior is deprecated in 0.24 and will be removed in 1.1 (renaming of 0.26). Please convert your data to numeric values explicitly instead.\n",
      "  y_true = check_array(y_true, ensure_2d=False, dtype=dtype)\n",
      "C:\\Users\\cmigu\\anaconda3\\lib\\site-packages\\sklearn\\metrics\\_regression.py:95: FutureWarning: Arrays of bytes/strings is being converted to decimal numbers if dtype='numeric'. This behavior is deprecated in 0.24 and will be removed in 1.1 (renaming of 0.26). Please convert your data to numeric values explicitly instead.\n",
      "  y_true = check_array(y_true, ensure_2d=False, dtype=dtype)\n",
      "C:\\Users\\cmigu\\anaconda3\\lib\\site-packages\\sklearn\\metrics\\_regression.py:95: FutureWarning: Arrays of bytes/strings is being converted to decimal numbers if dtype='numeric'. This behavior is deprecated in 0.24 and will be removed in 1.1 (renaming of 0.26). Please convert your data to numeric values explicitly instead.\n",
      "  y_true = check_array(y_true, ensure_2d=False, dtype=dtype)\n",
      "C:\\Users\\cmigu\\anaconda3\\lib\\site-packages\\sklearn\\metrics\\_regression.py:95: FutureWarning: Arrays of bytes/strings is being converted to decimal numbers if dtype='numeric'. This behavior is deprecated in 0.24 and will be removed in 1.1 (renaming of 0.26). Please convert your data to numeric values explicitly instead.\n",
      "  y_true = check_array(y_true, ensure_2d=False, dtype=dtype)\n",
      "C:\\Users\\cmigu\\anaconda3\\lib\\site-packages\\sklearn\\metrics\\_regression.py:95: FutureWarning: Arrays of bytes/strings is being converted to decimal numbers if dtype='numeric'. This behavior is deprecated in 0.24 and will be removed in 1.1 (renaming of 0.26). Please convert your data to numeric values explicitly instead.\n",
      "  y_true = check_array(y_true, ensure_2d=False, dtype=dtype)\n",
      "C:\\Users\\cmigu\\anaconda3\\lib\\site-packages\\sklearn\\metrics\\_regression.py:95: FutureWarning: Arrays of bytes/strings is being converted to decimal numbers if dtype='numeric'. This behavior is deprecated in 0.24 and will be removed in 1.1 (renaming of 0.26). Please convert your data to numeric values explicitly instead.\n",
      "  y_true = check_array(y_true, ensure_2d=False, dtype=dtype)\n"
     ]
    },
    {
     "data": {
      "text/html": [
       "<div>\n",
       "<style scoped>\n",
       "    .dataframe tbody tr th:only-of-type {\n",
       "        vertical-align: middle;\n",
       "    }\n",
       "\n",
       "    .dataframe tbody tr th {\n",
       "        vertical-align: top;\n",
       "    }\n",
       "\n",
       "    .dataframe thead th {\n",
       "        text-align: right;\n",
       "    }\n",
       "</style>\n",
       "<table border=\"1\" class=\"dataframe\">\n",
       "  <thead>\n",
       "    <tr style=\"text-align: right;\">\n",
       "      <th></th>\n",
       "      <th>RMSE</th>\n",
       "      <th>MAE</th>\n",
       "      <th>MAPE</th>\n",
       "      <th>MEDAE</th>\n",
       "      <th>R2</th>\n",
       "    </tr>\n",
       "  </thead>\n",
       "  <tbody>\n",
       "    <tr>\n",
       "      <th>LinearRegression</th>\n",
       "      <td>1.54</td>\n",
       "      <td>1.25</td>\n",
       "      <td>1402101873015430.50</td>\n",
       "      <td>1.08</td>\n",
       "      <td>0.07</td>\n",
       "    </tr>\n",
       "    <tr>\n",
       "      <th>KNeighborsRegressor</th>\n",
       "      <td>1.64</td>\n",
       "      <td>1.31</td>\n",
       "      <td>1091989844837070.75</td>\n",
       "      <td>1.20</td>\n",
       "      <td>-0.06</td>\n",
       "    </tr>\n",
       "    <tr>\n",
       "      <th>RandomForestRegressor</th>\n",
       "      <td>1.55</td>\n",
       "      <td>1.24</td>\n",
       "      <td>1227132172961482.50</td>\n",
       "      <td>1.07</td>\n",
       "      <td>0.06</td>\n",
       "    </tr>\n",
       "  </tbody>\n",
       "</table>\n",
       "</div>"
      ],
      "text/plain": [
       "                       RMSE  MAE                MAPE  MEDAE    R2\n",
       "LinearRegression       1.54 1.25 1402101873015430.50   1.08  0.07\n",
       "KNeighborsRegressor    1.64 1.31 1091989844837070.75   1.20 -0.06\n",
       "RandomForestRegressor  1.55 1.24 1227132172961482.50   1.07  0.06"
      ]
     },
     "execution_count": 208,
     "metadata": {},
     "output_type": "execute_result"
    }
   ],
   "source": [
    "#Root mean squared error\n",
    "rmse_lr=mean_squared_error(y_test, y_pred_lr, squared=False)\n",
    "rmse_kn=mean_squared_error(y_test, y_pred_kn, squared=False)\n",
    "rmse_rf=mean_squared_error(y_test, y_pred_rf, squared=False)\n",
    "\n",
    "#Mean absolute error\n",
    "mae_lr=mean_absolute_error(y_test, y_pred_lr)\n",
    "mae_kn=mean_absolute_error(y_test, y_pred_kn)\n",
    "mae_rf=mean_absolute_error(y_test, y_pred_rf)\n",
    "\n",
    "#Mean absolute percentage error\n",
    "mape_lr=mean_absolute_percentage_error(y_test, y_pred_lr)\n",
    "mape_kn=mean_absolute_percentage_error(y_test, y_pred_kn)\n",
    "mape_rf=mean_absolute_percentage_error(y_test, y_pred_rf)\n",
    "\n",
    "#Median absolute error\n",
    "#The median_absolute_error is particularly interesting because it is robust to outliers. The loss is calculated by taking the median of all absolute differences between the target and the prediction.\n",
    "medae_lr=median_absolute_error(y_test, y_pred_lr)\n",
    "medae_kn=median_absolute_error(y_test, y_pred_kn)\n",
    "medae_rf=median_absolute_error(y_test, y_pred_rf)\n",
    "\n",
    "\n",
    "#R² score, the coefficient of determination\n",
    "r2_lr=r2_score(y_test, y_pred_lr)\n",
    "r2_kn=r2_score(y_test, y_pred_kn)\n",
    "r2_rf=r2_score(y_test, y_pred_rf)\n",
    "\n",
    "#Generate a comparison table\n",
    "metrics_test = pd.DataFrame({\n",
    "    'RMSE': [rmse_lr, rmse_kn, rmse_rf],\n",
    "    'MAE': [mae_lr, mae_kn, mae_rf],\n",
    "    'MAPE': [mape_lr, mape_kn, mape_rf],\n",
    "    'MEDAE': [medae_lr, medae_kn, medae_rf],\n",
    "    'R2': [r2_lr, r2_kn, r2_rf],\n",
    "\n",
    "},index=[\"LinearRegression\",\"KNeighborsRegressor\",\"RandomForestRegressor\"])\n",
    "\n",
    "metrics_test"
   ]
  },
  {
   "cell_type": "code",
   "execution_count": 218,
   "id": "602862ed",
   "metadata": {},
   "outputs": [
    {
     "data": {
      "image/png": "[encoded data removed]",
      "text/plain": [
       "<Figure size 640x480 with 1 Axes>"
      ]
     },
     "metadata": {},
     "output_type": "display_data"
    }
   ],
   "source": [
    "plt.scatter(y_test,y_pred_lr, c=\"steelblue\")\n",
    "plt.plot( [0,14],[0,14], c='dimgrey' )\n",
    "plt.xlabel('Real charges')\n",
    "plt.ylabel('Predicted charges')\n",
    "plt.annotate('MEDAE: ' + str(round(medae_lr,2)), [14, 14])\n",
    "plt.title('Linear regression', fontsize=20)\n",
    "plt.show()"
   ]
  },
  {
   "cell_type": "code",
   "execution_count": 219,
   "id": "82122112",
   "metadata": {},
   "outputs": [
    {
     "data": {
      "image/png": "[encoded data removed]",
      "text/plain": [
       "<Figure size 640x480 with 1 Axes>"
      ]
     },
     "metadata": {},
     "output_type": "display_data"
    }
   ],
   "source": [
    "plt.scatter(y_test,y_pred_kn, c=\"steelblue\")\n",
    "plt.plot( [0,14],[0,14], c='dimgrey' )\n",
    "plt.xlabel('Real charges')\n",
    "plt.ylabel('Predicted charges')\n",
    "plt.title('KNeighbors', fontsize=20)\n",
    "plt.annotate('MEDAE: ' + str(round(medae_kn,2)), [14, 14])\n",
    "plt.show()"
   ]
  },
  {
   "cell_type": "code",
   "execution_count": 252,
   "id": "e872ddb5",
   "metadata": {},
   "outputs": [
    {
     "ename": "ValueError",
     "evalue": "Valid options for 'strategy' are ('uniform', 'quantile', 'kmeans'). Got strategy='entropy' instead.",
     "output_type": "error",
     "traceback": [
      "\u001b[1;31m---------------------------------------------------------------------------\u001b[0m",
      "\u001b[1;31mValueError\u001b[0m                                Traceback (most recent call last)",
      "\u001b[1;32m~\\AppData\\Local\\Temp\\ipykernel_19956\\3118520711.py\u001b[0m in \u001b[0;36m<module>\u001b[1;34m\u001b[0m\n\u001b[0;32m     14\u001b[0m \u001b[1;33m\u001b[0m\u001b[0m\n\u001b[0;32m     15\u001b[0m \u001b[1;31m# Fit and transform the data\u001b[0m\u001b[1;33m\u001b[0m\u001b[1;33m\u001b[0m\u001b[0m\n\u001b[1;32m---> 16\u001b[1;33m \u001b[0mdiscretized_data\u001b[0m \u001b[1;33m=\u001b[0m \u001b[0mencoder\u001b[0m\u001b[1;33m.\u001b[0m\u001b[0mfit_transform\u001b[0m\u001b[1;33m(\u001b[0m\u001b[0mdata\u001b[0m\u001b[1;33m)\u001b[0m\u001b[1;33m\u001b[0m\u001b[1;33m\u001b[0m\u001b[0m\n\u001b[0m\u001b[0;32m     17\u001b[0m \u001b[1;33m\u001b[0m\u001b[0m\n\u001b[0;32m     18\u001b[0m \u001b[1;31m# Get the transformed data as a 1D array\u001b[0m\u001b[1;33m\u001b[0m\u001b[1;33m\u001b[0m\u001b[0m\n",
      "\u001b[1;32m~\\anaconda3\\lib\\site-packages\\sklearn\\base.py\u001b[0m in \u001b[0;36mfit_transform\u001b[1;34m(self, X, y, **fit_params)\u001b[0m\n\u001b[0;32m    850\u001b[0m         \u001b[1;32mif\u001b[0m \u001b[0my\u001b[0m \u001b[1;32mis\u001b[0m \u001b[1;32mNone\u001b[0m\u001b[1;33m:\u001b[0m\u001b[1;33m\u001b[0m\u001b[1;33m\u001b[0m\u001b[0m\n\u001b[0;32m    851\u001b[0m             \u001b[1;31m# fit method of arity 1 (unsupervised transformation)\u001b[0m\u001b[1;33m\u001b[0m\u001b[1;33m\u001b[0m\u001b[0m\n\u001b[1;32m--> 852\u001b[1;33m             \u001b[1;32mreturn\u001b[0m \u001b[0mself\u001b[0m\u001b[1;33m.\u001b[0m\u001b[0mfit\u001b[0m\u001b[1;33m(\u001b[0m\u001b[0mX\u001b[0m\u001b[1;33m,\u001b[0m \u001b[1;33m**\u001b[0m\u001b[0mfit_params\u001b[0m\u001b[1;33m)\u001b[0m\u001b[1;33m.\u001b[0m\u001b[0mtransform\u001b[0m\u001b[1;33m(\u001b[0m\u001b[0mX\u001b[0m\u001b[1;33m)\u001b[0m\u001b[1;33m\u001b[0m\u001b[1;33m\u001b[0m\u001b[0m\n\u001b[0m\u001b[0;32m    853\u001b[0m         \u001b[1;32melse\u001b[0m\u001b[1;33m:\u001b[0m\u001b[1;33m\u001b[0m\u001b[1;33m\u001b[0m\u001b[0m\n\u001b[0;32m    854\u001b[0m             \u001b[1;31m# fit method of arity 2 (supervised transformation)\u001b[0m\u001b[1;33m\u001b[0m\u001b[1;33m\u001b[0m\u001b[0m\n",
      "\u001b[1;32m~\\anaconda3\\lib\\site-packages\\sklearn\\preprocessing\\_discretization.py\u001b[0m in \u001b[0;36mfit\u001b[1;34m(self, X, y)\u001b[0m\n\u001b[0;32m    178\u001b[0m         \u001b[0mvalid_strategy\u001b[0m \u001b[1;33m=\u001b[0m \u001b[1;33m(\u001b[0m\u001b[1;34m\"uniform\"\u001b[0m\u001b[1;33m,\u001b[0m \u001b[1;34m\"quantile\"\u001b[0m\u001b[1;33m,\u001b[0m \u001b[1;34m\"kmeans\"\u001b[0m\u001b[1;33m)\u001b[0m\u001b[1;33m\u001b[0m\u001b[1;33m\u001b[0m\u001b[0m\n\u001b[0;32m    179\u001b[0m         \u001b[1;32mif\u001b[0m \u001b[0mself\u001b[0m\u001b[1;33m.\u001b[0m\u001b[0mstrategy\u001b[0m \u001b[1;32mnot\u001b[0m \u001b[1;32min\u001b[0m \u001b[0mvalid_strategy\u001b[0m\u001b[1;33m:\u001b[0m\u001b[1;33m\u001b[0m\u001b[1;33m\u001b[0m\u001b[0m\n\u001b[1;32m--> 180\u001b[1;33m             raise ValueError(\n\u001b[0m\u001b[0;32m    181\u001b[0m                 \u001b[1;34m\"Valid options for 'strategy' are {}. \"\u001b[0m\u001b[1;33m\u001b[0m\u001b[1;33m\u001b[0m\u001b[0m\n\u001b[0;32m    182\u001b[0m                 \u001b[1;34m\"Got strategy={!r} instead.\"\u001b[0m\u001b[1;33m.\u001b[0m\u001b[0mformat\u001b[0m\u001b[1;33m(\u001b[0m\u001b[0mvalid_strategy\u001b[0m\u001b[1;33m,\u001b[0m \u001b[0mself\u001b[0m\u001b[1;33m.\u001b[0m\u001b[0mstrategy\u001b[0m\u001b[1;33m)\u001b[0m\u001b[1;33m\u001b[0m\u001b[1;33m\u001b[0m\u001b[0m\n",
      "\u001b[1;31mValueError\u001b[0m: Valid options for 'strategy' are ('uniform', 'quantile', 'kmeans'). Got strategy='entropy' instead."
     ]
    }
   ],
   "source": [
    "from sklearn.preprocessing import KBinsDiscretizer\n",
    "import numpy as np\n",
    "\n",
    "# Generate some example data\n",
    "data = np.array([1.2, 2.4, 3.6, 4.8, 5.0, 6.7, 7.9, 9.1, 10.3])\n",
    "\n",
    "# Reshape the data to have a single feature\n",
    "data = data.reshape(-1, 1)\n",
    "\n",
    "# Create the KBinsDiscretizer object\n",
    "n_bins = 3  # Number of desired bins\n",
    "strategy = 'entropy'  # Discretization strategy\n",
    "encoder = KBinsDiscretizer(n_bins=n_bins, strategy=strategy)\n",
    "\n",
    "# Fit and transform the data\n",
    "discretized_data = encoder.fit_transform(data)\n",
    "\n",
    "# Get the transformed data as a 1D array\n",
    "discretized_data = discretized_data.flatten()\n",
    "\n",
    "# Print the original and discretized data\n",
    "print(\"Original data:\", data.flatten())\n",
    "print(\"Discretized data:\", discretized_data)\n"
   ]
  },
  {
   "cell_type": "code",
   "execution_count": 253,
   "id": "fe3a973a",
   "metadata": {},
   "outputs": [
    {
     "name": "stdout",
     "output_type": "stream",
     "text": [
      "Collecting pyitlibNote: you may need to restart the kernel to use updated packages.\n",
      "\n",
      "  Downloading pyitlib-0.2.3.tar.gz (30 kB)\n",
      "  Preparing metadata (setup.py): started\n",
      "  Preparing metadata (setup.py): finished with status 'done'\n",
      "Requirement already satisfied: pandas>=0.20.2 in c:\\users\\cmigu\\anaconda3\\lib\\site-packages (from pyitlib) (1.4.4)\n",
      "Requirement already satisfied: numpy>=1.9.2 in c:\\users\\cmigu\\anaconda3\\lib\\site-packages (from pyitlib) (1.21.5)\n",
      "Collecting scikit-learn<=0.24,>=0.16.0\n",
      "  Downloading scikit_learn-0.24.0-cp39-cp39-win_amd64.whl (6.9 MB)\n",
      "     ---------------------------------------- 6.9/6.9 MB 2.4 MB/s eta 0:00:00\n",
      "Requirement already satisfied: scipy>=1.0.1 in c:\\users\\cmigu\\anaconda3\\lib\\site-packages (from pyitlib) (1.9.1)\n",
      "Requirement already satisfied: future>=0.16.0 in c:\\users\\cmigu\\anaconda3\\lib\\site-packages (from pyitlib) (0.18.2)\n",
      "Requirement already satisfied: python-dateutil>=2.8.1 in c:\\users\\cmigu\\anaconda3\\lib\\site-packages (from pandas>=0.20.2->pyitlib) (2.8.2)\n",
      "Requirement already satisfied: pytz>=2020.1 in c:\\users\\cmigu\\anaconda3\\lib\\site-packages (from pandas>=0.20.2->pyitlib) (2022.1)\n",
      "Requirement already satisfied: joblib>=0.11 in c:\\users\\cmigu\\anaconda3\\lib\\site-packages (from scikit-learn<=0.24,>=0.16.0->pyitlib) (1.1.0)\n",
      "Requirement already satisfied: threadpoolctl>=2.0.0 in c:\\users\\cmigu\\anaconda3\\lib\\site-packages (from scikit-learn<=0.24,>=0.16.0->pyitlib) (2.2.0)\n",
      "Requirement already satisfied: six>=1.5 in c:\\users\\cmigu\\anaconda3\\lib\\site-packages (from python-dateutil>=2.8.1->pandas>=0.20.2->pyitlib) (1.16.0)\n",
      "Building wheels for collected packages: pyitlib\n",
      "  Building wheel for pyitlib (setup.py): started\n",
      "  Building wheel for pyitlib (setup.py): finished with status 'done'\n",
      "  Created wheel for pyitlib: filename=pyitlib-0.2.3-py3-none-any.whl size=29356 sha256=1437a77a0f86806222da87e9c752ae89e2735c05f6b07513460bcd869685cea0\n",
      "  Stored in directory: c:\\users\\cmigu\\appdata\\local\\pip\\cache\\wheels\\c4\\d1\\dc\\ac69412c0dc60ee3fc207f07b6f15abda55c70b7b3e96315aa\n",
      "Successfully built pyitlib\n",
      "Installing collected packages: scikit-learn, pyitlib\n",
      "  Attempting uninstall: scikit-learn\n",
      "    Found existing installation: scikit-learn 1.0.2\n",
      "    Uninstalling scikit-learn-1.0.2:\n",
      "      Successfully uninstalled scikit-learn-1.0.2\n",
      "Successfully installed pyitlib-0.2.3 scikit-learn-0.24.0\n"
     ]
    }
   ],
   "source": [
    "pip install pyitlib\n"
   ]
  },
  {
   "cell_type": "code",
   "execution_count": 255,
   "id": "ea7baa54",
   "metadata": {},
   "outputs": [
    {
     "ename": "AttributeError",
     "evalue": "module 'pyitlib.discrete_random_variable' has no attribute 'entropy_binning'",
     "output_type": "error",
     "traceback": [
      "\u001b[1;31m---------------------------------------------------------------------------\u001b[0m",
      "\u001b[1;31mAttributeError\u001b[0m                            Traceback (most recent call last)",
      "\u001b[1;32m~\\AppData\\Local\\Temp\\ipykernel_19956\\2977766424.py\u001b[0m in \u001b[0;36m<module>\u001b[1;34m\u001b[0m\n\u001b[0;32m      9\u001b[0m \u001b[1;33m\u001b[0m\u001b[0m\n\u001b[0;32m     10\u001b[0m \u001b[1;31m# Perform entropy-based discretization\u001b[0m\u001b[1;33m\u001b[0m\u001b[1;33m\u001b[0m\u001b[0m\n\u001b[1;32m---> 11\u001b[1;33m \u001b[0mbins\u001b[0m \u001b[1;33m=\u001b[0m \u001b[0mdrv\u001b[0m\u001b[1;33m.\u001b[0m\u001b[0mentropy_binning\u001b[0m\u001b[1;33m(\u001b[0m\u001b[0mdata\u001b[0m\u001b[1;33m,\u001b[0m \u001b[0mn_bins\u001b[0m\u001b[1;33m=\u001b[0m\u001b[0mn_bins\u001b[0m\u001b[1;33m)\u001b[0m\u001b[1;33m\u001b[0m\u001b[1;33m\u001b[0m\u001b[0m\n\u001b[0m\u001b[0;32m     12\u001b[0m \u001b[1;33m\u001b[0m\u001b[0m\n\u001b[0;32m     13\u001b[0m \u001b[1;31m# Discretize the data using the obtained bins\u001b[0m\u001b[1;33m\u001b[0m\u001b[1;33m\u001b[0m\u001b[0m\n",
      "\u001b[1;31mAttributeError\u001b[0m: module 'pyitlib.discrete_random_variable' has no attribute 'entropy_binning'"
     ]
    }
   ],
   "source": [
    "import numpy as np\n",
    "from pyitlib import discrete_random_variable as drv\n",
    "\n",
    "# Generate some example data\n",
    "data = np.array([1.2, 2.4, 3.6, 4.8, 5.0, 6.7, 7.9, 9.1, 10.3])\n",
    "\n",
    "# Define the number of desired bins\n",
    "n_bins = 3\n",
    "\n",
    "# Perform entropy-based discretization\n",
    "bins = drv.entropy_binning(data, n_bins=n_bins)\n",
    "\n",
    "# Discretize the data using the obtained bins\n",
    "discretized_data = np.digitize(data, bins)\n",
    "\n",
    "# Print the original and discretized data\n",
    "print(\"Original data:\", data)\n",
    "print(\"Discretized data:\", discretized_data)\n"
   ]
  },
  {
   "cell_type": "code",
   "execution_count": 256,
   "id": "52d5c1e5",
   "metadata": {},
   "outputs": [
    {
     "name": "stdout",
     "output_type": "stream",
     "text": [
      "Original data: [ 1.2  2.4  3.6  4.8  5.   6.7  7.9  9.1 10.3]\n",
      "Discretized data: [1 1 1 2 2 2 3 3 4]\n",
      "Original entropy: 1.5810937501718234\n",
      "Discretized entropy: 1.310783678099714\n"
     ]
    }
   ],
   "source": [
    "import pandas as pd\n",
    "import numpy as np\n",
    "from scipy.stats import entropy\n",
    "\n",
    "# Generate some example data\n",
    "data = np.array([1.2, 2.4, 3.6, 4.8, 5.0, 6.7, 7.9, 9.1, 10.3])\n",
    "\n",
    "# Define the number of desired bins\n",
    "n_bins = 3\n",
    "\n",
    "# Calculate the entropy of the original data\n",
    "original_entropy = entropy(np.histogram(data, bins='auto')[0])\n",
    "\n",
    "# Perform entropy-based discretization\n",
    "bins = pd.cut(data, bins=n_bins, retbins=True)[1]\n",
    "\n",
    "# Discretize the data using the obtained bins\n",
    "discretized_data = np.digitize(data, bins)\n",
    "\n",
    "# Calculate the entropy of the discretized data\n",
    "discretized_entropy = entropy(np.histogram(discretized_data, bins='auto')[0])\n",
    "\n",
    "# Print the original and discretized data\n",
    "print(\"Original data:\", data)\n",
    "print(\"Discretized data:\", discretized_data)\n",
    "print(\"Original entropy:\", original_entropy)\n",
    "print(\"Discretized entropy:\", discretized_entropy)\n"
   ]
  }
 ],
 "metadata": {
  "kernelspec": {
   "display_name": "Python 3 (ipykernel)",
   "language": "python",
   "name": "python3"
  },
  "language_info": {
   "codemirror_mode": {
    "name": "ipython",
    "version": 3
   },
   "file_extension": ".py",
   "mimetype": "text/x-python",
   "name": "python",
   "nbconvert_exporter": "python",
   "pygments_lexer": "ipython3",
   "version": "3.9.13"
  }
 },
 "nbformat": 4,
 "nbformat_minor": 5
}
