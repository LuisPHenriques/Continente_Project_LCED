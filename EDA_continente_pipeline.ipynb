{
 "cells": [
  {
   "cell_type": "code",
   "execution_count": 3,
   "id": "fceafefe",
   "metadata": {},
   "outputs": [
    {
     "name": "stdout",
     "output_type": "stream",
     "text": [
      "Collecting google-api-python-client"
     ]
    },
    {
     "name": "stderr",
     "output_type": "stream",
     "text": [
      "\n",
      "[notice] A new release of pip is available: 23.0.1 -> 23.1\n",
      "[notice] To update, run: C:\\Users\\paulo.portela\\AppData\\Local\\Microsoft\\WindowsApps\\PythonSoftwareFoundation.Python.3.10_qbz5n2kfra8p0\\python.exe -m pip install --upgrade pip\n"
     ]
    },
    {
     "name": "stdout",
     "output_type": "stream",
     "text": [
      "\n",
      "  Downloading google_api_python_client-2.86.0-py2.py3-none-any.whl (11.3 MB)\n",
      "     ---------------------------------------- 0.0/11.3 MB ? eta -:--:--\n",
      "     ---------------------------------------- 0.1/11.3 MB 1.7 MB/s eta 0:00:07\n",
      "      --------------------------------------- 0.3/11.3 MB 3.1 MB/s eta 0:00:04\n",
      "     -- ------------------------------------- 0.7/11.3 MB 4.7 MB/s eta 0:00:03\n",
      "     ---- ----------------------------------- 1.2/11.3 MB 5.9 MB/s eta 0:00:02\n",
      "     ------ --------------------------------- 1.9/11.3 MB 7.7 MB/s eta 0:00:02\n",
      "     -------- ------------------------------- 2.3/11.3 MB 7.9 MB/s eta 0:00:02\n",
      "     ---------- ----------------------------- 3.1/11.3 MB 8.5 MB/s eta 0:00:01\n",
      "     ------------- -------------------------- 3.8/11.3 MB 8.9 MB/s eta 0:00:01\n",
      "     -------------- ------------------------- 4.1/11.3 MB 8.6 MB/s eta 0:00:01\n",
      "     --------------- ------------------------ 4.3/11.3 MB 8.1 MB/s eta 0:00:01\n",
      "     ---------------- ----------------------- 4.8/11.3 MB 8.0 MB/s eta 0:00:01\n",
      "     -------------------- ------------------- 5.7/11.3 MB 8.8 MB/s eta 0:00:01\n",
      "     ---------------------- ----------------- 6.2/11.3 MB 9.1 MB/s eta 0:00:01\n",
      "     ------------------------ --------------- 6.9/11.3 MB 9.2 MB/s eta 0:00:01\n",
      "     -------------------------- ------------- 7.5/11.3 MB 9.4 MB/s eta 0:00:01\n",
      "     ---------------------------- ----------- 8.1/11.3 MB 9.4 MB/s eta 0:00:01\n",
      "     ------------------------------ --------- 8.6/11.3 MB 9.5 MB/s eta 0:00:01\n",
      "     -------------------------------- ------- 9.1/11.3 MB 9.5 MB/s eta 0:00:01\n",
      "     ----------------------------------- ---- 9.9/11.3 MB 9.7 MB/s eta 0:00:01\n",
      "     ------------------------------------ -- 10.5/11.3 MB 10.2 MB/s eta 0:00:01\n",
      "     --------------------------------------  11.0/11.3 MB 10.6 MB/s eta 0:00:01\n",
      "     --------------------------------------  11.2/11.3 MB 10.4 MB/s eta 0:00:01\n",
      "     --------------------------------------  11.2/11.3 MB 10.4 MB/s eta 0:00:01\n",
      "     ---------------------------------------- 11.3/11.3 MB 9.5 MB/s eta 0:00:00\n",
      "Collecting google-auth-httplib2>=0.1.0\n",
      "  Downloading google_auth_httplib2-0.1.0-py2.py3-none-any.whl (9.3 kB)\n",
      "Collecting uritemplate<5,>=3.0.1\n",
      "  Downloading uritemplate-4.1.1-py2.py3-none-any.whl (10 kB)\n",
      "Collecting httplib2<1dev,>=0.15.0\n",
      "  Downloading httplib2-0.22.0-py3-none-any.whl (96 kB)\n",
      "     ---------------------------------------- 0.0/96.9 kB ? eta -:--:--\n",
      "     ---------------------------------------- 96.9/96.9 kB 2.7 MB/s eta 0:00:00\n",
      "Collecting google-auth<3.0.0dev,>=1.19.0\n",
      "  Downloading google_auth-2.17.3-py2.py3-none-any.whl (178 kB)\n",
      "     ---------------------------------------- 0.0/178.2 kB ? eta -:--:--\n",
      "     -------------------------------------- 178.2/178.2 kB 5.4 MB/s eta 0:00:00\n",
      "Collecting google-api-core!=2.0.*,!=2.1.*,!=2.2.*,!=2.3.0,<3.0.0dev,>=1.31.5\n",
      "  Downloading google_api_core-2.11.0-py3-none-any.whl (120 kB)\n",
      "     ---------------------------------------- 0.0/120.3 kB ? eta -:--:--\n",
      "     ---------------------------------------- 0.0/120.3 kB ? eta -:--:--\n",
      "     ---------------------------------------- 0.0/120.3 kB ? eta -:--:--\n",
      "     -------------------- ------------------- 61.4/120.3 kB ? eta -:--:--\n",
      "     -------------------------------------- 120.3/120.3 kB 6.9 MB/s eta 0:00:00\n",
      "Requirement already satisfied: protobuf!=3.20.0,!=3.20.1,!=4.21.0,!=4.21.1,!=4.21.2,!=4.21.3,!=4.21.4,!=4.21.5,<5.0.0dev,>=3.19.5 in c:\\users\\paulo.portela\\appdata\\local\\packages\\pythonsoftwarefoundation.python.3.10_qbz5n2kfra8p0\\localcache\\local-packages\\python310\\site-packages (from google-api-core!=2.0.*,!=2.1.*,!=2.2.*,!=2.3.0,<3.0.0dev,>=1.31.5->google-api-python-client) (3.20.3)\n",
      "Collecting googleapis-common-protos<2.0dev,>=1.56.2\n",
      "  Downloading googleapis_common_protos-1.59.0-py2.py3-none-any.whl (223 kB)\n",
      "     ---------------------------------------- 0.0/223.6 kB ? eta -:--:--\n",
      "     -------------------------------------- 223.6/223.6 kB 6.7 MB/s eta 0:00:00\n",
      "Collecting requests<3.0.0dev,>=2.18.0\n",
      "  Downloading requests-2.28.2-py3-none-any.whl (62 kB)\n",
      "     ---------------------------------------- 0.0/62.8 kB ? eta -:--:--\n",
      "     ---------------------------------------- 62.8/62.8 kB ? eta 0:00:00\n",
      "Requirement already satisfied: six>=1.9.0 in c:\\users\\paulo.portela\\appdata\\local\\packages\\pythonsoftwarefoundation.python.3.10_qbz5n2kfra8p0\\localcache\\local-packages\\python310\\site-packages (from google-auth<3.0.0dev,>=1.19.0->google-api-python-client) (1.16.0)\n",
      "Collecting cachetools<6.0,>=2.0.0\n",
      "  Downloading cachetools-5.3.0-py3-none-any.whl (9.3 kB)\n",
      "Collecting pyasn1-modules>=0.2.1\n",
      "  Downloading pyasn1_modules-0.2.8-py2.py3-none-any.whl (155 kB)\n",
      "     ---------------------------------------- 0.0/155.3 kB ? eta -:--:--\n",
      "     -------------------------------------- 155.3/155.3 kB 9.1 MB/s eta 0:00:00\n",
      "Collecting rsa<5,>=3.1.4\n",
      "  Downloading rsa-4.9-py3-none-any.whl (34 kB)\n",
      "Requirement already satisfied: pyparsing!=3.0.0,!=3.0.1,!=3.0.2,!=3.0.3,<4,>=2.4.2 in c:\\users\\paulo.portela\\appdata\\local\\packages\\pythonsoftwarefoundation.python.3.10_qbz5n2kfra8p0\\localcache\\local-packages\\python310\\site-packages (from httplib2<1dev,>=0.15.0->google-api-python-client) (3.0.9)\n",
      "Collecting pyasn1<0.5.0,>=0.4.6\n",
      "  Downloading pyasn1-0.4.8-py2.py3-none-any.whl (77 kB)\n",
      "     ---------------------------------------- 0.0/77.1 kB ? eta -:--:--\n",
      "     ---------------------------------------- 77.1/77.1 kB 4.2 MB/s eta 0:00:00\n",
      "Collecting urllib3<1.27,>=1.21.1\n",
      "  Downloading urllib3-1.26.15-py2.py3-none-any.whl (140 kB)\n",
      "     ---------------------------------------- 0.0/140.9 kB ? eta -:--:--\n",
      "     -------------------------------------- 140.9/140.9 kB 8.7 MB/s eta 0:00:00\n",
      "Collecting idna<4,>=2.5\n",
      "  Downloading idna-3.4-py3-none-any.whl (61 kB)\n",
      "     ---------------------------------------- 0.0/61.5 kB ? eta -:--:--\n",
      "     ---------------------------------------- 61.5/61.5 kB 3.4 MB/s eta 0:00:00\n",
      "Collecting charset-normalizer<4,>=2\n",
      "  Downloading charset_normalizer-3.1.0-cp310-cp310-win_amd64.whl (97 kB)\n",
      "     ---------------------------------------- 0.0/97.1 kB ? eta -:--:--\n",
      "     ---------------------------------------- 97.1/97.1 kB 5.4 MB/s eta 0:00:00\n",
      "Collecting certifi>=2017.4.17\n",
      "  Downloading certifi-2022.12.7-py3-none-any.whl (155 kB)\n",
      "     ---------------------------------------- 0.0/155.3 kB ? eta -:--:--\n",
      "     -------------------------------------- 155.3/155.3 kB 4.5 MB/s eta 0:00:00\n",
      "Installing collected packages: pyasn1, urllib3, uritemplate, rsa, pyasn1-modules, idna, httplib2, googleapis-common-protos, charset-normalizer, certifi, cachetools, requests, google-auth, google-auth-httplib2, google-api-core, google-api-python-client\n",
      "Successfully installed cachetools-5.3.0 certifi-2022.12.7 charset-normalizer-3.1.0 google-api-core-2.11.0 google-api-python-client-2.86.0 google-auth-2.17.3 google-auth-httplib2-0.1.0 googleapis-common-protos-1.59.0 httplib2-0.22.0 idna-3.4 pyasn1-0.4.8 pyasn1-modules-0.2.8 requests-2.28.2 rsa-4.9 uritemplate-4.1.1 urllib3-1.26.15\n"
     ]
    }
   ],
   "source": [
    "!pip install --user --upgrade google-api-python-client\n",
    "!pip install --user pandas-gbq -U"
   ]
  },
  {
   "cell_type": "code",
   "execution_count": 1,
   "id": "a1050977",
   "metadata": {},
   "outputs": [],
   "source": [
    "import pandas as pd\n",
    "import pandas_gbq\n",
    "from google.cloud import bigquery\n",
    "%load_ext google.cloud.bigquery\n",
    "# Set your default project here\n",
    "pandas_gbq.context.project = 'bigquery-public-data'\n",
    "pandas_gbq.context.dialect = 'standard'"
   ]
  }
 ],
 "metadata": {
  "kernelspec": {
   "display_name": "Python 3 (ipykernel)",
   "language": "python",
   "name": "python3"
  },
  "language_info": {
   "codemirror_mode": {
    "name": "ipython",
    "version": 3
   },
   "file_extension": ".py",
   "mimetype": "text/x-python",
   "name": "python",
   "nbconvert_exporter": "python",
   "pygments_lexer": "ipython3",
   "version": "3.10.11"
  }
 },
 "nbformat": 4,
 "nbformat_minor": 5
}
